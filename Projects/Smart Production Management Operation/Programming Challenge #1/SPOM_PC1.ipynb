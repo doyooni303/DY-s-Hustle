{
  "nbformat": 4,
  "nbformat_minor": 0,
  "metadata": {
    "colab": {
      "name": "SPOM_PC#1",
      "provenance": [],
      "collapsed_sections": [
        "3XG-FZPPtvOp"
      ]
    },
    "kernelspec": {
      "name": "python3",
      "display_name": "Python 3"
    }
  },
  "cells": [
    {
      "cell_type": "code",
      "metadata": {
        "id": "qD2CpL28d--e"
      },
      "source": [
        "from IPython.display import display\n",
        "import IPython\n",
        "import numpy as np\n",
        "import matplotlib as mpl\n",
        "import matplotlib.pyplot as plt\n",
        "import pandas as pd\n",
        "import scipy as sp\n",
        "import sklearn as skl\n",
        "%matplotlib notebook\n",
        "%matplotlib inline\n",
        "import tensorflow as tf\n",
        "from tensorflow import keras\n",
        "from tensorflow.keras import datasets, layers, models"
      ],
      "execution_count": 1,
      "outputs": []
    },
    {
      "cell_type": "markdown",
      "metadata": {
        "id": "a1JB7OIE0HoH"
      },
      "source": [
        "# Regret-based Algorithm"
      ]
    },
    {
      "cell_type": "code",
      "metadata": {
        "id": "jNBdIT5Ie-iH",
        "outputId": "80e39d50-64dd-4b83-9f1d-4b66fb3b02c9",
        "colab": {
          "base_uri": "https://localhost:8080/",
          "height": 69
        }
      },
      "source": [
        "n = int(input(print('Enter the number of rows in a matrix')))\n",
        "print(n)"
      ],
      "execution_count": 92,
      "outputs": [
        {
          "output_type": "stream",
          "text": [
            "Enter the number of rows in a matrix\n",
            "10\n",
            "10\n"
          ],
          "name": "stdout"
        }
      ]
    },
    {
      "cell_type": "code",
      "metadata": {
        "id": "A0vG9zd5juOu",
        "outputId": "bc97b249-69cc-4937-8b47-eededfda777d",
        "colab": {
          "base_uri": "https://localhost:8080/",
          "height": 209
        }
      },
      "source": [
        "np.random.seed(33)\n",
        "mat=pd.DataFrame(np.random.randint(0,high=50,size=(n,n),dtype=int))\n",
        "for i in range(n):\n",
        "  mat[i][i]=20000\n",
        "print(mat)"
      ],
      "execution_count": 93,
      "outputs": [
        {
          "output_type": "stream",
          "text": [
            "       0      1      2      3      4      5      6      7      8      9\n",
            "0  20000      7     24      2     18      9      3     38     19     14\n",
            "1     42  20000     35     33     13     31     44     39     12     11\n",
            "2     22     16  20000     42     38     16     20     24     40     19\n",
            "3     23      9     35  20000      7     10      3      7     18     17\n",
            "4      3     43     43     22  20000     32     48     44     25     14\n",
            "5     30     26     11      1     49  20000     36     33     11     33\n",
            "6     47     15     14     14     28     40  20000     24     44     28\n",
            "7     21     42      8      0     25     13     23  20000     46     39\n",
            "8     25     22      9     49     43      5     46     10  20000     32\n",
            "9     19     43     32     16     41     48     28     10      4  20000\n"
          ],
          "name": "stdout"
        }
      ]
    },
    {
      "cell_type": "code",
      "metadata": {
        "id": "Ejudd_wMkK4O",
        "outputId": "44978522-3589-4010-f276-6b1d2883482c",
        "colab": {
          "base_uri": "https://localhost:8080/",
          "height": 191
        }
      },
      "source": [
        "#assign initial job list\n",
        "row_job = np.arange(n) + 1 #+1 for real job number\n",
        "col_job = np.arange(n) + 1 #+1 for real job number\n",
        "#substract row_min from mat\n",
        "pat = np.array(mat)\n",
        "\n",
        "print(pat)"
      ],
      "execution_count": 96,
      "outputs": [
        {
          "output_type": "stream",
          "text": [
            "[[20000     7    24     2    18     9     3    38    19    14]\n",
            " [   42 20000    35    33    13    31    44    39    12    11]\n",
            " [   22    16 20000    42    38    16    20    24    40    19]\n",
            " [   23     9    35 20000     7    10     3     7    18    17]\n",
            " [    3    43    43    22 20000    32    48    44    25    14]\n",
            " [   30    26    11     1    49 20000    36    33    11    33]\n",
            " [   47    15    14    14    28    40 20000    24    44    28]\n",
            " [   21    42     8     0    25    13    23 20000    46    39]\n",
            " [   25    22     9    49    43     5    46    10 20000    32]\n",
            " [   19    43    32    16    41    48    28    10     4 20000]]\n"
          ],
          "name": "stdout"
        }
      ]
    },
    {
      "cell_type": "code",
      "metadata": {
        "id": "GiM8jYVdljB5"
      },
      "source": [
        "# 스택을 이용하여 job index를 행, 열 번호와 상관없이 유지한다.\n",
        "stack = np.zeros((n*2))\n",
        "def stack_push_jobs(top, element):\n",
        "  if top == -1:#empty stack\n",
        "    stack[top+1] = element #[rowjob,coljob]\n",
        "    return top + 1\n",
        "\n",
        "  if stack[top] != element: # 현재 top # 이미 있는 거랑 중복이 아니면\n",
        "    stack[top+1] = element\n",
        "    return top + 1\n",
        "  else:\n",
        "    return top"
      ],
      "execution_count": 97,
      "outputs": []
    },
    {
      "cell_type": "code",
      "metadata": {
        "id": "IWhTInmomi3-"
      },
      "source": [
        "#step 0 : Cmax를 비롯한 변수 초기화 & step 반복문 생성\n",
        "new_n = n\n",
        "Cmax = 0\n",
        "top = -1\n",
        "# for al_iter in range(n):"
      ],
      "execution_count": 98,
      "outputs": []
    },
    {
      "cell_type": "markdown",
      "metadata": {
        "id": "3XG-FZPPtvOp"
      },
      "source": [
        "## step by step"
      ]
    },
    {
      "cell_type": "code",
      "metadata": {
        "id": "qcjM94Mfncym",
        "outputId": "cd2b4a7e-5e3f-4220-9975-a5536d453279",
        "colab": {
          "base_uri": "https://localhost:8080/",
          "height": 191
        }
      },
      "source": [
        "#<step 1> 각 행과 열의 최솟값 row_min과 col_min을 구해서 Cmax와 행렬 pat을 갱신\n",
        "row_min = np.amin(pat, axis = 1)\n",
        "for i in range(new_n):\n",
        "  pat[i] = pat[i] - row_min[i]\n",
        "#substract col_min from mat\n",
        "col_min = np.amin(pat, axis = 0)\n",
        "pat = pat - col_min\n",
        "#calculate value of Cmax\n",
        "for i in range(new_n):\n",
        "  Cmax += row_min[i] + col_min[i]\n",
        "  print(f\"Cmax{i+1}: {Cmax}\")\n",
        "\n"
      ],
      "execution_count": 30,
      "outputs": [
        {
          "output_type": "stream",
          "text": [
            "Cmax1: 2\n",
            "Cmax2: 13\n",
            "Cmax3: 29\n",
            "Cmax4: 32\n",
            "Cmax5: 37\n",
            "Cmax6: 38\n",
            "Cmax7: 48\n",
            "Cmax8: 52\n",
            "Cmax9: 57\n",
            "Cmax10: 61\n"
          ],
          "name": "stdout"
        }
      ]
    },
    {
      "cell_type": "code",
      "metadata": {
        "id": "O9xj3MZGpNVz",
        "outputId": "674d8883-024f-4498-e5fd-6f7bd36f1ed2",
        "colab": {
          "base_uri": "https://localhost:8080/",
          "height": 191
        }
      },
      "source": [
        "regret_mat = np.zeros((new_n,new_n))\n",
        "row_regret_min = 0\n",
        "col_regret_min = 0\n",
        "for i in range(new_n):\n",
        "  for j in range(new_n):\n",
        "    if(pat[i,j] == 0):\n",
        "      row_regret_min = 30000000\n",
        "      col_regret_min = 30000000\n",
        "      for k in range(new_n): #i빼고 col min 구하기\n",
        "        if((k != i) & (pat[k,j] < col_regret_min)):\n",
        "          col_regret_min = pat[k,j]\n",
        "          #print(col_regret_min)\n",
        "        if((k != j) & (pat[i,k] < row_regret_min)):\n",
        "          row_regret_min = pat[i,k]\n",
        "          #print(row_regret_min)\n",
        "        regret_mat[i,j] = row_regret_min + col_regret_min\n",
        "print(regret_mat)"
      ],
      "execution_count": 32,
      "outputs": [
        {
          "output_type": "stream",
          "text": [
            "[[ 0.  0.  0.  1.  0.  0.  0.  0.  0.  0.]\n",
            " [ 0.  0.  0.  0.  2.  0.  0.  0.  0.  3.]\n",
            " [ 0.  5.  4.  0.  0.  0.  0.  0.  0.  0.]\n",
            " [ 0.  0.  0.  0.  0.  0.  0.  1.  0.  0.]\n",
            " [17.  0.  0.  0.  0.  0.  0.  0.  0.  0.]\n",
            " [ 0.  0.  0. 10.  0.  0.  0.  0.  0.  0.]\n",
            " [ 0.  0.  0.  0.  0.  0.  4.  0.  0.  0.]\n",
            " [ 0.  0.  0.  8.  0.  0.  0.  0.  0.  0.]\n",
            " [ 0.  0.  0.  0.  0.  1.  0.  0.  0.  0.]\n",
            " [ 0.  0.  0.  0.  0.  0.  0.  0.  3.  0.]]\n"
          ],
          "name": "stdout"
        }
      ]
    },
    {
      "cell_type": "code",
      "metadata": {
        "id": "eK8uAmWGppLH",
        "outputId": "516371af-1845-4249-db17-bfcc0b76a84e",
        "colab": {
          "base_uri": "https://localhost:8080/",
          "height": 34
        }
      },
      "source": [
        "idx = np.unravel_index(np.argmax(regret_mat, axis=None), regret_mat.shape)\n",
        "print(idx,regret_mat[idx])"
      ],
      "execution_count": 35,
      "outputs": [
        {
          "output_type": "stream",
          "text": [
            "(4, 0) 17.0\n"
          ],
          "name": "stdout"
        }
      ]
    },
    {
      "cell_type": "code",
      "metadata": {
        "id": "2571LjowqCfz",
        "outputId": "bafbcebc-50e5-4fe2-cb61-4b65d02ffe44",
        "colab": {
          "base_uri": "https://localhost:8080/",
          "height": 86
        }
      },
      "source": [
        "# <step 4-1> job을 배치하고 배치한 job들의 반대 순서쌍에 infinite 부여\n",
        "assigned_row_job = row_job[idx[0]]\n",
        "assigned_col_job = col_job[idx[1]]\n",
        "print(\"assigned_row_job: \", assigned_row_job)\n",
        "print(\"assigned_col_job: \", assigned_col_job)\n",
        "#stack push\n",
        "top = stack_push_jobs(top, assigned_row_job)\n",
        "top = stack_push_jobs(top, assigned_col_job)\n",
        "idx1 = np.where(row_job == assigned_col_job) #top\n",
        "idx2 = np.where(col_job == assigned_row_job) #top -1\n",
        "print(\"idx1: \", idx1)\n",
        "print(\"idx2: \", idx2)\n",
        "\n",
        "\n",
        "\n"
      ],
      "execution_count": 36,
      "outputs": [
        {
          "output_type": "stream",
          "text": [
            "assigned_row_job:  5\n",
            "assigned_col_job:  1\n",
            "idx1:  (array([0]),)\n",
            "idx2:  (array([4]),)\n"
          ],
          "name": "stdout"
        }
      ]
    },
    {
      "cell_type": "code",
      "metadata": {
        "id": "-EIXhaaoqxE7",
        "outputId": "fe731364-b5db-48fb-ca84-83e88f1c4709",
        "colab": {
          "base_uri": "https://localhost:8080/",
          "height": 436
        }
      },
      "source": [
        "# 순서쌍이 서로 연결되지 않을 경우 예외처리\n",
        "tmp1 = np.array(idx1)\n",
        "tmp2 = np.array(idx2)\n",
        "print(tmp1.shape)\n",
        "print(tmp2.shape)\n",
        "if tmp1.shape == (1,0):\n",
        "  idx1 = np.where(row_job == stack[top-1])\n",
        "  idx2 = np.where(col_job == stack[top-2])\n",
        "\n",
        "if tmp2.shape == (1,0):\n",
        "  idx2 = np.where(col_job == stack[top-2])\n",
        "\n",
        "print(\"idx1: \", idx1)\n",
        "print(\"idx2: \", idx2)\n",
        "pat[idx1,idx2] = 30000000\n",
        "print(row_job)\n",
        "print(col_job)"
      ],
      "execution_count": 38,
      "outputs": [
        {
          "output_type": "stream",
          "text": [
            "(1, 1)\n",
            "(1, 1)\n",
            "idx1:  (array([0]),)\n",
            "idx2:  (array([4]),)\n",
            "[[      18        5       22        0 30000000        7        1       32\n",
            "        17       12]\n",
            " [      31       34       24       22        0       20       33       24\n",
            "         1        0]\n",
            " [       6        0        0       26       20        0        4        4\n",
            "        24        3]\n",
            " [      20        6       32       16        2        7        0        0\n",
            "        15       14]\n",
            " [       0       40       40       19       21       29       45       37\n",
            "        22       11]\n",
            " [      29       25       10        0       46       14       35       28\n",
            "        10       32]\n",
            " [      37        5        4        4       16       30        0       10\n",
            "        34       18]\n",
            " [      21       42        8        0       23       13       23       43\n",
            "        46       39]\n",
            " [      20       17        4       44       36        0       41        1\n",
            "        22       27]\n",
            " [      15       39       28       12       35       44       24        2\n",
            "         0        4]]\n"
          ],
          "name": "stdout"
        }
      ]
    },
    {
      "cell_type": "code",
      "metadata": {
        "id": "fW_jXHHWqotK",
        "outputId": "997e3ded-9540-4766-90a4-fbb3e59fa0e3",
        "colab": {
          "base_uri": "https://localhost:8080/",
          "height": 366
        }
      },
      "source": [
        "#<step 4-2> 해당 index를 job list에서 삭제하고 setup time 행렬에서도 삭제\n",
        "row_job = np.delete(row_job, idx[0])\n",
        "col_job = np.delete(col_job, idx[1])\n",
        "\n",
        "pat = np.delete(pat, idx[0], 0)\n",
        "pat = np.delete(pat, idx[1], 1)\n",
        "pat #reduced matrix\n",
        "print(pat)\n",
        "new_n = new_n - 1\n",
        "#이 후 다시 step 1로 돌아와서 반복"
      ],
      "execution_count": 41,
      "outputs": [
        {
          "output_type": "stream",
          "text": [
            "[ 1  2  3  4  6  7  8  9 10]\n",
            "[ 2  3  4  5  6  7  8  9 10]\n",
            "[[       5       22        0 30000000        7        1       32       17\n",
            "        12]\n",
            " [      34       24       22        0       20       33       24        1\n",
            "         0]\n",
            " [       0        0       26       20        0        4        4       24\n",
            "         3]\n",
            " [       6       32       16        2        7        0        0       15\n",
            "        14]\n",
            " [      25       10        0       46       14       35       28       10\n",
            "        32]\n",
            " [       5        4        4       16       30        0       10       34\n",
            "        18]\n",
            " [      42        8        0       23       13       23       43       46\n",
            "        39]\n",
            " [      17        4       44       36        0       41        1       22\n",
            "        27]\n",
            " [      39       28       12       35       44       24        2        0\n",
            "         4]]\n"
          ],
          "name": "stdout"
        }
      ]
    },
    {
      "cell_type": "markdown",
      "metadata": {
        "id": "Dd3B1QbktyH-"
      },
      "source": [
        "## All at once"
      ]
    },
    {
      "cell_type": "code",
      "metadata": {
        "id": "2R03pA0wrfD0",
        "outputId": "b290de5b-6a76-497b-bb0a-28e7a0b95241",
        "colab": {
          "base_uri": "https://localhost:8080/",
          "height": 1000
        }
      },
      "source": [
        "for al_iter in range(n):\n",
        "  print(f'[Iter {al_iter+1}]')\n",
        "  row_min = np.amin(pat, axis = 1)\n",
        "  for i in range(new_n):\n",
        "    pat[i] = pat[i] - row_min[i]\n",
        "    #substract col_min from mat\n",
        "  col_min = np.amin(pat, axis = 0)\n",
        "  pat = pat - col_min\n",
        "    #calculate value of Cmax\n",
        "  for i in range(new_n):\n",
        "    Cmax += row_min[i] + col_min[i]\n",
        "  print(f\"1. Cmax: {Cmax}\")\n",
        "  regret_mat = np.zeros((new_n,new_n))\n",
        "  row_regret_min = 0\n",
        "  col_regret_min = 0\n",
        "  for i in range(new_n):\n",
        "    for j in range(new_n):\n",
        "      if(pat[i,j] == 0):\n",
        "        row_regret_min = 30000000\n",
        "        col_regret_min = 30000000\n",
        "        for k in range(new_n): #i빼고 col min 구하기\n",
        "          if((k != i) & (pat[k,j] < col_regret_min)):\n",
        "            col_regret_min = pat[k,j]\n",
        "          #print(col_regret_min)\n",
        "          if((k != j) & (pat[i,k] < row_regret_min)):\n",
        "            row_regret_min = pat[i,k]\n",
        "          #print(row_regret_min)\n",
        "        regret_mat[i,j] = row_regret_min + col_regret_min\n",
        "        #print(regret_mat)\n",
        "  idx = np.unravel_index(np.argmax(regret_mat, axis=None), regret_mat.shape)\n",
        "  #print(f'{idx}')\n",
        "  assigned_row_job = row_job[idx[0]]\n",
        "  assigned_col_job = col_job[idx[1]]\n",
        "  print('2.Assigned Job Index')\n",
        "  print(\"assigned_row_job: \", assigned_row_job , \"/ assigned_col_job: \", assigned_col_job)\n",
        "    #stack push\n",
        "  top = stack_push_jobs(top, assigned_row_job)\n",
        "  top = stack_push_jobs(top, assigned_col_job)\n",
        "  idx1 = np.where(row_job == assigned_col_job) #top\n",
        "  idx2 = np.where(col_job == assigned_row_job) #top -1\n",
        "  print('3. Stack 내 top index')\n",
        "  print(\"idx1: \", idx1,\"/ idx2: \", idx2)\n",
        "  \n",
        "  # 순서쌍이 서로 연결되지 않을 경우 예외처리\n",
        "  tmp1 = np.array(idx1)\n",
        "  tmp2 = np.array(idx2)\n",
        "  print(tmp1.shape)\n",
        "  print(tmp2.shape)\n",
        "  if tmp1.shape == (1,0):\n",
        "    print('#예외처리')\n",
        "    idx1 = np.where(row_job == stack[top-1])\n",
        "    idx2 = np.where(col_job == stack[top-2])\n",
        "    print(\"idx1: \", idx1)\n",
        "\n",
        "  if tmp2.shape == (1,0):\n",
        "    idx2 = np.where(col_job == stack[top-2])\n",
        "    print(\"idx2: \", idx2)\n",
        "\n",
        "  \n",
        "  \n",
        "  pat[idx1,idx2] = 30000000\n",
        "  print('4. Assigned job 제거 확인')\n",
        "  print(f'Current_row_job : {row_job}')\n",
        "  print(f'Current_col_job : {col_job}')\n",
        "  row_job = np.delete(row_job, idx[0])\n",
        "  col_job = np.delete(col_job, idx[1])\n",
        "  print(f'Deleted_row_job : {row_job}')\n",
        "  print(f'Deleted_col_job : {col_job}')\n",
        "\n",
        "  print('5. Assigned job 제거 후 setup time 행렬(pat)')\n",
        "  pat = np.delete(pat, idx[0], 0)\n",
        "  pat = np.delete(pat, idx[1], 1)\n",
        "  print(pd.DataFrame(pat,index=row_job,columns=col_job))\n",
        "\n",
        "  print('----------------------------------------------------------------------------------')\n",
        "  new_n = new_n - 1"
      ],
      "execution_count": 99,
      "outputs": [
        {
          "output_type": "stream",
          "text": [
            "[Iter 1]\n",
            "1. Cmax: 65\n",
            "2.Assigned Job Index\n",
            "assigned_row_job:  5 / assigned_col_job:  1\n",
            "3. Stack 내 top index\n",
            "idx1:  (array([0]),) / idx2:  (array([4]),)\n",
            "(1, 1)\n",
            "(1, 1)\n",
            "4. Assigned job 제거 확인\n",
            "Current_row_job : [ 1  2  3  4  5  6  7  8  9 10]\n",
            "Current_col_job : [ 1  2  3  4  5  6  7  8  9 10]\n",
            "Deleted_row_job : [ 1  2  3  4  6  7  8  9 10]\n",
            "Deleted_col_job : [ 2  3  4  5  6  7  8  9 10]\n",
            "5. Assigned job 제거 후 setup time 행렬(pat)\n",
            "       2      3      4         5      6      7      8      9      10\n",
            "1       5     22      0  30000000      7      1     32     17     12\n",
            "2   19989     24     22         0     20     33     24      1      0\n",
            "3       0  19984     26        20      0      4      4     24      3\n",
            "4       6     32  19997         2      7      0      0     15     14\n",
            "6      25     10      0        46  19999     35     28     10     32\n",
            "7       1      0      0        12     26  19986      6     30     14\n",
            "8      42      8      0        23     13     23  19996     46     39\n",
            "9      17      4     44        36      0     41      1  19995     27\n",
            "10     39     28     12        35     44     24      2      0  19996\n",
            "----------------------------------------------------------------------------------\n",
            "[Iter 2]\n",
            "1. Cmax: 65\n",
            "2.Assigned Job Index\n",
            "assigned_row_job:  6 / assigned_col_job:  4\n",
            "3. Stack 내 top index\n",
            "idx1:  (array([3]),) / idx2:  (array([4]),)\n",
            "(1, 1)\n",
            "(1, 1)\n",
            "4. Assigned job 제거 확인\n",
            "Current_row_job : [ 1  2  3  4  6  7  8  9 10]\n",
            "Current_col_job : [ 2  3  4  5  6  7  8  9 10]\n",
            "Deleted_row_job : [ 1  2  3  4  7  8  9 10]\n",
            "Deleted_col_job : [ 2  3  5  6  7  8  9 10]\n",
            "5. Assigned job 제거 후 setup time 행렬(pat)\n",
            "       2      3         5         6      7      8      9      10\n",
            "1       5     22  30000000         7      1     32     17     12\n",
            "2   19989     24         0        20     33     24      1      0\n",
            "3       0  19984        20         0      4      4     24      3\n",
            "4       6     32         2  30000000      0      0     15     14\n",
            "7       1      0        12        26  19986      6     30     14\n",
            "8      42      8        23        13     23  19996     46     39\n",
            "9      17      4        36         0     41      1  19995     27\n",
            "10     39     28        35        44     24      2      0  19996\n",
            "----------------------------------------------------------------------------------\n",
            "[Iter 3]\n",
            "1. Cmax: 74\n",
            "2.Assigned Job Index\n",
            "assigned_row_job:  8 / assigned_col_job:  3\n",
            "3. Stack 내 top index\n",
            "idx1:  (array([2]),) / idx2:  (array([5]),)\n",
            "(1, 1)\n",
            "(1, 1)\n",
            "4. Assigned job 제거 확인\n",
            "Current_row_job : [ 1  2  3  4  7  8  9 10]\n",
            "Current_col_job : [ 2  3  5  6  7  8  9 10]\n",
            "Deleted_row_job : [ 1  2  3  4  7  9 10]\n",
            "Deleted_col_job : [ 2  5  6  7  8  9 10]\n",
            "5. Assigned job 제거 후 setup time 행렬(pat)\n",
            "       2         5         6      7         8      9      10\n",
            "1       4  29999999         6      0        31     16     11\n",
            "2   19989         0        20     33        24      1      0\n",
            "3       0        20         0      4  30000000     24      3\n",
            "4       6         2  30000000      0         0     15     14\n",
            "7       1        12        26  19986         6     30     14\n",
            "9      17        36         0     41         1  19995     27\n",
            "10     39        35        44     24         2      0  19996\n",
            "----------------------------------------------------------------------------------\n",
            "[Iter 4]\n",
            "1. Cmax: 75\n",
            "2.Assigned Job Index\n",
            "assigned_row_job:  7 / assigned_col_job:  2\n",
            "3. Stack 내 top index\n",
            "idx1:  (array([1]),) / idx2:  (array([3]),)\n",
            "(1, 1)\n",
            "(1, 1)\n",
            "4. Assigned job 제거 확인\n",
            "Current_row_job : [ 1  2  3  4  7  9 10]\n",
            "Current_col_job : [ 2  5  6  7  8  9 10]\n",
            "Deleted_row_job : [ 1  2  3  4  9 10]\n",
            "Deleted_col_job : [ 5  6  7  8  9 10]\n",
            "5. Assigned job 제거 후 setup time 행렬(pat)\n",
            "          5         6         7         8      9      10\n",
            "1   29999999         6         0        31     16     11\n",
            "2          0        20  30000000        24      1      0\n",
            "3         20         0         4  30000000     24      3\n",
            "4          2  30000000         0         0     15     14\n",
            "9         36         0        41         1  19995     27\n",
            "10        35        44        24         2      0  19996\n",
            "----------------------------------------------------------------------------------\n",
            "[Iter 5]\n",
            "1. Cmax: 75\n",
            "2.Assigned Job Index\n",
            "assigned_row_job:  1 / assigned_col_job:  7\n",
            "3. Stack 내 top index\n",
            "idx1:  (array([], dtype=int64),) / idx2:  (array([], dtype=int64),)\n",
            "(1, 0)\n",
            "(1, 0)\n",
            "#예외처리\n",
            "idx1:  (array([0]),)\n",
            "idx2:  (array([], dtype=int64),)\n",
            "4. Assigned job 제거 확인\n",
            "Current_row_job : [ 1  2  3  4  9 10]\n",
            "Current_col_job : [ 5  6  7  8  9 10]\n",
            "Deleted_row_job : [ 2  3  4  9 10]\n",
            "Deleted_col_job : [ 5  6  8  9 10]\n",
            "5. Assigned job 제거 후 setup time 행렬(pat)\n",
            "    5         6         8      9      10\n",
            "2    0        20        24      1      0\n",
            "3   20         0  30000000     24      3\n",
            "4    2  30000000         0     15     14\n",
            "9   36         0         1  19995     27\n",
            "10  35        44         2      0  19996\n",
            "----------------------------------------------------------------------------------\n",
            "[Iter 6]\n",
            "1. Cmax: 75\n",
            "2.Assigned Job Index\n",
            "assigned_row_job:  2 / assigned_col_job:  10\n",
            "3. Stack 내 top index\n",
            "idx1:  (array([4]),) / idx2:  (array([], dtype=int64),)\n",
            "(1, 1)\n",
            "(1, 0)\n",
            "idx2:  (array([], dtype=int64),)\n",
            "4. Assigned job 제거 확인\n",
            "Current_row_job : [ 2  3  4  9 10]\n",
            "Current_col_job : [ 5  6  8  9 10]\n",
            "Deleted_row_job : [ 3  4  9 10]\n",
            "Deleted_col_job : [5 6 8 9]\n",
            "5. Assigned job 제거 후 setup time 행렬(pat)\n",
            "     5         6         8      9\n",
            "3   20         0  30000000     24\n",
            "4    2  30000000         0     15\n",
            "9   36         0         1  19995\n",
            "10  35        44         2      0\n",
            "----------------------------------------------------------------------------------\n",
            "[Iter 7]\n",
            "1. Cmax: 77\n",
            "2.Assigned Job Index\n",
            "assigned_row_job:  3 / assigned_col_job:  6\n",
            "3. Stack 내 top index\n",
            "idx1:  (array([], dtype=int64),) / idx2:  (array([], dtype=int64),)\n",
            "(1, 0)\n",
            "(1, 0)\n",
            "#예외처리\n",
            "idx1:  (array([0]),)\n",
            "idx2:  (array([], dtype=int64),)\n",
            "4. Assigned job 제거 확인\n",
            "Current_row_job : [ 3  4  9 10]\n",
            "Current_col_job : [5 6 8 9]\n",
            "Deleted_row_job : [ 4  9 10]\n",
            "Deleted_col_job : [5 8 9]\n",
            "5. Assigned job 제거 후 setup time 행렬(pat)\n",
            "     5  8      9\n",
            "4    0  0     15\n",
            "9   34  1  19995\n",
            "10  33  2      0\n",
            "----------------------------------------------------------------------------------\n",
            "[Iter 8]\n",
            "1. Cmax: 78\n",
            "2.Assigned Job Index\n",
            "assigned_row_job:  4 / assigned_col_job:  5\n",
            "3. Stack 내 top index\n",
            "idx1:  (array([], dtype=int64),) / idx2:  (array([], dtype=int64),)\n",
            "(1, 0)\n",
            "(1, 0)\n",
            "#예외처리\n",
            "idx1:  (array([0]),)\n",
            "idx2:  (array([], dtype=int64),)\n",
            "4. Assigned job 제거 확인\n",
            "Current_row_job : [ 4  9 10]\n",
            "Current_col_job : [5 8 9]\n",
            "Deleted_row_job : [ 9 10]\n",
            "Deleted_col_job : [8 9]\n",
            "5. Assigned job 제거 후 setup time 행렬(pat)\n",
            "    8      9\n",
            "9   0  19994\n",
            "10  2      0\n",
            "----------------------------------------------------------------------------------\n",
            "[Iter 9]\n",
            "1. Cmax: 78\n",
            "2.Assigned Job Index\n",
            "assigned_row_job:  9 / assigned_col_job:  8\n",
            "3. Stack 내 top index\n",
            "idx1:  (array([], dtype=int64),) / idx2:  (array([1]),)\n",
            "(1, 0)\n",
            "(1, 1)\n",
            "#예외처리\n",
            "idx1:  (array([0]),)\n",
            "4. Assigned job 제거 확인\n",
            "Current_row_job : [ 9 10]\n",
            "Current_col_job : [8 9]\n",
            "Deleted_row_job : [10]\n",
            "Deleted_col_job : [9]\n",
            "5. Assigned job 제거 후 setup time 행렬(pat)\n",
            "    9\n",
            "10  0\n",
            "----------------------------------------------------------------------------------\n",
            "[Iter 10]\n",
            "1. Cmax: 78\n",
            "2.Assigned Job Index\n",
            "assigned_row_job:  10 / assigned_col_job:  9\n",
            "3. Stack 내 top index\n",
            "idx1:  (array([], dtype=int64),) / idx2:  (array([], dtype=int64),)\n",
            "(1, 0)\n",
            "(1, 0)\n",
            "#예외처리\n",
            "idx1:  (array([0]),)\n",
            "idx2:  (array([], dtype=int64),)\n",
            "4. Assigned job 제거 확인\n",
            "Current_row_job : [10]\n",
            "Current_col_job : [9]\n",
            "Deleted_row_job : []\n",
            "Deleted_col_job : []\n",
            "5. Assigned job 제거 후 setup time 행렬(pat)\n",
            "Empty DataFrame\n",
            "Columns: []\n",
            "Index: []\n",
            "----------------------------------------------------------------------------------\n"
          ],
          "name": "stdout"
        }
      ]
    },
    {
      "cell_type": "code",
      "metadata": {
        "id": "limWB-0JtC9H"
      },
      "source": [
        ""
      ],
      "execution_count": null,
      "outputs": []
    },
    {
      "cell_type": "markdown",
      "metadata": {
        "id": "25PBGywv7SAf"
      },
      "source": [
        "# Branch and bound method with regret-based bounding technique"
      ]
    },
    {
      "cell_type": "code",
      "metadata": {
        "id": "9g7exbf37OFm",
        "outputId": "ff70dbef-a317-4c5b-faa0-0e634de2e055",
        "colab": {
          "base_uri": "https://localhost:8080/",
          "height": 69
        }
      },
      "source": [
        "n = int(input(print('Enter the number of rows in a matrix')))\n",
        "print(n)"
      ],
      "execution_count": 113,
      "outputs": [
        {
          "output_type": "stream",
          "text": [
            "Enter the number of rows in a matrix\n",
            "10\n",
            "10\n"
          ],
          "name": "stdout"
        }
      ]
    },
    {
      "cell_type": "code",
      "metadata": {
        "id": "0Mxmto8S7OFr",
        "outputId": "1fa5dc78-c276-4134-fbf6-2ede7f456446",
        "colab": {
          "base_uri": "https://localhost:8080/",
          "height": 209
        }
      },
      "source": [
        "np.random.seed(33)\n",
        "mat=pd.DataFrame(np.random.randint(0,high=50,size=(n,n),dtype=int))\n",
        "for i in range(n):\n",
        "  mat[i][i]=20000\n",
        "mat.index=range(1,11)\n",
        "mat.columns=range(1,11)\n",
        "print(mat)"
      ],
      "execution_count": 122,
      "outputs": [
        {
          "output_type": "stream",
          "text": [
            "       1      2      3      4      5      6      7      8      9      10\n",
            "1   20000      7     24      2     18      9      3     38     19     14\n",
            "2      42  20000     35     33     13     31     44     39     12     11\n",
            "3      22     16  20000     42     38     16     20     24     40     19\n",
            "4      23      9     35  20000      7     10      3      7     18     17\n",
            "5       3     43     43     22  20000     32     48     44     25     14\n",
            "6      30     26     11      1     49  20000     36     33     11     33\n",
            "7      47     15     14     14     28     40  20000     24     44     28\n",
            "8      21     42      8      0     25     13     23  20000     46     39\n",
            "9      25     22      9     49     43      5     46     10  20000     32\n",
            "10     19     43     32     16     41     48     28     10      4  20000\n"
          ],
          "name": "stdout"
        }
      ]
    },
    {
      "cell_type": "code",
      "metadata": {
        "id": "q65x2Yq571WI"
      },
      "source": [
        "def init(n, mat):\n",
        "#initiate variables\n",
        "  Lower_bound = 0\n",
        "  Cmax = 0\n",
        "#assign initial job list\n",
        "  row_job = np.arange(n) + 1 #+1 for real job number\n",
        "  col_job = np.arange(n) + 1 #+1 for real job number\n",
        "#substract row_min from mat\n",
        "  pat = np.array(mat)\n",
        "  return row_job, col_job, pat, Lower_bound, Cmax"
      ],
      "execution_count": 78,
      "outputs": []
    },
    {
      "cell_type": "code",
      "metadata": {
        "id": "t0CXheWS8KE6"
      },
      "source": [
        "def stack_push_jobs(top, element):\n",
        "  if top == -1:#empty stack\n",
        "    stack[top+1] = element #[rowjob,coljob]\n",
        "    return top + 1\n",
        "  if stack[top] != element: # 현재 top # 이미 있는 거랑 중복이 아니면\n",
        "    stack[top+1] = element\n",
        "    return top + 1\n",
        "  else:\n",
        "    return top"
      ],
      "execution_count": 79,
      "outputs": []
    },
    {
      "cell_type": "code",
      "metadata": {
        "id": "UJtTOlc88VnI"
      },
      "source": [
        "def reduce_matrix(pat, new_n, Cmax):\n",
        "  row_min = np.amin(pat, axis = 1)\n",
        "  for i in range(new_n):\n",
        "    pat[i] = pat[i] - row_min[i]\n",
        "  #substract col_min from mat\n",
        "  col_min = np.amin(pat, axis = 0)\n",
        "  pat = pat - col_min\n",
        "  #calculate value of Cmax\n",
        "  for i in range(new_n):\n",
        "    Cmax += row_min[i] + col_min[i]\n",
        "  return pat, Cmax"
      ],
      "execution_count": 80,
      "outputs": []
    },
    {
      "cell_type": "code",
      "metadata": {
        "id": "yIS7P6xf8y-x"
      },
      "source": [
        "def calculate_regret(pat, new_n):\n",
        "#regret matrix\n",
        "  regret_mat = np.zeros((new_n,new_n))\n",
        "  row_regret_min = 0\n",
        "  col_regret_min = 0\n",
        "  for i in range(new_n):\n",
        "    for j in range(new_n):\n",
        "      if pat[i,j] == 0:\n",
        "        row_regret_min = 30000000\n",
        "        col_regret_min = 30000000\n",
        "        for k in range(new_n): #i빼고 colum min 구하기\n",
        "          if (k != i) & (pat[k,j] < col_regret_min):\n",
        "            col_regret_min = pat[k,j]\n",
        "            #print(col_regret_min)\n",
        "          if (k != j) & (pat[i,k] < row_regret_min):\n",
        "            row_regret_min = pat[i,k]\n",
        "            #print(row_regret_min)\n",
        "        regret_mat[i,j] = row_regret_min + col_regret_min\n",
        "\n",
        "  idx = np.unravel_index(np.argmax(regret_mat, axis=None), regret_mat.shape)\n",
        "  max_regret = regret_mat[idx]\n",
        "\n",
        "  return regret_mat, max_regret"
      ],
      "execution_count": 81,
      "outputs": []
    },
    {
      "cell_type": "code",
      "metadata": {
        "id": "n0lxh-xU9bhB"
      },
      "source": [
        "def push_nodes(regret_mat, Cmax, max_regret, job_top, lb_top, job_stack, lower_bound_stack):\n",
        "#max regret에 해당하는 job 순서쌍 2개 job stack에 push하고,(not이랑 yes 둘다) / Lower bound\n",
        "#stack에도 삽입하기\n",
        "#job_top부터 lower_bound_stack까지는 리턴하기\n",
        "#max regret에 해당하는 job 순서쌍 2개 job stack에 push하기\n",
        "  idx = np.unravel_index(np.argmax(regret_mat, axis=None), regret_mat.shape)\n",
        "  assigned_row_job = row_job[idx[0]]\n",
        "  assigned_col_job = col_job[idx[1]]\n",
        "## not row,col 즉 (row, col, 0) 부터 삽입\n",
        "  tmp = np.zeros((3))\n",
        "  tmp[0] = assigned_row_job\n",
        "  tmp[1] = assigned_col_job\n",
        "  tmp[2] = 0\n",
        "  job_top = job_top + 1\n",
        "  job_stack[job_top] = tmp\n",
        "## (row, col, 1) 삽입\n",
        "  tmp[2] = 1\n",
        "  job_top = job_top + 1\n",
        "  job_stack[job_top] = tmp\n",
        "#Lower bound 값 stack에 삽입하기\n",
        "  lower_bound1 = Cmax\n",
        "  lower_bound2 = Cmax + max_regret\n",
        "  lb_top = lb_top + 1\n",
        "  lower_bound_stack[lb_top] = lower_bound2\n",
        "  lb_top = lb_top + 1\n",
        "  lower_bound_stack[lb_top] = lower_bound1\n",
        "  return job_top, lb_top, job_stack, lower_bound_stack"
      ],
      "execution_count": 82,
      "outputs": []
    },
    {
      "cell_type": "code",
      "metadata": {
        "id": "q8-Z8ace9wEx"
      },
      "source": [
        "def pop_nodes(job_top, lb_top, job_stack, lower_bound_stack):\n",
        "  #job_stack과 lower_bound_stack에서 pop을 실행\n",
        "  #job_stack\n",
        "  if job_top == -1 or lb_top == -1: \n",
        "    return None\n",
        "\n",
        "  else:\n",
        "    pop_job = job_stack[job_top]\n",
        "    job_top = job_top -1\n",
        "    lower_bound = lower_bound_stack[lb_top]\n",
        "    lb_top = lb_top -1\n",
        "# 각각 pop한 값들을 리턴 + input parameters도 변경되었으니 리턴\n",
        "  return pop_job, lower_bound, job_top, lb_top, job_stack, lower_bound_stack"
      ],
      "execution_count": 100,
      "outputs": []
    },
    {
      "cell_type": "code",
      "metadata": {
        "id": "DaAEfPbCFwsg"
      },
      "source": [
        "def reducing(regret_mat, top, row_job, col_job, pat):\n",
        "  #assigned job 순서를 stack에 할당, 예외처리 포함하여 return value to infinity\n",
        "  #reduce job, reduce matrix\n",
        "  #---------------------\n",
        "  idx = np.unravel_index(np.argmax(regret_mat, axis=None), regret_mat.shape)\n",
        "  # reduced job number\n",
        "  assigned_row_job = row_job[idx[0]]\n",
        "  assigned_col_job = col_job[idx[1]]\n",
        "  #---------------------\n",
        "  #stack push (infinity 관련)\n",
        "  top = stack_push_jobs(top, assigned_row_job)\n",
        "  top = stack_push_jobs(top, assigned_col_job)\n",
        "  # return value to infinity of inverse assigned job\n",
        "  idx1 = np.where(row_job == assigned_col_job) #top\n",
        "  idx2 = np.where(col_job == assigned_row_job) #top -1\n",
        "  #연결되지 않는 경우 예외처리\n",
        "  tmp1 = np.array(idx1)\n",
        "  tmp2 = np.array(idx2)\n",
        "\n",
        "\n",
        "  if tmp2.shape == (1,0):#column에서 해당 job이 없을 때\n",
        "    idx2 = np.where(col_job == stack[top-2])#이어지는 그 이전 job으로 트래킹\n",
        "    pat[idx1, idx2] = 3000000\n",
        "  #----------------------\n",
        "  #reduce jobs\n",
        "  row_job = np.delete(row_job, idx[0])\n",
        "  col_job = np.delete(col_job, idx[1])\n",
        "#reduce matrix\n",
        "  pat = np.delete(pat, idx[0], 0)\n",
        "  pat = np.delete(pat, idx[1], 1)\n",
        "#----------------------\n",
        "  return top, row_job, col_job, pat"
      ],
      "execution_count": 101,
      "outputs": []
    },
    {
      "cell_type": "code",
      "metadata": {
        "id": "3tl2_VLTGZnB",
        "outputId": "e8181284-3757-408b-ac72-72343c17886f",
        "colab": {
          "base_uri": "https://localhost:8080/",
          "height": 453
        }
      },
      "source": [
        "row_job, col_job, pat, Lower_bound, Cmax = init(n, mat)\n",
        "pat, Cmax = reduce_matrix(pat, n, Cmax)\n",
        "print(f'pat:\\n{pd.DataFrame(pat,index=range(1,11),columns=range(1,11))}')\n",
        "print(f'Cmax : {Cmax}')\n",
        "regret_mat, max_regret = calculate_regret(pat, n)\n",
        "print(f'regret_mat :\\n{pd.DataFrame(regret_mat,index=range(1,11),columns=range(1,11))}')"
      ],
      "execution_count": 155,
      "outputs": [
        {
          "output_type": "stream",
          "text": [
            "pat:\n",
            "       1      2      3      4      5      6      7      8      9      10\n",
            "1   19998      5     22      0     14      7      1     32     17     12\n",
            "2      31  19989     24     22      0     20     33     24      1      0\n",
            "3       6      0  19984     26     20      0      4      4     24      3\n",
            "4      20      6     32  19997      2      7      0      0     15     14\n",
            "5       0     40     40     19  19995     29     45     37     22     11\n",
            "6      29     25     10      0     46  19999     35     28     10     32\n",
            "7      33      1      0      0     12     26  19986      6     30     14\n",
            "8      21     42      8      0     23     13     23  19996     46     39\n",
            "9      20     17      4     44     36      0     41      1  19995     27\n",
            "10     15     39     28     12     35     44     24      2      0  19996\n",
            "Cmax : 65\n",
            "regret_mat :\n",
            "      1    2    3     4    5    6    7    8    9    10\n",
            "1    0.0  0.0  0.0   1.0  0.0  0.0  0.0  0.0  0.0  0.0\n",
            "2    0.0  0.0  0.0   0.0  2.0  0.0  0.0  0.0  0.0  3.0\n",
            "3    0.0  1.0  0.0   0.0  0.0  0.0  0.0  0.0  0.0  0.0\n",
            "4    0.0  0.0  0.0   0.0  0.0  0.0  1.0  1.0  0.0  0.0\n",
            "5   17.0  0.0  0.0   0.0  0.0  0.0  0.0  0.0  0.0  0.0\n",
            "6    0.0  0.0  0.0  10.0  0.0  0.0  0.0  0.0  0.0  0.0\n",
            "7    0.0  0.0  4.0   0.0  0.0  0.0  0.0  0.0  0.0  0.0\n",
            "8    0.0  0.0  0.0   8.0  0.0  0.0  0.0  0.0  0.0  0.0\n",
            "9    0.0  0.0  0.0   0.0  0.0  1.0  0.0  0.0  0.0  0.0\n",
            "10   0.0  0.0  0.0   0.0  0.0  0.0  0.0  0.0  3.0  0.0\n"
          ],
          "name": "stdout"
        }
      ]
    },
    {
      "cell_type": "code",
      "metadata": {
        "id": "MLNayEMSHqZ5"
      },
      "source": [
        "top = -1 #job 할당 stack에 사용되는 index\n",
        "job_top = -1 #job 순서쌍(i,j) 쌓는 job_stack에 사용되는 index\n",
        "lb_top = -1 #lower bound stack에 사용되는 index\n",
        "stack = np.zeros((n*2)) #assign job 순서 -> infinity 예외처리 때문\n",
        "job_stack = np.zeros((n*2,1,3)) #assign job 계산해주기 (row, col, 0 or 1) 0은 not, 1은 yes\n",
        "lower_bound_stack = np.zeros((n*2,1))\n",
        "job_top, lb_top, job_stack, lower_bound_stack = push_nodes(regret_mat, Cmax, max_regret,\n",
        "job_top, lb_top, job_stack, lower_bound_stack)"
      ],
      "execution_count": 156,
      "outputs": []
    },
    {
      "cell_type": "code",
      "metadata": {
        "id": "bEz9Th6THRAi",
        "outputId": "6c7b13f2-5746-49a9-a964-7098ce311959",
        "colab": {
          "base_uri": "https://localhost:8080/",
          "height": 1000
        }
      },
      "source": [
        "print(f'job_stack:\\n{job_stack}')\n",
        "print(f'lower_bound_stack:\\n{lower_bound_stack}')\n",
        "top, row_job, col_job, pat = reducing(regret_mat, top, row_job, col_job, pat)\n",
        "new_n = n - 1"
      ],
      "execution_count": 157,
      "outputs": [
        {
          "output_type": "stream",
          "text": [
            "job_stack:\n",
            "[[[5. 1. 0.]]\n",
            "\n",
            " [[5. 1. 1.]]\n",
            "\n",
            " [[0. 0. 0.]]\n",
            "\n",
            " [[0. 0. 0.]]\n",
            "\n",
            " [[0. 0. 0.]]\n",
            "\n",
            " [[0. 0. 0.]]\n",
            "\n",
            " [[0. 0. 0.]]\n",
            "\n",
            " [[0. 0. 0.]]\n",
            "\n",
            " [[0. 0. 0.]]\n",
            "\n",
            " [[0. 0. 0.]]\n",
            "\n",
            " [[0. 0. 0.]]\n",
            "\n",
            " [[0. 0. 0.]]\n",
            "\n",
            " [[0. 0. 0.]]\n",
            "\n",
            " [[0. 0. 0.]]\n",
            "\n",
            " [[0. 0. 0.]]\n",
            "\n",
            " [[0. 0. 0.]]\n",
            "\n",
            " [[0. 0. 0.]]\n",
            "\n",
            " [[0. 0. 0.]]\n",
            "\n",
            " [[0. 0. 0.]]\n",
            "\n",
            " [[0. 0. 0.]]]\n",
            "lower_bound_stack:\n",
            "[[82.]\n",
            " [65.]\n",
            " [ 0.]\n",
            " [ 0.]\n",
            " [ 0.]\n",
            " [ 0.]\n",
            " [ 0.]\n",
            " [ 0.]\n",
            " [ 0.]\n",
            " [ 0.]\n",
            " [ 0.]\n",
            " [ 0.]\n",
            " [ 0.]\n",
            " [ 0.]\n",
            " [ 0.]\n",
            " [ 0.]\n",
            " [ 0.]\n",
            " [ 0.]\n",
            " [ 0.]\n",
            " [ 0.]]\n"
          ],
          "name": "stdout"
        }
      ]
    },
    {
      "cell_type": "code",
      "metadata": {
        "id": "05oxwcX-IjQu",
        "outputId": "a736aba5-3cff-4001-b037-e9976381b1e9",
        "colab": {
          "base_uri": "https://localhost:8080/",
          "height": 1000
        }
      },
      "source": [
        "global_lb = Cmax + max_regret\n",
        "node_level = 1 #push하면 node_level 증가시켜주기\n",
        "while True:\n",
        "  pop_job, lower_bound, job_top, lb_top, job_stack, lower_bound_stack = pop_nodes(job_top,lb_top, job_stack, lower_bound_stack)\n",
        "  print(pop_job)\n",
        "  print(lower_bound_stack)\n",
        "#escape condition\n",
        "  if node_level >= n:\n",
        "    break\n",
        "#global lower bound 비교\n",
        "  if lower_bound <= global_lb:\n",
        "#위 알고리즘 진행\n",
        "#reduce matrix and calculate regret\n",
        "    pat, Cmax = reduce_matrix(pat, new_n, Cmax)\n",
        "    regret_mat, max_regret = calculate_regret(pat, new_n)\n",
        "#push\n",
        "    job_top, lb_top, job_stack, lower_bound_stack = push_nodes(regret_mat, Cmax, max_regret, job_top, lb_top, job_stack, lower_bound_stack)\n",
        "    node_level = node_level + 1\n",
        "#reducing\n",
        "    top, row_job, col_job, pat = reducing(regret_mat, top, row_job, col_job, pat)\n",
        "    new_n = new_n - 1\n",
        "  else:\n",
        "    continue"
      ],
      "execution_count": 158,
      "outputs": [
        {
          "output_type": "stream",
          "text": [
            "[[5. 1. 1.]]\n",
            "[[82.]\n",
            " [65.]\n",
            " [ 0.]\n",
            " [ 0.]\n",
            " [ 0.]\n",
            " [ 0.]\n",
            " [ 0.]\n",
            " [ 0.]\n",
            " [ 0.]\n",
            " [ 0.]\n",
            " [ 0.]\n",
            " [ 0.]\n",
            " [ 0.]\n",
            " [ 0.]\n",
            " [ 0.]\n",
            " [ 0.]\n",
            " [ 0.]\n",
            " [ 0.]\n",
            " [ 0.]\n",
            " [ 0.]]\n",
            "[[6. 4. 1.]]\n",
            "[[82.]\n",
            " [75.]\n",
            " [65.]\n",
            " [ 0.]\n",
            " [ 0.]\n",
            " [ 0.]\n",
            " [ 0.]\n",
            " [ 0.]\n",
            " [ 0.]\n",
            " [ 0.]\n",
            " [ 0.]\n",
            " [ 0.]\n",
            " [ 0.]\n",
            " [ 0.]\n",
            " [ 0.]\n",
            " [ 0.]\n",
            " [ 0.]\n",
            " [ 0.]\n",
            " [ 0.]\n",
            " [ 0.]]\n",
            "[[8. 3. 1.]]\n",
            "[[82.]\n",
            " [75.]\n",
            " [79.]\n",
            " [74.]\n",
            " [ 0.]\n",
            " [ 0.]\n",
            " [ 0.]\n",
            " [ 0.]\n",
            " [ 0.]\n",
            " [ 0.]\n",
            " [ 0.]\n",
            " [ 0.]\n",
            " [ 0.]\n",
            " [ 0.]\n",
            " [ 0.]\n",
            " [ 0.]\n",
            " [ 0.]\n",
            " [ 0.]\n",
            " [ 0.]\n",
            " [ 0.]]\n",
            "[[7. 2. 1.]]\n",
            "[[82.]\n",
            " [75.]\n",
            " [79.]\n",
            " [80.]\n",
            " [75.]\n",
            " [ 0.]\n",
            " [ 0.]\n",
            " [ 0.]\n",
            " [ 0.]\n",
            " [ 0.]\n",
            " [ 0.]\n",
            " [ 0.]\n",
            " [ 0.]\n",
            " [ 0.]\n",
            " [ 0.]\n",
            " [ 0.]\n",
            " [ 0.]\n",
            " [ 0.]\n",
            " [ 0.]\n",
            " [ 0.]]\n",
            "[[1. 7. 1.]]\n",
            "[[82.]\n",
            " [75.]\n",
            " [79.]\n",
            " [80.]\n",
            " [81.]\n",
            " [75.]\n",
            " [ 0.]\n",
            " [ 0.]\n",
            " [ 0.]\n",
            " [ 0.]\n",
            " [ 0.]\n",
            " [ 0.]\n",
            " [ 0.]\n",
            " [ 0.]\n",
            " [ 0.]\n",
            " [ 0.]\n",
            " [ 0.]\n",
            " [ 0.]\n",
            " [ 0.]\n",
            " [ 0.]]\n",
            "[[ 2. 10.  1.]]\n",
            "[[82.]\n",
            " [75.]\n",
            " [79.]\n",
            " [80.]\n",
            " [81.]\n",
            " [78.]\n",
            " [75.]\n",
            " [ 0.]\n",
            " [ 0.]\n",
            " [ 0.]\n",
            " [ 0.]\n",
            " [ 0.]\n",
            " [ 0.]\n",
            " [ 0.]\n",
            " [ 0.]\n",
            " [ 0.]\n",
            " [ 0.]\n",
            " [ 0.]\n",
            " [ 0.]\n",
            " [ 0.]]\n",
            "[[4. 5. 1.]]\n",
            "[[82.]\n",
            " [75.]\n",
            " [79.]\n",
            " [80.]\n",
            " [81.]\n",
            " [78.]\n",
            " [95.]\n",
            " [77.]\n",
            " [ 0.]\n",
            " [ 0.]\n",
            " [ 0.]\n",
            " [ 0.]\n",
            " [ 0.]\n",
            " [ 0.]\n",
            " [ 0.]\n",
            " [ 0.]\n",
            " [ 0.]\n",
            " [ 0.]\n",
            " [ 0.]\n",
            " [ 0.]]\n",
            "[[10.  9.  1.]]\n",
            "[[ 82.]\n",
            " [ 75.]\n",
            " [ 79.]\n",
            " [ 80.]\n",
            " [ 81.]\n",
            " [ 78.]\n",
            " [ 95.]\n",
            " [103.]\n",
            " [ 78.]\n",
            " [  0.]\n",
            " [  0.]\n",
            " [  0.]\n",
            " [  0.]\n",
            " [  0.]\n",
            " [  0.]\n",
            " [  0.]\n",
            " [  0.]\n",
            " [  0.]\n",
            " [  0.]\n",
            " [  0.]]\n",
            "[[3. 6. 1.]]\n",
            "[[ 82.]\n",
            " [ 75.]\n",
            " [ 79.]\n",
            " [ 80.]\n",
            " [ 81.]\n",
            " [ 78.]\n",
            " [ 95.]\n",
            " [103.]\n",
            " [ 81.]\n",
            " [ 78.]\n",
            " [  0.]\n",
            " [  0.]\n",
            " [  0.]\n",
            " [  0.]\n",
            " [  0.]\n",
            " [  0.]\n",
            " [  0.]\n",
            " [  0.]\n",
            " [  0.]\n",
            " [  0.]]\n",
            "[[9. 8. 1.]]\n",
            "[[8.2000000e+01]\n",
            " [7.5000000e+01]\n",
            " [7.9000000e+01]\n",
            " [8.0000000e+01]\n",
            " [8.1000000e+01]\n",
            " [7.8000000e+01]\n",
            " [9.5000000e+01]\n",
            " [1.0300000e+02]\n",
            " [8.1000000e+01]\n",
            " [6.0000078e+07]\n",
            " [7.8000000e+01]\n",
            " [0.0000000e+00]\n",
            " [0.0000000e+00]\n",
            " [0.0000000e+00]\n",
            " [0.0000000e+00]\n",
            " [0.0000000e+00]\n",
            " [0.0000000e+00]\n",
            " [0.0000000e+00]\n",
            " [0.0000000e+00]\n",
            " [0.0000000e+00]]\n"
          ],
          "name": "stdout"
        }
      ]
    },
    {
      "cell_type": "code",
      "metadata": {
        "id": "DGuemxNRJNeC"
      },
      "source": [
        ""
      ],
      "execution_count": null,
      "outputs": []
    }
  ]
}