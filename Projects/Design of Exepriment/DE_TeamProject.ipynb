{
 "cells": [
  {
   "cell_type": "code",
   "execution_count": 1,
   "metadata": {},
   "outputs": [
    {
     "name": "stdout",
     "output_type": "stream",
     "text": [
      "package 'reshape' successfully unpacked and MD5 sums checked\n",
      "\n",
      "The downloaded binary packages are in\n",
      "\tC:\\Users\\USER\\AppData\\Local\\Temp\\RtmpKqyaLN\\downloaded_packages\n",
      "package 'FrF2' successfully unpacked and MD5 sums checked\n",
      "\n",
      "The downloaded binary packages are in\n",
      "\tC:\\Users\\USER\\AppData\\Local\\Temp\\RtmpKqyaLN\\downloaded_packages\n"
     ]
    },
    {
     "name": "stderr",
     "output_type": "stream",
     "text": [
      "Loading required package: DoE.base\n",
      "Loading required package: grid\n",
      "Loading required package: conf.design\n",
      "\n",
      "Attaching package: 'DoE.base'\n",
      "\n",
      "The following objects are masked from 'package:stats':\n",
      "\n",
      "    aov, lm\n",
      "\n",
      "The following object is masked from 'package:graphics':\n",
      "\n",
      "    plot.design\n",
      "\n",
      "The following object is masked from 'package:base':\n",
      "\n",
      "    lengths\n",
      "\n"
     ]
    }
   ],
   "source": [
    "library(ggplot2)\n",
    "install.packages(\"reshape\")\n",
    "install.packages('FrF2')\n",
    "library(FrF2)\n",
    "library(reshape)"
   ]
  },
  {
   "cell_type": "code",
   "execution_count": 2,
   "metadata": {},
   "outputs": [
    {
     "data": {
      "text/html": [
       "<table>\n",
       "<thead><tr><th scope=col>X_Kor_Hip</th><th scope=col>X_Kor_Dan</th><th scope=col>X_Kor_Bal</th><th scope=col>X_Eng_Hip</th><th scope=col>X_Eng_Dan</th><th scope=col>X_Eng_Bal</th><th scope=col>O_Kor_Hip</th><th scope=col>O_Kor_Dan</th><th scope=col>O_Kor_Bal</th><th scope=col>O_Eng_Hip</th><th scope=col>O_Eng_Dan</th><th scope=col>O_Eng_Bal</th></tr></thead>\n",
       "<tbody>\n",
       "\t<tr><td>158</td><td>153</td><td>168</td><td>175</td><td>149</td><td>163</td><td>143</td><td>133</td><td>172</td><td>216</td><td>158</td><td>175</td></tr>\n",
       "\t<tr><td>177</td><td>236</td><td>199</td><td>150</td><td>136</td><td>142</td><td>134</td><td>100</td><td>159</td><td> 98</td><td>169</td><td>133</td></tr>\n",
       "\t<tr><td>196</td><td>192</td><td>118</td><td>136</td><td>139</td><td>108</td><td>101</td><td>114</td><td>124</td><td>126</td><td>138</td><td>118</td></tr>\n",
       "\t<tr><td>184</td><td>187</td><td>132</td><td>122</td><td>115</td><td>107</td><td>120</td><td>122</td><td>134</td><td>118</td><td>124</td><td>121</td></tr>\n",
       "\t<tr><td>179</td><td>169</td><td>133</td><td>140</td><td>156</td><td>143</td><td>149</td><td>117</td><td>133</td><td>101</td><td>145</td><td>106</td></tr>\n",
       "\t<tr><td>188</td><td>185</td><td>130</td><td>130</td><td>158</td><td>144</td><td>150</td><td>242</td><td>129</td><td>182</td><td>166</td><td>161</td></tr>\n",
       "\t<tr><td>135</td><td>122</td><td>110</td><td>236</td><td>106</td><td>111</td><td>118</td><td>118</td><td>133</td><td>113</td><td>106</td><td>103</td></tr>\n",
       "\t<tr><td> 98</td><td> 88</td><td> 98</td><td> 89</td><td> 95</td><td>112</td><td>105</td><td>127</td><td>152</td><td>105</td><td> 87</td><td>113</td></tr>\n",
       "\t<tr><td>150</td><td>143</td><td>122</td><td>129</td><td>125</td><td>138</td><td>170</td><td>190</td><td>221</td><td>173</td><td>144</td><td>145</td></tr>\n",
       "\t<tr><td>235</td><td>205</td><td>191</td><td>210</td><td>165</td><td>287</td><td>172</td><td>158</td><td>176</td><td>142</td><td>144</td><td>202</td></tr>\n",
       "\t<tr><td>203</td><td>183</td><td>196</td><td>270</td><td>211</td><td>201</td><td>217</td><td>227</td><td>215</td><td>201</td><td>220</td><td>189</td></tr>\n",
       "\t<tr><td>190</td><td>186</td><td>216</td><td>232</td><td>201</td><td>211</td><td>215</td><td>233</td><td>228</td><td>211</td><td>230</td><td>206</td></tr>\n",
       "</tbody>\n",
       "</table>\n"
      ],
      "text/latex": [
       "\\begin{tabular}{r|llllllllllll}\n",
       " X\\_Kor\\_Hip & X\\_Kor\\_Dan & X\\_Kor\\_Bal & X\\_Eng\\_Hip & X\\_Eng\\_Dan & X\\_Eng\\_Bal & O\\_Kor\\_Hip & O\\_Kor\\_Dan & O\\_Kor\\_Bal & O\\_Eng\\_Hip & O\\_Eng\\_Dan & O\\_Eng\\_Bal\\\\\n",
       "\\hline\n",
       "\t 158 & 153 & 168 & 175 & 149 & 163 & 143 & 133 & 172 & 216 & 158 & 175\\\\\n",
       "\t 177 & 236 & 199 & 150 & 136 & 142 & 134 & 100 & 159 &  98 & 169 & 133\\\\\n",
       "\t 196 & 192 & 118 & 136 & 139 & 108 & 101 & 114 & 124 & 126 & 138 & 118\\\\\n",
       "\t 184 & 187 & 132 & 122 & 115 & 107 & 120 & 122 & 134 & 118 & 124 & 121\\\\\n",
       "\t 179 & 169 & 133 & 140 & 156 & 143 & 149 & 117 & 133 & 101 & 145 & 106\\\\\n",
       "\t 188 & 185 & 130 & 130 & 158 & 144 & 150 & 242 & 129 & 182 & 166 & 161\\\\\n",
       "\t 135 & 122 & 110 & 236 & 106 & 111 & 118 & 118 & 133 & 113 & 106 & 103\\\\\n",
       "\t  98 &  88 &  98 &  89 &  95 & 112 & 105 & 127 & 152 & 105 &  87 & 113\\\\\n",
       "\t 150 & 143 & 122 & 129 & 125 & 138 & 170 & 190 & 221 & 173 & 144 & 145\\\\\n",
       "\t 235 & 205 & 191 & 210 & 165 & 287 & 172 & 158 & 176 & 142 & 144 & 202\\\\\n",
       "\t 203 & 183 & 196 & 270 & 211 & 201 & 217 & 227 & 215 & 201 & 220 & 189\\\\\n",
       "\t 190 & 186 & 216 & 232 & 201 & 211 & 215 & 233 & 228 & 211 & 230 & 206\\\\\n",
       "\\end{tabular}\n"
      ],
      "text/markdown": [
       "\n",
       "X_Kor_Hip | X_Kor_Dan | X_Kor_Bal | X_Eng_Hip | X_Eng_Dan | X_Eng_Bal | O_Kor_Hip | O_Kor_Dan | O_Kor_Bal | O_Eng_Hip | O_Eng_Dan | O_Eng_Bal | \n",
       "|---|---|---|---|---|---|---|---|---|---|---|---|\n",
       "| 158 | 153 | 168 | 175 | 149 | 163 | 143 | 133 | 172 | 216 | 158 | 175 | \n",
       "| 177 | 236 | 199 | 150 | 136 | 142 | 134 | 100 | 159 |  98 | 169 | 133 | \n",
       "| 196 | 192 | 118 | 136 | 139 | 108 | 101 | 114 | 124 | 126 | 138 | 118 | \n",
       "| 184 | 187 | 132 | 122 | 115 | 107 | 120 | 122 | 134 | 118 | 124 | 121 | \n",
       "| 179 | 169 | 133 | 140 | 156 | 143 | 149 | 117 | 133 | 101 | 145 | 106 | \n",
       "| 188 | 185 | 130 | 130 | 158 | 144 | 150 | 242 | 129 | 182 | 166 | 161 | \n",
       "| 135 | 122 | 110 | 236 | 106 | 111 | 118 | 118 | 133 | 113 | 106 | 103 | \n",
       "|  98 |  88 |  98 |  89 |  95 | 112 | 105 | 127 | 152 | 105 |  87 | 113 | \n",
       "| 150 | 143 | 122 | 129 | 125 | 138 | 170 | 190 | 221 | 173 | 144 | 145 | \n",
       "| 235 | 205 | 191 | 210 | 165 | 287 | 172 | 158 | 176 | 142 | 144 | 202 | \n",
       "| 203 | 183 | 196 | 270 | 211 | 201 | 217 | 227 | 215 | 201 | 220 | 189 | \n",
       "| 190 | 186 | 216 | 232 | 201 | 211 | 215 | 233 | 228 | 211 | 230 | 206 | \n",
       "\n",
       "\n"
      ],
      "text/plain": [
       "   X_Kor_Hip X_Kor_Dan X_Kor_Bal X_Eng_Hip X_Eng_Dan X_Eng_Bal O_Kor_Hip\n",
       "1  158       153       168       175       149       163       143      \n",
       "2  177       236       199       150       136       142       134      \n",
       "3  196       192       118       136       139       108       101      \n",
       "4  184       187       132       122       115       107       120      \n",
       "5  179       169       133       140       156       143       149      \n",
       "6  188       185       130       130       158       144       150      \n",
       "7  135       122       110       236       106       111       118      \n",
       "8   98        88        98        89        95       112       105      \n",
       "9  150       143       122       129       125       138       170      \n",
       "10 235       205       191       210       165       287       172      \n",
       "11 203       183       196       270       211       201       217      \n",
       "12 190       186       216       232       201       211       215      \n",
       "   O_Kor_Dan O_Kor_Bal O_Eng_Hip O_Eng_Dan O_Eng_Bal\n",
       "1  133       172       216       158       175      \n",
       "2  100       159        98       169       133      \n",
       "3  114       124       126       138       118      \n",
       "4  122       134       118       124       121      \n",
       "5  117       133       101       145       106      \n",
       "6  242       129       182       166       161      \n",
       "7  118       133       113       106       103      \n",
       "8  127       152       105        87       113      \n",
       "9  190       221       173       144       145      \n",
       "10 158       176       142       144       202      \n",
       "11 227       215       201       220       189      \n",
       "12 233       228       211       230       206      "
      ]
     },
     "metadata": {},
     "output_type": "display_data"
    },
    {
     "data": {
      "text/html": [
       "<table>\n",
       "<thead><tr><th scope=col>X_Kor_Hip</th><th scope=col>X_Kor_Dan</th><th scope=col>X_Kor_Bal</th><th scope=col>X_Eng_Hip</th><th scope=col>X_Eng_Dan</th><th scope=col>X_Eng_Bal</th><th scope=col>O_Kor_Hip</th><th scope=col>O_Kor_Dan</th><th scope=col>O_Kor_Bal</th><th scope=col>O_Eng_Hip</th><th scope=col>O_Eng_Dan</th><th scope=col>O_Eng_Bal</th></tr></thead>\n",
       "<tbody>\n",
       "\t<tr><td>27</td><td>30</td><td>30</td><td>20</td><td>30</td><td>30</td><td>27</td><td>23</td><td>27</td><td>27</td><td>30</td><td>30</td></tr>\n",
       "\t<tr><td>30</td><td>26</td><td>27</td><td>23</td><td>30</td><td>26</td><td>27</td><td>13</td><td>30</td><td>17</td><td>26</td><td>30</td></tr>\n",
       "\t<tr><td>27</td><td>30</td><td>27</td><td>26</td><td>24</td><td>30</td><td>30</td><td>30</td><td>27</td><td>27</td><td>20</td><td>30</td></tr>\n",
       "\t<tr><td>27</td><td>27</td><td>30</td><td>30</td><td>26</td><td>27</td><td>27</td><td>30</td><td>30</td><td>24</td><td>24</td><td>30</td></tr>\n",
       "\t<tr><td>27</td><td>24</td><td>30</td><td>26</td><td>30</td><td>30</td><td>24</td><td>27</td><td>27</td><td>12</td><td>26</td><td>27</td></tr>\n",
       "\t<tr><td>30</td><td>30</td><td>27</td><td>30</td><td>27</td><td>30</td><td>27</td><td>27</td><td>30</td><td>30</td><td>27</td><td>30</td></tr>\n",
       "\t<tr><td>27</td><td>30</td><td>30</td><td>30</td><td>30</td><td>30</td><td>24</td><td>30</td><td>21</td><td>30</td><td>30</td><td>30</td></tr>\n",
       "\t<tr><td>30</td><td>23</td><td>30</td><td>30</td><td>27</td><td>26</td><td>24</td><td>23</td><td>27</td><td>24</td><td>23</td><td>30</td></tr>\n",
       "\t<tr><td>27</td><td>26</td><td>27</td><td>30</td><td>27</td><td>30</td><td>23</td><td>20</td><td>19</td><td>24</td><td>30</td><td>23</td></tr>\n",
       "\t<tr><td>23</td><td>27</td><td>20</td><td>26</td><td>30</td><td>24</td><td>30</td><td>26</td><td>21</td><td>30</td><td>23</td><td>30</td></tr>\n",
       "\t<tr><td>22</td><td>27</td><td>30</td><td>30</td><td>30</td><td>30</td><td>30</td><td>26</td><td>23</td><td>27</td><td>30</td><td>27</td></tr>\n",
       "\t<tr><td>30</td><td>26</td><td>24</td><td>30</td><td>30</td><td>26</td><td>30</td><td>27</td><td>26</td><td>24</td><td>30</td><td>27</td></tr>\n",
       "</tbody>\n",
       "</table>\n"
      ],
      "text/latex": [
       "\\begin{tabular}{r|llllllllllll}\n",
       " X\\_Kor\\_Hip & X\\_Kor\\_Dan & X\\_Kor\\_Bal & X\\_Eng\\_Hip & X\\_Eng\\_Dan & X\\_Eng\\_Bal & O\\_Kor\\_Hip & O\\_Kor\\_Dan & O\\_Kor\\_Bal & O\\_Eng\\_Hip & O\\_Eng\\_Dan & O\\_Eng\\_Bal\\\\\n",
       "\\hline\n",
       "\t 27 & 30 & 30 & 20 & 30 & 30 & 27 & 23 & 27 & 27 & 30 & 30\\\\\n",
       "\t 30 & 26 & 27 & 23 & 30 & 26 & 27 & 13 & 30 & 17 & 26 & 30\\\\\n",
       "\t 27 & 30 & 27 & 26 & 24 & 30 & 30 & 30 & 27 & 27 & 20 & 30\\\\\n",
       "\t 27 & 27 & 30 & 30 & 26 & 27 & 27 & 30 & 30 & 24 & 24 & 30\\\\\n",
       "\t 27 & 24 & 30 & 26 & 30 & 30 & 24 & 27 & 27 & 12 & 26 & 27\\\\\n",
       "\t 30 & 30 & 27 & 30 & 27 & 30 & 27 & 27 & 30 & 30 & 27 & 30\\\\\n",
       "\t 27 & 30 & 30 & 30 & 30 & 30 & 24 & 30 & 21 & 30 & 30 & 30\\\\\n",
       "\t 30 & 23 & 30 & 30 & 27 & 26 & 24 & 23 & 27 & 24 & 23 & 30\\\\\n",
       "\t 27 & 26 & 27 & 30 & 27 & 30 & 23 & 20 & 19 & 24 & 30 & 23\\\\\n",
       "\t 23 & 27 & 20 & 26 & 30 & 24 & 30 & 26 & 21 & 30 & 23 & 30\\\\\n",
       "\t 22 & 27 & 30 & 30 & 30 & 30 & 30 & 26 & 23 & 27 & 30 & 27\\\\\n",
       "\t 30 & 26 & 24 & 30 & 30 & 26 & 30 & 27 & 26 & 24 & 30 & 27\\\\\n",
       "\\end{tabular}\n"
      ],
      "text/markdown": [
       "\n",
       "X_Kor_Hip | X_Kor_Dan | X_Kor_Bal | X_Eng_Hip | X_Eng_Dan | X_Eng_Bal | O_Kor_Hip | O_Kor_Dan | O_Kor_Bal | O_Eng_Hip | O_Eng_Dan | O_Eng_Bal | \n",
       "|---|---|---|---|---|---|---|---|---|---|---|---|\n",
       "| 27 | 30 | 30 | 20 | 30 | 30 | 27 | 23 | 27 | 27 | 30 | 30 | \n",
       "| 30 | 26 | 27 | 23 | 30 | 26 | 27 | 13 | 30 | 17 | 26 | 30 | \n",
       "| 27 | 30 | 27 | 26 | 24 | 30 | 30 | 30 | 27 | 27 | 20 | 30 | \n",
       "| 27 | 27 | 30 | 30 | 26 | 27 | 27 | 30 | 30 | 24 | 24 | 30 | \n",
       "| 27 | 24 | 30 | 26 | 30 | 30 | 24 | 27 | 27 | 12 | 26 | 27 | \n",
       "| 30 | 30 | 27 | 30 | 27 | 30 | 27 | 27 | 30 | 30 | 27 | 30 | \n",
       "| 27 | 30 | 30 | 30 | 30 | 30 | 24 | 30 | 21 | 30 | 30 | 30 | \n",
       "| 30 | 23 | 30 | 30 | 27 | 26 | 24 | 23 | 27 | 24 | 23 | 30 | \n",
       "| 27 | 26 | 27 | 30 | 27 | 30 | 23 | 20 | 19 | 24 | 30 | 23 | \n",
       "| 23 | 27 | 20 | 26 | 30 | 24 | 30 | 26 | 21 | 30 | 23 | 30 | \n",
       "| 22 | 27 | 30 | 30 | 30 | 30 | 30 | 26 | 23 | 27 | 30 | 27 | \n",
       "| 30 | 26 | 24 | 30 | 30 | 26 | 30 | 27 | 26 | 24 | 30 | 27 | \n",
       "\n",
       "\n"
      ],
      "text/plain": [
       "   X_Kor_Hip X_Kor_Dan X_Kor_Bal X_Eng_Hip X_Eng_Dan X_Eng_Bal O_Kor_Hip\n",
       "1  27        30        30        20        30        30        27       \n",
       "2  30        26        27        23        30        26        27       \n",
       "3  27        30        27        26        24        30        30       \n",
       "4  27        27        30        30        26        27        27       \n",
       "5  27        24        30        26        30        30        24       \n",
       "6  30        30        27        30        27        30        27       \n",
       "7  27        30        30        30        30        30        24       \n",
       "8  30        23        30        30        27        26        24       \n",
       "9  27        26        27        30        27        30        23       \n",
       "10 23        27        20        26        30        24        30       \n",
       "11 22        27        30        30        30        30        30       \n",
       "12 30        26        24        30        30        26        30       \n",
       "   O_Kor_Dan O_Kor_Bal O_Eng_Hip O_Eng_Dan O_Eng_Bal\n",
       "1  23        27        27        30        30       \n",
       "2  13        30        17        26        30       \n",
       "3  30        27        27        20        30       \n",
       "4  30        30        24        24        30       \n",
       "5  27        27        12        26        27       \n",
       "6  27        30        30        27        30       \n",
       "7  30        21        30        30        30       \n",
       "8  23        27        24        23        30       \n",
       "9  20        19        24        30        23       \n",
       "10 26        21        30        23        30       \n",
       "11 26        23        27        30        27       \n",
       "12 27        26        24        30        27       "
      ]
     },
     "metadata": {},
     "output_type": "display_data"
    },
    {
     "data": {
      "text/html": [
       "<table>\n",
       "<thead><tr><th scope=col>X_Kor_Hip</th><th scope=col>X_Kor_Dan</th><th scope=col>X_Kor_Bal</th><th scope=col>X_Eng_Hip</th><th scope=col>X_Eng_Dan</th><th scope=col>X_Eng_Bal</th><th scope=col>O_Kor_Hip</th><th scope=col>O_Kor_Dan</th><th scope=col>O_Kor_Bal</th><th scope=col>O_Eng_Hip</th><th scope=col>O_Eng_Dan</th><th scope=col>O_Eng_Bal</th></tr></thead>\n",
       "<tbody>\n",
       "\t<tr><td>0.17088608</td><td>0.1960784 </td><td>0.1785714 </td><td>0.1142857 </td><td>0.2013423 </td><td>0.18404908</td><td>0.1888112 </td><td>0.1729323 </td><td>0.15697674</td><td>0.1250000 </td><td>0.1898734 </td><td>0.1714286 </td></tr>\n",
       "\t<tr><td>0.16949153</td><td>0.1101695 </td><td>0.1356784 </td><td>0.1533333 </td><td>0.2205882 </td><td>0.18309859</td><td>0.2014925 </td><td>0.1300000 </td><td>0.18867924</td><td>0.1734694 </td><td>0.1538462 </td><td>0.2255639 </td></tr>\n",
       "\t<tr><td>0.13775510</td><td>0.1562500 </td><td>0.2288136 </td><td>0.1911765 </td><td>0.1726619 </td><td>0.27777778</td><td>0.2970297 </td><td>0.2631579 </td><td>0.21774194</td><td>0.2142857 </td><td>0.1449275 </td><td>0.2542373 </td></tr>\n",
       "\t<tr><td>0.14673913</td><td>0.1443850 </td><td>0.2272727 </td><td>0.2459016 </td><td>0.2260870 </td><td>0.25233645</td><td>0.2250000 </td><td>0.2459016 </td><td>0.22388060</td><td>0.2033898 </td><td>0.1935484 </td><td>0.2479339 </td></tr>\n",
       "\t<tr><td>0.15083799</td><td>0.1420118 </td><td>0.2255639 </td><td>0.1857143 </td><td>0.1923077 </td><td>0.20979021</td><td>0.1610738 </td><td>0.2307692 </td><td>0.20300752</td><td>0.1188119 </td><td>0.1793103 </td><td>0.2547170 </td></tr>\n",
       "\t<tr><td>0.15957447</td><td>0.1621622 </td><td>0.2076923 </td><td>0.2307692 </td><td>0.1708861 </td><td>0.20833333</td><td>0.1800000 </td><td>0.1115702 </td><td>0.23255814</td><td>0.1648352 </td><td>0.1626506 </td><td>0.1863354 </td></tr>\n",
       "\t<tr><td>0.20000000</td><td>0.2459016 </td><td>0.2727273 </td><td>0.1271186 </td><td>0.2830189 </td><td>0.27027027</td><td>0.2033898 </td><td>0.2542373 </td><td>0.15789474</td><td>0.2654867 </td><td>0.2830189 </td><td>0.2912621 </td></tr>\n",
       "\t<tr><td>0.30612245</td><td>0.2613636 </td><td>0.3061224 </td><td>0.3370787 </td><td>0.2842105 </td><td>0.23214286</td><td>0.2285714 </td><td>0.1811024 </td><td>0.17763158</td><td>0.2285714 </td><td>0.2643678 </td><td>0.2654867 </td></tr>\n",
       "\t<tr><td>0.18000000</td><td>0.1818182 </td><td>0.2213115 </td><td>0.2325581 </td><td>0.2160000 </td><td>0.21739130</td><td>0.1352941 </td><td>0.1052632 </td><td>0.08597285</td><td>0.1387283 </td><td>0.2083333 </td><td>0.1586207 </td></tr>\n",
       "\t<tr><td>0.09787234</td><td>0.1317073 </td><td>0.1047120 </td><td>0.1238095 </td><td>0.1818182 </td><td>0.08362369</td><td>0.1744186 </td><td>0.1645570 </td><td>0.11931818</td><td>0.2112676 </td><td>0.1597222 </td><td>0.1485149 </td></tr>\n",
       "\t<tr><td>0.10837438</td><td>0.1475410 </td><td>0.1530612 </td><td>0.1111111 </td><td>0.1421801 </td><td>0.14925373</td><td>0.1382488 </td><td>0.1145374 </td><td>0.10697674</td><td>0.1343284 </td><td>0.1363636 </td><td>0.1428571 </td></tr>\n",
       "\t<tr><td>0.15789474</td><td>0.1397849 </td><td>0.1111111 </td><td>0.1293103 </td><td>0.1492537 </td><td>0.12322275</td><td>0.1395349 </td><td>0.1158798 </td><td>0.11403509</td><td>0.1137441 </td><td>0.1304348 </td><td>0.1310680 </td></tr>\n",
       "</tbody>\n",
       "</table>\n"
      ],
      "text/latex": [
       "\\begin{tabular}{r|llllllllllll}\n",
       " X\\_Kor\\_Hip & X\\_Kor\\_Dan & X\\_Kor\\_Bal & X\\_Eng\\_Hip & X\\_Eng\\_Dan & X\\_Eng\\_Bal & O\\_Kor\\_Hip & O\\_Kor\\_Dan & O\\_Kor\\_Bal & O\\_Eng\\_Hip & O\\_Eng\\_Dan & O\\_Eng\\_Bal\\\\\n",
       "\\hline\n",
       "\t 0.17088608 & 0.1960784  & 0.1785714  & 0.1142857  & 0.2013423  & 0.18404908 & 0.1888112  & 0.1729323  & 0.15697674 & 0.1250000  & 0.1898734  & 0.1714286 \\\\\n",
       "\t 0.16949153 & 0.1101695  & 0.1356784  & 0.1533333  & 0.2205882  & 0.18309859 & 0.2014925  & 0.1300000  & 0.18867924 & 0.1734694  & 0.1538462  & 0.2255639 \\\\\n",
       "\t 0.13775510 & 0.1562500  & 0.2288136  & 0.1911765  & 0.1726619  & 0.27777778 & 0.2970297  & 0.2631579  & 0.21774194 & 0.2142857  & 0.1449275  & 0.2542373 \\\\\n",
       "\t 0.14673913 & 0.1443850  & 0.2272727  & 0.2459016  & 0.2260870  & 0.25233645 & 0.2250000  & 0.2459016  & 0.22388060 & 0.2033898  & 0.1935484  & 0.2479339 \\\\\n",
       "\t 0.15083799 & 0.1420118  & 0.2255639  & 0.1857143  & 0.1923077  & 0.20979021 & 0.1610738  & 0.2307692  & 0.20300752 & 0.1188119  & 0.1793103  & 0.2547170 \\\\\n",
       "\t 0.15957447 & 0.1621622  & 0.2076923  & 0.2307692  & 0.1708861  & 0.20833333 & 0.1800000  & 0.1115702  & 0.23255814 & 0.1648352  & 0.1626506  & 0.1863354 \\\\\n",
       "\t 0.20000000 & 0.2459016  & 0.2727273  & 0.1271186  & 0.2830189  & 0.27027027 & 0.2033898  & 0.2542373  & 0.15789474 & 0.2654867  & 0.2830189  & 0.2912621 \\\\\n",
       "\t 0.30612245 & 0.2613636  & 0.3061224  & 0.3370787  & 0.2842105  & 0.23214286 & 0.2285714  & 0.1811024  & 0.17763158 & 0.2285714  & 0.2643678  & 0.2654867 \\\\\n",
       "\t 0.18000000 & 0.1818182  & 0.2213115  & 0.2325581  & 0.2160000  & 0.21739130 & 0.1352941  & 0.1052632  & 0.08597285 & 0.1387283  & 0.2083333  & 0.1586207 \\\\\n",
       "\t 0.09787234 & 0.1317073  & 0.1047120  & 0.1238095  & 0.1818182  & 0.08362369 & 0.1744186  & 0.1645570  & 0.11931818 & 0.2112676  & 0.1597222  & 0.1485149 \\\\\n",
       "\t 0.10837438 & 0.1475410  & 0.1530612  & 0.1111111  & 0.1421801  & 0.14925373 & 0.1382488  & 0.1145374  & 0.10697674 & 0.1343284  & 0.1363636  & 0.1428571 \\\\\n",
       "\t 0.15789474 & 0.1397849  & 0.1111111  & 0.1293103  & 0.1492537  & 0.12322275 & 0.1395349  & 0.1158798  & 0.11403509 & 0.1137441  & 0.1304348  & 0.1310680 \\\\\n",
       "\\end{tabular}\n"
      ],
      "text/markdown": [
       "\n",
       "X_Kor_Hip | X_Kor_Dan | X_Kor_Bal | X_Eng_Hip | X_Eng_Dan | X_Eng_Bal | O_Kor_Hip | O_Kor_Dan | O_Kor_Bal | O_Eng_Hip | O_Eng_Dan | O_Eng_Bal | \n",
       "|---|---|---|---|---|---|---|---|---|---|---|---|\n",
       "| 0.17088608 | 0.1960784  | 0.1785714  | 0.1142857  | 0.2013423  | 0.18404908 | 0.1888112  | 0.1729323  | 0.15697674 | 0.1250000  | 0.1898734  | 0.1714286  | \n",
       "| 0.16949153 | 0.1101695  | 0.1356784  | 0.1533333  | 0.2205882  | 0.18309859 | 0.2014925  | 0.1300000  | 0.18867924 | 0.1734694  | 0.1538462  | 0.2255639  | \n",
       "| 0.13775510 | 0.1562500  | 0.2288136  | 0.1911765  | 0.1726619  | 0.27777778 | 0.2970297  | 0.2631579  | 0.21774194 | 0.2142857  | 0.1449275  | 0.2542373  | \n",
       "| 0.14673913 | 0.1443850  | 0.2272727  | 0.2459016  | 0.2260870  | 0.25233645 | 0.2250000  | 0.2459016  | 0.22388060 | 0.2033898  | 0.1935484  | 0.2479339  | \n",
       "| 0.15083799 | 0.1420118  | 0.2255639  | 0.1857143  | 0.1923077  | 0.20979021 | 0.1610738  | 0.2307692  | 0.20300752 | 0.1188119  | 0.1793103  | 0.2547170  | \n",
       "| 0.15957447 | 0.1621622  | 0.2076923  | 0.2307692  | 0.1708861  | 0.20833333 | 0.1800000  | 0.1115702  | 0.23255814 | 0.1648352  | 0.1626506  | 0.1863354  | \n",
       "| 0.20000000 | 0.2459016  | 0.2727273  | 0.1271186  | 0.2830189  | 0.27027027 | 0.2033898  | 0.2542373  | 0.15789474 | 0.2654867  | 0.2830189  | 0.2912621  | \n",
       "| 0.30612245 | 0.2613636  | 0.3061224  | 0.3370787  | 0.2842105  | 0.23214286 | 0.2285714  | 0.1811024  | 0.17763158 | 0.2285714  | 0.2643678  | 0.2654867  | \n",
       "| 0.18000000 | 0.1818182  | 0.2213115  | 0.2325581  | 0.2160000  | 0.21739130 | 0.1352941  | 0.1052632  | 0.08597285 | 0.1387283  | 0.2083333  | 0.1586207  | \n",
       "| 0.09787234 | 0.1317073  | 0.1047120  | 0.1238095  | 0.1818182  | 0.08362369 | 0.1744186  | 0.1645570  | 0.11931818 | 0.2112676  | 0.1597222  | 0.1485149  | \n",
       "| 0.10837438 | 0.1475410  | 0.1530612  | 0.1111111  | 0.1421801  | 0.14925373 | 0.1382488  | 0.1145374  | 0.10697674 | 0.1343284  | 0.1363636  | 0.1428571  | \n",
       "| 0.15789474 | 0.1397849  | 0.1111111  | 0.1293103  | 0.1492537  | 0.12322275 | 0.1395349  | 0.1158798  | 0.11403509 | 0.1137441  | 0.1304348  | 0.1310680  | \n",
       "\n",
       "\n"
      ],
      "text/plain": [
       "   X_Kor_Hip  X_Kor_Dan X_Kor_Bal X_Eng_Hip X_Eng_Dan X_Eng_Bal  O_Kor_Hip\n",
       "1  0.17088608 0.1960784 0.1785714 0.1142857 0.2013423 0.18404908 0.1888112\n",
       "2  0.16949153 0.1101695 0.1356784 0.1533333 0.2205882 0.18309859 0.2014925\n",
       "3  0.13775510 0.1562500 0.2288136 0.1911765 0.1726619 0.27777778 0.2970297\n",
       "4  0.14673913 0.1443850 0.2272727 0.2459016 0.2260870 0.25233645 0.2250000\n",
       "5  0.15083799 0.1420118 0.2255639 0.1857143 0.1923077 0.20979021 0.1610738\n",
       "6  0.15957447 0.1621622 0.2076923 0.2307692 0.1708861 0.20833333 0.1800000\n",
       "7  0.20000000 0.2459016 0.2727273 0.1271186 0.2830189 0.27027027 0.2033898\n",
       "8  0.30612245 0.2613636 0.3061224 0.3370787 0.2842105 0.23214286 0.2285714\n",
       "9  0.18000000 0.1818182 0.2213115 0.2325581 0.2160000 0.21739130 0.1352941\n",
       "10 0.09787234 0.1317073 0.1047120 0.1238095 0.1818182 0.08362369 0.1744186\n",
       "11 0.10837438 0.1475410 0.1530612 0.1111111 0.1421801 0.14925373 0.1382488\n",
       "12 0.15789474 0.1397849 0.1111111 0.1293103 0.1492537 0.12322275 0.1395349\n",
       "   O_Kor_Dan O_Kor_Bal  O_Eng_Hip O_Eng_Dan O_Eng_Bal\n",
       "1  0.1729323 0.15697674 0.1250000 0.1898734 0.1714286\n",
       "2  0.1300000 0.18867924 0.1734694 0.1538462 0.2255639\n",
       "3  0.2631579 0.21774194 0.2142857 0.1449275 0.2542373\n",
       "4  0.2459016 0.22388060 0.2033898 0.1935484 0.2479339\n",
       "5  0.2307692 0.20300752 0.1188119 0.1793103 0.2547170\n",
       "6  0.1115702 0.23255814 0.1648352 0.1626506 0.1863354\n",
       "7  0.2542373 0.15789474 0.2654867 0.2830189 0.2912621\n",
       "8  0.1811024 0.17763158 0.2285714 0.2643678 0.2654867\n",
       "9  0.1052632 0.08597285 0.1387283 0.2083333 0.1586207\n",
       "10 0.1645570 0.11931818 0.2112676 0.1597222 0.1485149\n",
       "11 0.1145374 0.10697674 0.1343284 0.1363636 0.1428571\n",
       "12 0.1158798 0.11403509 0.1137441 0.1304348 0.1310680"
      ]
     },
     "metadata": {},
     "output_type": "display_data"
    }
   ],
   "source": [
    "time=read.csv(file='C:/Users/USER/Desktop/Data Science/20-2학기/Time.csv',header=T)\n",
    "score=read.csv(file='C:/Users/USER/Desktop/Data Science/20-2학기/Score.csv',header=T)\n",
    "metric=read.csv(file='C:/Users/USER/Desktop/Data Science/20-2학기/Metric.csv',header=T)\n",
    "names(time)[1]=c(\"X_Kor_Hip\")\n",
    "names(score)[1]=c(\"X_Kor_Hip\")\n",
    "names(metric)[1]=c(\"X_Kor_Hip\")\n",
    "time\n",
    "score\n",
    "metric"
   ]
  },
  {
   "cell_type": "code",
   "execution_count": 3,
   "metadata": {},
   "outputs": [],
   "source": [
    "unknown_idx=c(1:6)\n",
    "known_idx=c(7:12)\n",
    "kor_idx=c(1:3,7:9)\n",
    "eng_idx=c(4:6,10:12)\n",
    "hip_idx=c(1,4,7)\n",
    "dan_idx=c(2,5,8)\n",
    "bal_idx=c(3,6,9)\n",
    "\n"
   ]
  },
  {
   "cell_type": "code",
   "execution_count": 4,
   "metadata": {},
   "outputs": [
    {
     "data": {
      "text/plain": [
       "\n",
       "\tWilcoxon rank sum test with continuity correction\n",
       "\n",
       "data:  Kor and Eng\n",
       "W = 2928, p-value = 0.18\n",
       "alternative hypothesis: true location shift is not equal to 0\n"
      ]
     },
     "metadata": {},
     "output_type": "display_data"
    },
    {
     "data": {
      "text/plain": [
       "\n",
       "\tWilcoxon rank sum test with continuity correction\n",
       "\n",
       "data:  Known and Unknown\n",
       "W = 2327.5, p-value = 0.2915\n",
       "alternative hypothesis: true location shift is not equal to 0\n"
      ]
     },
     "metadata": {},
     "output_type": "display_data"
    },
    {
     "data": {
      "text/plain": [
       "\n",
       "\tKruskal-Wallis rank sum test\n",
       "\n",
       "data:  rates_M by factor_M\n",
       "Kruskal-Wallis chi-squared = 0.72062, df = 2, p-value = 0.6975\n"
      ]
     },
     "metadata": {},
     "output_type": "display_data"
    }
   ],
   "source": [
    "Kor=stack(time[kor_idx])\n",
    "Kor=as.vector(Kor[1])\n",
    "Eng=stack(time[eng_idx])\n",
    "Eng=as.vector(Eng[1])\n",
    "Hip=stack(time[hip_idx])\n",
    "Hip=as.vector(Hip[1])\n",
    "Dan=stack(time[dan_idx])\n",
    "Dan=as.vector(Dan[1])\n",
    "Bal=stack(time[bal_idx])\n",
    "Bal=as.vector(Bal[1])\n",
    "Known=stack(time[known_idx])\n",
    "Known=as.vector(Known[1])\n",
    "Unknown=stack(time[unknown_idx])\n",
    "Unknown=as.vector(Unknown[1])\n",
    "\n",
    "Kor=as.numeric(unlist(Kor))\n",
    "Eng=as.numeric(unlist(Eng))\n",
    "Hip=as.numeric(unlist(Hip))\n",
    "Dan=as.numeric(unlist(Dan))\n",
    "Bal=as.numeric(unlist(Bal))\n",
    "Unknown=as.numeric(unlist(Unknown))\n",
    "Known=as.numeric(unlist(Known))\n",
    "\n",
    "wilcox.test(Kor,Eng,paired=FALSE,alternative =\"two.sided\")\n",
    "\n",
    "wilcox.test(Known,Unknown,paired=FALSE,alternative =\"two.sided\")\n",
    "\n",
    "level_M <- factor( rep(1:3,c(length(Hip),length(Dan),length(Bal))) )\n",
    "factor_M <- factor( rep(1:3,c(length(Hip),length(Dan),length(Bal))) )\n",
    "rates_M <- c(Hip,Bal,Dan)\n",
    "\n",
    "kruskal.test(rates_M ~ factor_M)\n"
   ]
  },
  {
   "cell_type": "code",
   "execution_count": 6,
   "metadata": {},
   "outputs": [],
   "source": [
    "\n"
   ]
  },
  {
   "cell_type": "code",
   "execution_count": 5,
   "metadata": {},
   "outputs": [
    {
     "data": {
      "text/plain": [
       "\n",
       "\tWilcoxon rank sum test with continuity correction\n",
       "\n",
       "data:  Kor_s and Eng_s\n",
       "W = 2223.5, p-value = 0.1227\n",
       "alternative hypothesis: true location shift is not equal to 0\n"
      ]
     },
     "metadata": {},
     "output_type": "display_data"
    },
    {
     "data": {
      "text/plain": [
       "\n",
       "\tWilcoxon rank sum test with continuity correction\n",
       "\n",
       "data:  Known_s and Unknown_s\n",
       "W = 2106.5, p-value = 0.04194\n",
       "alternative hypothesis: true location shift is not equal to 0\n"
      ]
     },
     "metadata": {},
     "output_type": "display_data"
    },
    {
     "data": {
      "text/plain": [
       "\n",
       "\tKruskal-Wallis rank sum test\n",
       "\n",
       "data:  rates_M by factor_M\n",
       "Kruskal-Wallis chi-squared = 0.17917, df = 2, p-value = 0.9143\n"
      ]
     },
     "metadata": {},
     "output_type": "display_data"
    }
   ],
   "source": [
    "Kor_s=as.numeric(unlist(score[kor_idx]))\n",
    "Eng_s=as.numeric(unlist(score[eng_idx]))\n",
    "Hip_s=as.numeric(unlist(score[hip_idx]))\n",
    "Dan_s=as.numeric(unlist(score[dan_idx]))\n",
    "Bal_s=as.numeric(unlist(score[bal_idx]))\n",
    "Known_s=as.numeric(unlist(score[known_idx]))\n",
    "Unknown_s=as.numeric(unlist(score[unknown_idx]))\n",
    "\n",
    "wilcox.test(Kor_s,Eng_s,paired=FALSE,alternative =\"two.sided\")\n",
    "wilcox.test(Known_s,Unknown_s,paired=FALSE,alternative =\"two.sided\")\n",
    "level_M <- factor( rep(1:3,c(length(Hip),length(Dan),length(Bal))) )\n",
    "factor_M <- factor( rep(1:3,c(length(Hip),length(Dan),length(Bal))) )\n",
    "rates_M <- c(Hip_s,Bal_s,Dan_s)\n",
    "\n",
    "kruskal.test(rates_M ~ factor_M)\n"
   ]
  },
  {
   "cell_type": "code",
   "execution_count": null,
   "metadata": {},
   "outputs": [],
   "source": []
  },
  {
   "cell_type": "code",
   "execution_count": 6,
   "metadata": {},
   "outputs": [
    {
     "data": {
      "text/plain": [
       "\n",
       "\tWilcoxon rank sum test with continuity correction\n",
       "\n",
       "data:  Kor_m and Eng_m\n",
       "W = 2170.5, p-value = 0.09254\n",
       "alternative hypothesis: true location shift is not equal to 0\n"
      ]
     },
     "metadata": {},
     "output_type": "display_data"
    },
    {
     "data": {
      "text/plain": [
       "\n",
       "\tWilcoxon rank sum test with continuity correction\n",
       "\n",
       "data:  Known_m and Unknown_m\n",
       "W = 2530.5, p-value = 0.8074\n",
       "alternative hypothesis: true location shift is not equal to 0\n"
      ]
     },
     "metadata": {},
     "output_type": "display_data"
    },
    {
     "data": {
      "text/plain": [
       "\n",
       "\tKruskal-Wallis rank sum test\n",
       "\n",
       "data:  rates_M by factor_M\n",
       "Kruskal-Wallis chi-squared = 71.725, df = 2, p-value = 2.661e-16\n"
      ]
     },
     "metadata": {},
     "output_type": "display_data"
    }
   ],
   "source": [
    "Kor_m=as.numeric(unlist(metric[kor_idx]))\n",
    "Eng_m=as.numeric(unlist(metric[eng_idx]))\n",
    "Hip_m=as.numeric(unlist(metric[hip_idx]))\n",
    "Dan_m=as.numeric(unlist(metric[dan_idx]))\n",
    "Bal_m=as.numeric(unlist(metric[bal_idx]))\n",
    "Known_m=as.numeric(unlist(metric[known_idx]))\n",
    "Unknown_m=as.numeric(unlist(metric[unknown_idx]))\n",
    "\n",
    "wilcox.test(Kor_m,Eng_m,paired=FALSE,alternative =\"two.sided\")\n",
    "wilcox.test(Known_m,Unknown_m,paired=FALSE,alternative =\"two.sided\")\n",
    "\n",
    "level_M <- factor( rep(1:3,c(length(Hip),length(Dan),length(Bal))) )\n",
    "factor_M <- factor( rep(1:3,c(length(Hip),length(Dan),length(Bal))) )\n",
    "rates_M <- c(Hip_s,Bal_m,Dan_m)\n",
    "\n",
    "kruskal.test(rates_M ~ factor_M)"
   ]
  },
  {
   "cell_type": "code",
   "execution_count": 13,
   "metadata": {},
   "outputs": [
    {
     "name": "stdout",
     "output_type": "stream",
     "text": [
      "package 'SixSigma' successfully unpacked and MD5 sums checked\n",
      "\n",
      "The downloaded binary packages are in\n",
      "\tC:\\Users\\USER\\AppData\\Local\\Temp\\RtmpY1ukGR\\downloaded_packages\n"
     ]
    }
   ],
   "source": [
    "install.packages(\"SixSigma\")\n",
    "library(SixSigma)\n",
    "\n"
   ]
  },
  {
   "cell_type": "code",
   "execution_count": 77,
   "metadata": {},
   "outputs": [
    {
     "data": {
      "text/html": [
       "<table>\n",
       "<thead><tr><th></th><th scope=col>Round Out</th><th scope=col>Narrow Angle</th><th scope=col>Wide Angle</th></tr></thead>\n",
       "<tbody>\n",
       "\t<tr><th scope=row>1</th><td>5.40</td><td>5.50</td><td>5.55</td></tr>\n",
       "\t<tr><th scope=row>2</th><td>5.85</td><td>5.70</td><td>5.75</td></tr>\n",
       "\t<tr><th scope=row>3</th><td>5.20</td><td>5.60</td><td>5.50</td></tr>\n",
       "\t<tr><th scope=row>4</th><td>5.55</td><td>5.50</td><td>5.40</td></tr>\n",
       "\t<tr><th scope=row>5</th><td>5.90</td><td>5.85</td><td>5.70</td></tr>\n",
       "\t<tr><th scope=row>6</th><td>5.45</td><td>5.55</td><td>5.60</td></tr>\n",
       "\t<tr><th scope=row>7</th><td>5.40</td><td>5.40</td><td>5.35</td></tr>\n",
       "\t<tr><th scope=row>8</th><td>5.45</td><td>5.50</td><td>5.35</td></tr>\n",
       "\t<tr><th scope=row>9</th><td>5.25</td><td>5.15</td><td>5.00</td></tr>\n",
       "\t<tr><th scope=row>10</th><td>5.85</td><td>5.80</td><td>5.70</td></tr>\n",
       "\t<tr><th scope=row>11</th><td>5.25</td><td>5.20</td><td>5.10</td></tr>\n",
       "\t<tr><th scope=row>12</th><td>5.65</td><td>5.55</td><td>5.45</td></tr>\n",
       "\t<tr><th scope=row>13</th><td>5.60</td><td>5.35</td><td>5.45</td></tr>\n",
       "\t<tr><th scope=row>14</th><td>5.05</td><td>5.00</td><td>4.95</td></tr>\n",
       "\t<tr><th scope=row>15</th><td>5.50</td><td>5.50</td><td>5.40</td></tr>\n",
       "\t<tr><th scope=row>16</th><td>5.45</td><td>5.55</td><td>5.50</td></tr>\n",
       "\t<tr><th scope=row>17</th><td>5.55</td><td>5.55</td><td>5.35</td></tr>\n",
       "\t<tr><th scope=row>18</th><td>5.45</td><td>5.50</td><td>5.55</td></tr>\n",
       "\t<tr><th scope=row>19</th><td>5.50</td><td>5.45</td><td>5.25</td></tr>\n",
       "\t<tr><th scope=row>20</th><td>5.65</td><td>5.60</td><td>5.40</td></tr>\n",
       "\t<tr><th scope=row>21</th><td>5.70</td><td>5.65</td><td>5.55</td></tr>\n",
       "\t<tr><th scope=row>22</th><td>6.30</td><td>6.30</td><td>6.25</td></tr>\n",
       "</tbody>\n",
       "</table>\n"
      ],
      "text/latex": [
       "\\begin{tabular}{r|lll}\n",
       "  & Round Out & Narrow Angle & Wide Angle\\\\\n",
       "\\hline\n",
       "\t1 & 5.40 & 5.50 & 5.55\\\\\n",
       "\t2 & 5.85 & 5.70 & 5.75\\\\\n",
       "\t3 & 5.20 & 5.60 & 5.50\\\\\n",
       "\t4 & 5.55 & 5.50 & 5.40\\\\\n",
       "\t5 & 5.90 & 5.85 & 5.70\\\\\n",
       "\t6 & 5.45 & 5.55 & 5.60\\\\\n",
       "\t7 & 5.40 & 5.40 & 5.35\\\\\n",
       "\t8 & 5.45 & 5.50 & 5.35\\\\\n",
       "\t9 & 5.25 & 5.15 & 5.00\\\\\n",
       "\t10 & 5.85 & 5.80 & 5.70\\\\\n",
       "\t11 & 5.25 & 5.20 & 5.10\\\\\n",
       "\t12 & 5.65 & 5.55 & 5.45\\\\\n",
       "\t13 & 5.60 & 5.35 & 5.45\\\\\n",
       "\t14 & 5.05 & 5.00 & 4.95\\\\\n",
       "\t15 & 5.50 & 5.50 & 5.40\\\\\n",
       "\t16 & 5.45 & 5.55 & 5.50\\\\\n",
       "\t17 & 5.55 & 5.55 & 5.35\\\\\n",
       "\t18 & 5.45 & 5.50 & 5.55\\\\\n",
       "\t19 & 5.50 & 5.45 & 5.25\\\\\n",
       "\t20 & 5.65 & 5.60 & 5.40\\\\\n",
       "\t21 & 5.70 & 5.65 & 5.55\\\\\n",
       "\t22 & 6.30 & 6.30 & 6.25\\\\\n",
       "\\end{tabular}\n"
      ],
      "text/markdown": [
       "\n",
       "| <!--/--> | Round Out | Narrow Angle | Wide Angle | \n",
       "|---|---|---|---|---|---|---|---|---|---|---|---|---|---|---|---|---|---|---|---|---|---|\n",
       "| 1 | 5.40 | 5.50 | 5.55 | \n",
       "| 2 | 5.85 | 5.70 | 5.75 | \n",
       "| 3 | 5.20 | 5.60 | 5.50 | \n",
       "| 4 | 5.55 | 5.50 | 5.40 | \n",
       "| 5 | 5.90 | 5.85 | 5.70 | \n",
       "| 6 | 5.45 | 5.55 | 5.60 | \n",
       "| 7 | 5.40 | 5.40 | 5.35 | \n",
       "| 8 | 5.45 | 5.50 | 5.35 | \n",
       "| 9 | 5.25 | 5.15 | 5.00 | \n",
       "| 10 | 5.85 | 5.80 | 5.70 | \n",
       "| 11 | 5.25 | 5.20 | 5.10 | \n",
       "| 12 | 5.65 | 5.55 | 5.45 | \n",
       "| 13 | 5.60 | 5.35 | 5.45 | \n",
       "| 14 | 5.05 | 5.00 | 4.95 | \n",
       "| 15 | 5.50 | 5.50 | 5.40 | \n",
       "| 16 | 5.45 | 5.55 | 5.50 | \n",
       "| 17 | 5.55 | 5.55 | 5.35 | \n",
       "| 18 | 5.45 | 5.50 | 5.55 | \n",
       "| 19 | 5.50 | 5.45 | 5.25 | \n",
       "| 20 | 5.65 | 5.60 | 5.40 | \n",
       "| 21 | 5.70 | 5.65 | 5.55 | \n",
       "| 22 | 6.30 | 6.30 | 6.25 | \n",
       "\n",
       "\n"
      ],
      "text/plain": [
       "   Round Out Narrow Angle Wide Angle\n",
       "1  5.40      5.50         5.55      \n",
       "2  5.85      5.70         5.75      \n",
       "3  5.20      5.60         5.50      \n",
       "4  5.55      5.50         5.40      \n",
       "5  5.90      5.85         5.70      \n",
       "6  5.45      5.55         5.60      \n",
       "7  5.40      5.40         5.35      \n",
       "8  5.45      5.50         5.35      \n",
       "9  5.25      5.15         5.00      \n",
       "10 5.85      5.80         5.70      \n",
       "11 5.25      5.20         5.10      \n",
       "12 5.65      5.55         5.45      \n",
       "13 5.60      5.35         5.45      \n",
       "14 5.05      5.00         4.95      \n",
       "15 5.50      5.50         5.40      \n",
       "16 5.45      5.55         5.50      \n",
       "17 5.55      5.55         5.35      \n",
       "18 5.45      5.50         5.55      \n",
       "19 5.50      5.45         5.25      \n",
       "20 5.65      5.60         5.40      \n",
       "21 5.70      5.65         5.55      \n",
       "22 6.30      6.30         6.25      "
      ]
     },
     "metadata": {},
     "output_type": "display_data"
    },
    {
     "data": {
      "text/html": [
       "<table>\n",
       "<thead><tr><th scope=col>A</th><th scope=col>B</th><th scope=col>C</th></tr></thead>\n",
       "<tbody>\n",
       "\t<tr><td>+</td><td>+</td><td>+</td></tr>\n",
       "\t<tr><td>+</td><td>+</td><td>-</td></tr>\n",
       "\t<tr><td>+</td><td>-</td><td>+</td></tr>\n",
       "\t<tr><td>+</td><td>-</td><td>-</td></tr>\n",
       "\t<tr><td>-</td><td>+</td><td>+</td></tr>\n",
       "\t<tr><td>-</td><td>+</td><td>-</td></tr>\n",
       "\t<tr><td>-</td><td>-</td><td>+</td></tr>\n",
       "\t<tr><td>-</td><td>-</td><td>-</td></tr>\n",
       "</tbody>\n",
       "</table>\n"
      ],
      "text/latex": [
       "\\begin{tabular}{r|lll}\n",
       " A & B & C\\\\\n",
       "\\hline\n",
       "\t + & + & +\\\\\n",
       "\t + & + & -\\\\\n",
       "\t + & - & +\\\\\n",
       "\t + & - & -\\\\\n",
       "\t - & + & +\\\\\n",
       "\t - & + & -\\\\\n",
       "\t - & - & +\\\\\n",
       "\t - & - & -\\\\\n",
       "\\end{tabular}\n"
      ],
      "text/markdown": [
       "\n",
       "A | B | C | \n",
       "|---|---|---|---|---|---|---|---|\n",
       "| + | + | + | \n",
       "| + | + | - | \n",
       "| + | - | + | \n",
       "| + | - | - | \n",
       "| - | + | + | \n",
       "| - | + | - | \n",
       "| - | - | + | \n",
       "| - | - | - | \n",
       "\n",
       "\n"
      ],
      "text/plain": [
       "  A B C\n",
       "1 + + +\n",
       "2 + + -\n",
       "3 + - +\n",
       "4 + - -\n",
       "5 - + +\n",
       "6 - + -\n",
       "7 - - +\n",
       "8 - - -"
      ]
     },
     "metadata": {},
     "output_type": "display_data"
    },
    {
     "data": {
      "text/html": [
       "<table>\n",
       "<thead><tr><th></th><th scope=col>A</th><th scope=col>B</th><th scope=col>C</th><th scope=col>ord</th></tr></thead>\n",
       "<tbody>\n",
       "\t<tr><th scope=row>5</th><td>-</td><td>+</td><td>+</td><td>1</td></tr>\n",
       "\t<tr><th scope=row>2</th><td>+</td><td>+</td><td>-</td><td>2</td></tr>\n",
       "\t<tr><th scope=row>8</th><td>-</td><td>-</td><td>-</td><td>3</td></tr>\n",
       "\t<tr><th scope=row>1</th><td>+</td><td>+</td><td>+</td><td>4</td></tr>\n",
       "\t<tr><th scope=row>6</th><td>-</td><td>+</td><td>-</td><td>5</td></tr>\n",
       "\t<tr><th scope=row>4</th><td>+</td><td>-</td><td>-</td><td>6</td></tr>\n",
       "\t<tr><th scope=row>7</th><td>-</td><td>-</td><td>+</td><td>7</td></tr>\n",
       "\t<tr><th scope=row>3</th><td>+</td><td>-</td><td>+</td><td>8</td></tr>\n",
       "</tbody>\n",
       "</table>\n"
      ],
      "text/latex": [
       "\\begin{tabular}{r|llll}\n",
       "  & A & B & C & ord\\\\\n",
       "\\hline\n",
       "\t5 & - & + & + & 1\\\\\n",
       "\t2 & + & + & - & 2\\\\\n",
       "\t8 & - & - & - & 3\\\\\n",
       "\t1 & + & + & + & 4\\\\\n",
       "\t6 & - & + & - & 5\\\\\n",
       "\t4 & + & - & - & 6\\\\\n",
       "\t7 & - & - & + & 7\\\\\n",
       "\t3 & + & - & + & 8\\\\\n",
       "\\end{tabular}\n"
      ],
      "text/markdown": [
       "\n",
       "| <!--/--> | A | B | C | ord | \n",
       "|---|---|---|---|---|---|---|---|\n",
       "| 5 | - | + | + | 1 | \n",
       "| 2 | + | + | - | 2 | \n",
       "| 8 | - | - | - | 3 | \n",
       "| 1 | + | + | + | 4 | \n",
       "| 6 | - | + | - | 5 | \n",
       "| 4 | + | - | - | 6 | \n",
       "| 7 | - | - | + | 7 | \n",
       "| 3 | + | - | + | 8 | \n",
       "\n",
       "\n"
      ],
      "text/plain": [
       "  A B C ord\n",
       "5 - + + 1  \n",
       "2 + + - 2  \n",
       "8 - - - 3  \n",
       "1 + + + 4  \n",
       "6 - + - 5  \n",
       "4 + - - 6  \n",
       "7 - - + 7  \n",
       "3 + - + 8  "
      ]
     },
     "metadata": {},
     "output_type": "display_data"
    },
    {
     "data": {
      "text/html": [
       "<table>\n",
       "<thead><tr><th scope=col>repl</th><th scope=col>A</th><th scope=col>B</th><th scope=col>C</th><th scope=col>ord</th></tr></thead>\n",
       "<tbody>\n",
       "\t<tr><td>1</td><td>+</td><td>+</td><td>+</td><td>4</td></tr>\n",
       "\t<tr><td>1</td><td>+</td><td>+</td><td>-</td><td>2</td></tr>\n",
       "\t<tr><td>1</td><td>+</td><td>-</td><td>+</td><td>8</td></tr>\n",
       "\t<tr><td>1</td><td>+</td><td>-</td><td>-</td><td>6</td></tr>\n",
       "\t<tr><td>1</td><td>-</td><td>+</td><td>+</td><td>1</td></tr>\n",
       "\t<tr><td>1</td><td>-</td><td>+</td><td>-</td><td>5</td></tr>\n",
       "\t<tr><td>1</td><td>-</td><td>-</td><td>+</td><td>7</td></tr>\n",
       "\t<tr><td>1</td><td>-</td><td>-</td><td>-</td><td>3</td></tr>\n",
       "\t<tr><td>2</td><td>+</td><td>+</td><td>+</td><td>4</td></tr>\n",
       "\t<tr><td>2</td><td>+</td><td>+</td><td>-</td><td>2</td></tr>\n",
       "\t<tr><td>2</td><td>+</td><td>-</td><td>+</td><td>8</td></tr>\n",
       "\t<tr><td>2</td><td>+</td><td>-</td><td>-</td><td>6</td></tr>\n",
       "\t<tr><td>2</td><td>-</td><td>+</td><td>+</td><td>1</td></tr>\n",
       "\t<tr><td>2</td><td>-</td><td>+</td><td>-</td><td>5</td></tr>\n",
       "\t<tr><td>2</td><td>-</td><td>-</td><td>+</td><td>7</td></tr>\n",
       "\t<tr><td>2</td><td>-</td><td>-</td><td>-</td><td>3</td></tr>\n",
       "</tbody>\n",
       "</table>\n"
      ],
      "text/latex": [
       "\\begin{tabular}{r|lllll}\n",
       " repl & A & B & C & ord\\\\\n",
       "\\hline\n",
       "\t 1 & + & + & + & 4\\\\\n",
       "\t 1 & + & + & - & 2\\\\\n",
       "\t 1 & + & - & + & 8\\\\\n",
       "\t 1 & + & - & - & 6\\\\\n",
       "\t 1 & - & + & + & 1\\\\\n",
       "\t 1 & - & + & - & 5\\\\\n",
       "\t 1 & - & - & + & 7\\\\\n",
       "\t 1 & - & - & - & 3\\\\\n",
       "\t 2 & + & + & + & 4\\\\\n",
       "\t 2 & + & + & - & 2\\\\\n",
       "\t 2 & + & - & + & 8\\\\\n",
       "\t 2 & + & - & - & 6\\\\\n",
       "\t 2 & - & + & + & 1\\\\\n",
       "\t 2 & - & + & - & 5\\\\\n",
       "\t 2 & - & - & + & 7\\\\\n",
       "\t 2 & - & - & - & 3\\\\\n",
       "\\end{tabular}\n"
      ],
      "text/markdown": [
       "\n",
       "repl | A | B | C | ord | \n",
       "|---|---|---|---|---|---|---|---|---|---|---|---|---|---|---|---|\n",
       "| 1 | + | + | + | 4 | \n",
       "| 1 | + | + | - | 2 | \n",
       "| 1 | + | - | + | 8 | \n",
       "| 1 | + | - | - | 6 | \n",
       "| 1 | - | + | + | 1 | \n",
       "| 1 | - | + | - | 5 | \n",
       "| 1 | - | - | + | 7 | \n",
       "| 1 | - | - | - | 3 | \n",
       "| 2 | + | + | + | 4 | \n",
       "| 2 | + | + | - | 2 | \n",
       "| 2 | + | - | + | 8 | \n",
       "| 2 | + | - | - | 6 | \n",
       "| 2 | - | + | + | 1 | \n",
       "| 2 | - | + | - | 5 | \n",
       "| 2 | - | - | + | 7 | \n",
       "| 2 | - | - | - | 3 | \n",
       "\n",
       "\n"
      ],
      "text/plain": [
       "   repl A B C ord\n",
       "1  1    + + + 4  \n",
       "2  1    + + - 2  \n",
       "3  1    + - + 8  \n",
       "4  1    + - - 6  \n",
       "5  1    - + + 1  \n",
       "6  1    - + - 5  \n",
       "7  1    - - + 7  \n",
       "8  1    - - - 3  \n",
       "9  2    + + + 4  \n",
       "10 2    + + - 2  \n",
       "11 2    + - + 8  \n",
       "12 2    + - - 6  \n",
       "13 2    - + + 1  \n",
       "14 2    - + - 5  \n",
       "15 2    - - + 7  \n",
       "16 2    - - - 3  "
      ]
     },
     "metadata": {},
     "output_type": "display_data"
    },
    {
     "data": {
      "text/html": [
       "<table>\n",
       "<thead><tr><th scope=col>repl</th><th scope=col>A</th><th scope=col>B</th><th scope=col>C</th><th scope=col>ord</th><th scope=col>response</th></tr></thead>\n",
       "<tbody>\n",
       "\t<tr><td>1   </td><td>+   </td><td>+   </td><td>+   </td><td>4   </td><td>5.33</td></tr>\n",
       "\t<tr><td>1   </td><td>+   </td><td>+   </td><td>-   </td><td>2   </td><td>6.99</td></tr>\n",
       "\t<tr><td>1   </td><td>+   </td><td>-   </td><td>+   </td><td>8   </td><td>4.23</td></tr>\n",
       "\t<tr><td>1   </td><td>+   </td><td>-   </td><td>-   </td><td>6   </td><td>6.61</td></tr>\n",
       "\t<tr><td>1   </td><td>-   </td><td>+   </td><td>+   </td><td>1   </td><td>2.26</td></tr>\n",
       "\t<tr><td>1   </td><td>-   </td><td>+   </td><td>-   </td><td>5   </td><td>5.75</td></tr>\n",
       "\t<tr><td>1   </td><td>-   </td><td>-   </td><td>+   </td><td>7   </td><td>3.26</td></tr>\n",
       "\t<tr><td>1   </td><td>-   </td><td>-   </td><td>-   </td><td>3   </td><td>6.24</td></tr>\n",
       "\t<tr><td>2   </td><td>+   </td><td>+   </td><td>+   </td><td>4   </td><td>5.70</td></tr>\n",
       "\t<tr><td>2   </td><td>+   </td><td>+   </td><td>-   </td><td>2   </td><td>7.71</td></tr>\n",
       "\t<tr><td>2   </td><td>+   </td><td>-   </td><td>+   </td><td>8   </td><td>5.13</td></tr>\n",
       "\t<tr><td>2   </td><td>+   </td><td>-   </td><td>-   </td><td>6   </td><td>6.76</td></tr>\n",
       "\t<tr><td>2   </td><td>-   </td><td>+   </td><td>+   </td><td>1   </td><td>2.79</td></tr>\n",
       "\t<tr><td>2   </td><td>-   </td><td>+   </td><td>-   </td><td>5   </td><td>4.57</td></tr>\n",
       "\t<tr><td>2   </td><td>-   </td><td>-   </td><td>+   </td><td>7   </td><td>2.48</td></tr>\n",
       "\t<tr><td>2   </td><td>-   </td><td>-   </td><td>-   </td><td>3   </td><td>6.18</td></tr>\n",
       "</tbody>\n",
       "</table>\n"
      ],
      "text/latex": [
       "\\begin{tabular}{r|llllll}\n",
       " repl & A & B & C & ord & response\\\\\n",
       "\\hline\n",
       "\t 1    & +    & +    & +    & 4    & 5.33\\\\\n",
       "\t 1    & +    & +    & -    & 2    & 6.99\\\\\n",
       "\t 1    & +    & -    & +    & 8    & 4.23\\\\\n",
       "\t 1    & +    & -    & -    & 6    & 6.61\\\\\n",
       "\t 1    & -    & +    & +    & 1    & 2.26\\\\\n",
       "\t 1    & -    & +    & -    & 5    & 5.75\\\\\n",
       "\t 1    & -    & -    & +    & 7    & 3.26\\\\\n",
       "\t 1    & -    & -    & -    & 3    & 6.24\\\\\n",
       "\t 2    & +    & +    & +    & 4    & 5.70\\\\\n",
       "\t 2    & +    & +    & -    & 2    & 7.71\\\\\n",
       "\t 2    & +    & -    & +    & 8    & 5.13\\\\\n",
       "\t 2    & +    & -    & -    & 6    & 6.76\\\\\n",
       "\t 2    & -    & +    & +    & 1    & 2.79\\\\\n",
       "\t 2    & -    & +    & -    & 5    & 4.57\\\\\n",
       "\t 2    & -    & -    & +    & 7    & 2.48\\\\\n",
       "\t 2    & -    & -    & -    & 3    & 6.18\\\\\n",
       "\\end{tabular}\n"
      ],
      "text/markdown": [
       "\n",
       "repl | A | B | C | ord | response | \n",
       "|---|---|---|---|---|---|---|---|---|---|---|---|---|---|---|---|\n",
       "| 1    | +    | +    | +    | 4    | 5.33 | \n",
       "| 1    | +    | +    | -    | 2    | 6.99 | \n",
       "| 1    | +    | -    | +    | 8    | 4.23 | \n",
       "| 1    | +    | -    | -    | 6    | 6.61 | \n",
       "| 1    | -    | +    | +    | 1    | 2.26 | \n",
       "| 1    | -    | +    | -    | 5    | 5.75 | \n",
       "| 1    | -    | -    | +    | 7    | 3.26 | \n",
       "| 1    | -    | -    | -    | 3    | 6.24 | \n",
       "| 2    | +    | +    | +    | 4    | 5.70 | \n",
       "| 2    | +    | +    | -    | 2    | 7.71 | \n",
       "| 2    | +    | -    | +    | 8    | 5.13 | \n",
       "| 2    | +    | -    | -    | 6    | 6.76 | \n",
       "| 2    | -    | +    | +    | 1    | 2.79 | \n",
       "| 2    | -    | +    | -    | 5    | 4.57 | \n",
       "| 2    | -    | -    | +    | 7    | 2.48 | \n",
       "| 2    | -    | -    | -    | 3    | 6.18 | \n",
       "\n",
       "\n"
      ],
      "text/plain": [
       "   repl A B C ord response\n",
       "1  1    + + + 4   5.33    \n",
       "2  1    + + - 2   6.99    \n",
       "3  1    + - + 8   4.23    \n",
       "4  1    + - - 6   6.61    \n",
       "5  1    - + + 1   2.26    \n",
       "6  1    - + - 5   5.75    \n",
       "7  1    - - + 7   3.26    \n",
       "8  1    - - - 3   6.24    \n",
       "9  2    + + + 4   5.70    \n",
       "10 2    + + - 2   7.71    \n",
       "11 2    + - + 8   5.13    \n",
       "12 2    + - - 6   6.76    \n",
       "13 2    - + + 1   2.79    \n",
       "14 2    - + - 5   4.57    \n",
       "15 2    - - + 7   2.48    \n",
       "16 2    - - - 3   6.18    "
      ]
     },
     "metadata": {},
     "output_type": "display_data"
    },
    {
     "data": {
      "text/html": [
       "<table>\n",
       "<thead><tr><th scope=col>A</th><th scope=col>B</th><th scope=col>C</th><th scope=col>response</th></tr></thead>\n",
       "<tbody>\n",
       "\t<tr><td>-    </td><td>-    </td><td>-    </td><td>6.210</td></tr>\n",
       "\t<tr><td>+    </td><td>-    </td><td>-    </td><td>6.685</td></tr>\n",
       "\t<tr><td>-    </td><td>+    </td><td>-    </td><td>5.160</td></tr>\n",
       "\t<tr><td>+    </td><td>+    </td><td>-    </td><td>7.350</td></tr>\n",
       "\t<tr><td>-    </td><td>-    </td><td>+    </td><td>2.870</td></tr>\n",
       "\t<tr><td>+    </td><td>-    </td><td>+    </td><td>4.680</td></tr>\n",
       "\t<tr><td>-    </td><td>+    </td><td>+    </td><td>2.525</td></tr>\n",
       "\t<tr><td>+    </td><td>+    </td><td>+    </td><td>5.515</td></tr>\n",
       "</tbody>\n",
       "</table>\n"
      ],
      "text/latex": [
       "\\begin{tabular}{r|llll}\n",
       " A & B & C & response\\\\\n",
       "\\hline\n",
       "\t -     & -     & -     & 6.210\\\\\n",
       "\t +     & -     & -     & 6.685\\\\\n",
       "\t -     & +     & -     & 5.160\\\\\n",
       "\t +     & +     & -     & 7.350\\\\\n",
       "\t -     & -     & +     & 2.870\\\\\n",
       "\t +     & -     & +     & 4.680\\\\\n",
       "\t -     & +     & +     & 2.525\\\\\n",
       "\t +     & +     & +     & 5.515\\\\\n",
       "\\end{tabular}\n"
      ],
      "text/markdown": [
       "\n",
       "A | B | C | response | \n",
       "|---|---|---|---|---|---|---|---|\n",
       "| -     | -     | -     | 6.210 | \n",
       "| +     | -     | -     | 6.685 | \n",
       "| -     | +     | -     | 5.160 | \n",
       "| +     | +     | -     | 7.350 | \n",
       "| -     | -     | +     | 2.870 | \n",
       "| +     | -     | +     | 4.680 | \n",
       "| -     | +     | +     | 2.525 | \n",
       "| +     | +     | +     | 5.515 | \n",
       "\n",
       "\n"
      ],
      "text/plain": [
       "  A B C response\n",
       "1 - - - 6.210   \n",
       "2 + - - 6.685   \n",
       "3 - + - 5.160   \n",
       "4 + + - 7.350   \n",
       "5 - - + 2.870   \n",
       "6 + - + 4.680   \n",
       "7 - + + 2.525   \n",
       "8 + + + 5.515   "
      ]
     },
     "metadata": {},
     "output_type": "display_data"
    },
    {
     "data": {
      "text/plain": [
       "\n",
       "Call:\n",
       "lm(formula = response ~ A + B + C + A * B + A * C + B * C + A * \n",
       "    B * C, data = ss.data.doe1)\n",
       "\n",
       "Residuals:\n",
       "    Min      1Q  Median      3Q     Max \n",
       "-0.5900 -0.2888  0.0000  0.2888  0.5900 \n",
       "\n",
       "Coefficients:\n",
       "            Estimate Std. Error t value Pr(>|t|)    \n",
       "(Intercept)  5.12437    0.12140  42.210 1.09e-10 ***\n",
       "A1          -0.93312    0.12140  -7.686 5.82e-05 ***\n",
       "B1          -0.01312    0.12140  -0.108   0.9166    \n",
       "C1           1.22688    0.12140  10.106 7.85e-06 ***\n",
       "A1:B1        0.36188    0.12140   2.981   0.0176 *  \n",
       "A1:C1        0.26688    0.12140   2.198   0.0592 .  \n",
       "B1:C1        0.10937    0.12140   0.901   0.3939    \n",
       "A1:B1:C1     0.06688    0.12140   0.551   0.5968    \n",
       "---\n",
       "Signif. codes:  0 '***' 0.001 '**' 0.01 '*' 0.05 '.' 0.1 ' ' 1\n",
       "\n",
       "Residual standard error: 0.4856 on 8 degrees of freedom\n",
       "Multiple R-squared:  0.9565,\tAdjusted R-squared:  0.9185 \n",
       "F-statistic: 25.15 on 7 and 8 DF,  p-value: 7.666e-05\n"
      ]
     },
     "metadata": {},
     "output_type": "display_data"
    }
   ],
   "source": [
    "RoundingTimes <-\n",
    "matrix(c(5.40, 5.50, 5.55,\n",
    "         5.85, 5.70, 5.75,\n",
    "         5.20, 5.60, 5.50,\n",
    "         5.55, 5.50, 5.40,\n",
    "         5.90, 5.85, 5.70,\n",
    "         5.45, 5.55, 5.60,\n",
    "         5.40, 5.40, 5.35,\n",
    "         5.45, 5.50, 5.35,\n",
    "         5.25, 5.15, 5.00,\n",
    "         5.85, 5.80, 5.70,\n",
    "         5.25, 5.20, 5.10,\n",
    "         5.65, 5.55, 5.45,\n",
    "         5.60, 5.35, 5.45,\n",
    "         5.05, 5.00, 4.95,\n",
    "         5.50, 5.50, 5.40,\n",
    "         5.45, 5.55, 5.50,\n",
    "         5.55, 5.55, 5.35,\n",
    "         5.45, 5.50, 5.55,\n",
    "         5.50, 5.45, 5.25,\n",
    "         5.65, 5.60, 5.40,\n",
    "         5.70, 5.65, 5.55,\n",
    "         6.30, 6.30, 6.25),\n",
    "       nrow = 22,\n",
    "       byrow = TRUE,\n",
    "       dimnames = list(1 : 22,\n",
    "                       c(\"Round Out\", \"Narrow Angle\", \"Wide Angle\")))\n",
    "RoundingTimes\n",
    "\n",
    "# Design the experiment (2^3)\n",
    "ExperimentDesign <- expand.grid(A = gl(2,1, labels = c(\"+\", \"-\")),\n",
    "                           B = gl(2, 1, labels = c(\"+\", \"-\")),\n",
    "                           C = gl(2, 1, labels = c(\"+\", \"-\")))\n",
    "ExperimentDesign['A']=c(\"+\",\"+\",\"+\",\"+\",\"-\",\"-\",\"-\",\"-\")\n",
    "ExperimentDesign['B']=c(\"+\",\"+\",\"-\",\"-\",\"+\",\"+\",\"-\",\"-\")\n",
    "ExperimentDesign['C']=c(\"+\",\"-\",\"+\",\"-\",\"+\",\"-\",\"+\",\"-\")\n",
    "ExperimentDesign\n",
    "\n",
    "ExperimentDesign$ord <- sample(1:8, 8)\n",
    "ExperimentDesign[order(ExperimentDesign$ord), ]\n",
    "\n",
    "# Create replicates\n",
    "ss.data.doe1 <- data.frame(repl = rep(1:2, each = 8),\n",
    "                           rbind(ExperimentDesign))\n",
    "ss.data.doe1\n",
    "\n",
    "# Add responses\n",
    "ss.data.doe1$response <- c(5.33, 6.99, 4.23, 6.61,\n",
    "                        2.26, 5.75, 3.26, 6.24,\n",
    "                        5.7, 7.71, 5.13, 6.76,\n",
    "                        2.79, 4.57, 2.48, 6.18)\n",
    "ss.data.doe1\n",
    "\n",
    "aggregate(response ~ A + B + C,\n",
    "          FUN = mean, data = ss.data.doe1)\n",
    "          \n",
    "#   A B C response\n",
    "# 1 - - -    5.515\n",
    "# 2 + - -    7.350\n",
    "# 3 - + -    4.680\n",
    "# 4 + + -    6.685\n",
    "# 5 - - +    2.525\n",
    "# 6 + - +    5.160\n",
    "# 7 - + +    2.870\n",
    "# 8 + + +    6.210\n",
    "\n",
    "# Get restuls\n",
    "doe.model <- lm(response ~ A + B + C +\n",
    "                  A * B + A * C + B * C +\n",
    "                  A * B * C,\n",
    "                data = ss.data.doe1)\n",
    "summary(doe.model)"
   ]
  },
  {
   "cell_type": "code",
   "execution_count": null,
   "metadata": {},
   "outputs": [],
   "source": []
  },
  {
   "cell_type": "code",
   "execution_count": 7,
   "metadata": {},
   "outputs": [
    {
     "data": {
      "text/html": [
       "<table>\n",
       "<thead><tr><th scope=col>rep1</th><th scope=col>rep2</th><th scope=col>rep3</th><th scope=col>rep4</th><th scope=col>rep5</th><th scope=col>rep6</th><th scope=col>rep7</th><th scope=col>rep8</th><th scope=col>rep9</th><th scope=col>rep10</th><th scope=col>rep11</th><th scope=col>rep12</th></tr></thead>\n",
       "<tbody>\n",
       "\t<tr><td>163</td><td>142</td><td>108</td><td>107</td><td>143</td><td>144</td><td>111</td><td>112</td><td>138</td><td>287</td><td>201</td><td>211</td></tr>\n",
       "\t<tr><td>168</td><td>199</td><td>118</td><td>132</td><td>133</td><td>130</td><td>110</td><td> 98</td><td>122</td><td>191</td><td>196</td><td>216</td></tr>\n",
       "\t<tr><td>149</td><td>136</td><td>139</td><td>115</td><td>156</td><td>158</td><td>106</td><td> 95</td><td>125</td><td>165</td><td>211</td><td>201</td></tr>\n",
       "\t<tr><td>153</td><td>236</td><td>192</td><td>187</td><td>169</td><td>185</td><td>122</td><td> 88</td><td>143</td><td>205</td><td>183</td><td>186</td></tr>\n",
       "\t<tr><td>175</td><td>133</td><td>118</td><td>121</td><td>106</td><td>161</td><td>103</td><td>113</td><td>145</td><td>202</td><td>189</td><td>206</td></tr>\n",
       "\t<tr><td>172</td><td>159</td><td>124</td><td>134</td><td>133</td><td>129</td><td>133</td><td>152</td><td>221</td><td>176</td><td>215</td><td>228</td></tr>\n",
       "\t<tr><td>158</td><td>169</td><td>138</td><td>124</td><td>145</td><td>166</td><td>106</td><td> 87</td><td>144</td><td>144</td><td>220</td><td>230</td></tr>\n",
       "\t<tr><td>133</td><td>100</td><td>114</td><td>122</td><td>117</td><td>242</td><td>118</td><td>127</td><td>190</td><td>158</td><td>227</td><td>233</td></tr>\n",
       "</tbody>\n",
       "</table>\n"
      ],
      "text/latex": [
       "\\begin{tabular}{r|llllllllllll}\n",
       " rep1 & rep2 & rep3 & rep4 & rep5 & rep6 & rep7 & rep8 & rep9 & rep10 & rep11 & rep12\\\\\n",
       "\\hline\n",
       "\t 163 & 142 & 108 & 107 & 143 & 144 & 111 & 112 & 138 & 287 & 201 & 211\\\\\n",
       "\t 168 & 199 & 118 & 132 & 133 & 130 & 110 &  98 & 122 & 191 & 196 & 216\\\\\n",
       "\t 149 & 136 & 139 & 115 & 156 & 158 & 106 &  95 & 125 & 165 & 211 & 201\\\\\n",
       "\t 153 & 236 & 192 & 187 & 169 & 185 & 122 &  88 & 143 & 205 & 183 & 186\\\\\n",
       "\t 175 & 133 & 118 & 121 & 106 & 161 & 103 & 113 & 145 & 202 & 189 & 206\\\\\n",
       "\t 172 & 159 & 124 & 134 & 133 & 129 & 133 & 152 & 221 & 176 & 215 & 228\\\\\n",
       "\t 158 & 169 & 138 & 124 & 145 & 166 & 106 &  87 & 144 & 144 & 220 & 230\\\\\n",
       "\t 133 & 100 & 114 & 122 & 117 & 242 & 118 & 127 & 190 & 158 & 227 & 233\\\\\n",
       "\\end{tabular}\n"
      ],
      "text/markdown": [
       "\n",
       "rep1 | rep2 | rep3 | rep4 | rep5 | rep6 | rep7 | rep8 | rep9 | rep10 | rep11 | rep12 | \n",
       "|---|---|---|---|---|---|---|---|\n",
       "| 163 | 142 | 108 | 107 | 143 | 144 | 111 | 112 | 138 | 287 | 201 | 211 | \n",
       "| 168 | 199 | 118 | 132 | 133 | 130 | 110 |  98 | 122 | 191 | 196 | 216 | \n",
       "| 149 | 136 | 139 | 115 | 156 | 158 | 106 |  95 | 125 | 165 | 211 | 201 | \n",
       "| 153 | 236 | 192 | 187 | 169 | 185 | 122 |  88 | 143 | 205 | 183 | 186 | \n",
       "| 175 | 133 | 118 | 121 | 106 | 161 | 103 | 113 | 145 | 202 | 189 | 206 | \n",
       "| 172 | 159 | 124 | 134 | 133 | 129 | 133 | 152 | 221 | 176 | 215 | 228 | \n",
       "| 158 | 169 | 138 | 124 | 145 | 166 | 106 |  87 | 144 | 144 | 220 | 230 | \n",
       "| 133 | 100 | 114 | 122 | 117 | 242 | 118 | 127 | 190 | 158 | 227 | 233 | \n",
       "\n",
       "\n"
      ],
      "text/plain": [
       "  rep1 rep2 rep3 rep4 rep5 rep6 rep7 rep8 rep9 rep10 rep11 rep12\n",
       "1 163  142  108  107  143  144  111  112  138  287   201   211  \n",
       "2 168  199  118  132  133  130  110   98  122  191   196   216  \n",
       "3 149  136  139  115  156  158  106   95  125  165   211   201  \n",
       "4 153  236  192  187  169  185  122   88  143  205   183   186  \n",
       "5 175  133  118  121  106  161  103  113  145  202   189   206  \n",
       "6 172  159  124  134  133  129  133  152  221  176   215   228  \n",
       "7 158  169  138  124  145  166  106   87  144  144   220   230  \n",
       "8 133  100  114  122  117  242  118  127  190  158   227   233  "
      ]
     },
     "metadata": {},
     "output_type": "display_data"
    },
    {
     "data": {
      "text/html": [
       "<table>\n",
       "<thead><tr><th></th><th scope=col>A</th><th scope=col>B</th><th scope=col>C</th><th scope=col>rep1</th><th scope=col>rep2</th><th scope=col>rep3</th><th scope=col>rep4</th><th scope=col>rep5</th><th scope=col>rep6</th><th scope=col>rep7</th><th scope=col>rep8</th><th scope=col>rep9</th><th scope=col>rep10</th><th scope=col>rep11</th><th scope=col>rep12</th><th scope=col>Total</th></tr></thead>\n",
       "<tbody>\n",
       "\t<tr><th scope=row>(1)</th><td>-1  </td><td>-1  </td><td>-1  </td><td>163 </td><td>142 </td><td>108 </td><td>107 </td><td>143 </td><td>144 </td><td>111 </td><td>112 </td><td>138 </td><td>287 </td><td>201 </td><td>211 </td><td>1867</td></tr>\n",
       "\t<tr><th scope=row>a</th><td> 1  </td><td>-1  </td><td>-1  </td><td>168 </td><td>199 </td><td>118 </td><td>132 </td><td>133 </td><td>130 </td><td>110 </td><td> 98 </td><td>122 </td><td>191 </td><td>196 </td><td>216 </td><td>1813</td></tr>\n",
       "\t<tr><th scope=row>b</th><td>-1  </td><td> 1  </td><td>-1  </td><td>149 </td><td>136 </td><td>139 </td><td>115 </td><td>156 </td><td>158 </td><td>106 </td><td> 95 </td><td>125 </td><td>165 </td><td>211 </td><td>201 </td><td>1756</td></tr>\n",
       "\t<tr><th scope=row>ab</th><td> 1  </td><td> 1  </td><td>-1  </td><td>153 </td><td>236 </td><td>192 </td><td>187 </td><td>169 </td><td>185 </td><td>122 </td><td> 88 </td><td>143 </td><td>205 </td><td>183 </td><td>186 </td><td>2049</td></tr>\n",
       "\t<tr><th scope=row>c</th><td>-1  </td><td>-1  </td><td> 1  </td><td>175 </td><td>133 </td><td>118 </td><td>121 </td><td>106 </td><td>161 </td><td>103 </td><td>113 </td><td>145 </td><td>202 </td><td>189 </td><td>206 </td><td>1772</td></tr>\n",
       "\t<tr><th scope=row>ac</th><td> 1  </td><td>-1  </td><td> 1  </td><td>172 </td><td>159 </td><td>124 </td><td>134 </td><td>133 </td><td>129 </td><td>133 </td><td>152 </td><td>221 </td><td>176 </td><td>215 </td><td>228 </td><td>1976</td></tr>\n",
       "\t<tr><th scope=row>bc</th><td>-1  </td><td> 1  </td><td> 1  </td><td>158 </td><td>169 </td><td>138 </td><td>124 </td><td>145 </td><td>166 </td><td>106 </td><td> 87 </td><td>144 </td><td>144 </td><td>220 </td><td>230 </td><td>1831</td></tr>\n",
       "\t<tr><th scope=row>abc</th><td> 1  </td><td> 1  </td><td> 1  </td><td>133 </td><td>100 </td><td>114 </td><td>122 </td><td>117 </td><td>242 </td><td>118 </td><td>127 </td><td>190 </td><td>158 </td><td>227 </td><td>233 </td><td>1881</td></tr>\n",
       "</tbody>\n",
       "</table>\n"
      ],
      "text/latex": [
       "\\begin{tabular}{r|llllllllllllllll}\n",
       "  & A & B & C & rep1 & rep2 & rep3 & rep4 & rep5 & rep6 & rep7 & rep8 & rep9 & rep10 & rep11 & rep12 & Total\\\\\n",
       "\\hline\n",
       "\t(1) & -1   & -1   & -1   & 163  & 142  & 108  & 107  & 143  & 144  & 111  & 112  & 138  & 287  & 201  & 211  & 1867\\\\\n",
       "\ta &  1   & -1   & -1   & 168  & 199  & 118  & 132  & 133  & 130  & 110  &  98  & 122  & 191  & 196  & 216  & 1813\\\\\n",
       "\tb & -1   &  1   & -1   & 149  & 136  & 139  & 115  & 156  & 158  & 106  &  95  & 125  & 165  & 211  & 201  & 1756\\\\\n",
       "\tab &  1   &  1   & -1   & 153  & 236  & 192  & 187  & 169  & 185  & 122  &  88  & 143  & 205  & 183  & 186  & 2049\\\\\n",
       "\tc & -1   & -1   &  1   & 175  & 133  & 118  & 121  & 106  & 161  & 103  & 113  & 145  & 202  & 189  & 206  & 1772\\\\\n",
       "\tac &  1   & -1   &  1   & 172  & 159  & 124  & 134  & 133  & 129  & 133  & 152  & 221  & 176  & 215  & 228  & 1976\\\\\n",
       "\tbc & -1   &  1   &  1   & 158  & 169  & 138  & 124  & 145  & 166  & 106  &  87  & 144  & 144  & 220  & 230  & 1831\\\\\n",
       "\tabc &  1   &  1   &  1   & 133  & 100  & 114  & 122  & 117  & 242  & 118  & 127  & 190  & 158  & 227  & 233  & 1881\\\\\n",
       "\\end{tabular}\n"
      ],
      "text/markdown": [
       "\n",
       "| <!--/--> | A | B | C | rep1 | rep2 | rep3 | rep4 | rep5 | rep6 | rep7 | rep8 | rep9 | rep10 | rep11 | rep12 | Total | \n",
       "|---|---|---|---|---|---|---|---|\n",
       "| (1) | -1   | -1   | -1   | 163  | 142  | 108  | 107  | 143  | 144  | 111  | 112  | 138  | 287  | 201  | 211  | 1867 | \n",
       "| a |  1   | -1   | -1   | 168  | 199  | 118  | 132  | 133  | 130  | 110  |  98  | 122  | 191  | 196  | 216  | 1813 | \n",
       "| b | -1   |  1   | -1   | 149  | 136  | 139  | 115  | 156  | 158  | 106  |  95  | 125  | 165  | 211  | 201  | 1756 | \n",
       "| ab |  1   |  1   | -1   | 153  | 236  | 192  | 187  | 169  | 185  | 122  |  88  | 143  | 205  | 183  | 186  | 2049 | \n",
       "| c | -1   | -1   |  1   | 175  | 133  | 118  | 121  | 106  | 161  | 103  | 113  | 145  | 202  | 189  | 206  | 1772 | \n",
       "| ac |  1   | -1   |  1   | 172  | 159  | 124  | 134  | 133  | 129  | 133  | 152  | 221  | 176  | 215  | 228  | 1976 | \n",
       "| bc | -1   |  1   |  1   | 158  | 169  | 138  | 124  | 145  | 166  | 106  |  87  | 144  | 144  | 220  | 230  | 1831 | \n",
       "| abc |  1   |  1   |  1   | 133  | 100  | 114  | 122  | 117  | 242  | 118  | 127  | 190  | 158  | 227  | 233  | 1881 | \n",
       "\n",
       "\n"
      ],
      "text/plain": [
       "    A  B  C  rep1 rep2 rep3 rep4 rep5 rep6 rep7 rep8 rep9 rep10 rep11 rep12\n",
       "(1) -1 -1 -1 163  142  108  107  143  144  111  112  138  287   201   211  \n",
       "a    1 -1 -1 168  199  118  132  133  130  110   98  122  191   196   216  \n",
       "b   -1  1 -1 149  136  139  115  156  158  106   95  125  165   211   201  \n",
       "ab   1  1 -1 153  236  192  187  169  185  122   88  143  205   183   186  \n",
       "c   -1 -1  1 175  133  118  121  106  161  103  113  145  202   189   206  \n",
       "ac   1 -1  1 172  159  124  134  133  129  133  152  221  176   215   228  \n",
       "bc  -1  1  1 158  169  138  124  145  166  106   87  144  144   220   230  \n",
       "abc  1  1  1 133  100  114  122  117  242  118  127  190  158   227   233  \n",
       "    Total\n",
       "(1) 1867 \n",
       "a   1813 \n",
       "b   1756 \n",
       "ab  2049 \n",
       "c   1772 \n",
       "ac  1976 \n",
       "bc  1831 \n",
       "abc 1881 "
      ]
     },
     "metadata": {},
     "output_type": "display_data"
    },
    {
     "data": {
      "text/html": [
       "<table>\n",
       "<tbody>\n",
       "\t<tr><td>30.8125</td></tr>\n",
       "</tbody>\n",
       "</table>\n"
      ],
      "text/latex": [
       "\\begin{tabular}{l}\n",
       "\t 30.8125\\\\\n",
       "\\end{tabular}\n"
      ],
      "text/markdown": [
       "\n",
       "| 30.8125 | \n",
       "\n",
       "\n"
      ],
      "text/plain": [
       "     [,1]   \n",
       "[1,] 30.8125"
      ]
     },
     "metadata": {},
     "output_type": "display_data"
    },
    {
     "data": {
      "text/html": [
       "<table>\n",
       "<thead><tr><th></th><th scope=col>A</th><th scope=col>B</th><th scope=col>C</th><th scope=col>AB</th><th scope=col>AC</th><th scope=col>BC</th><th scope=col>ABC</th><th scope=col>Total</th></tr></thead>\n",
       "<tbody>\n",
       "\t<tr><th scope=row>(1)</th><td>-1  </td><td>-1  </td><td>-1  </td><td> 1  </td><td> 1  </td><td> 1  </td><td>-1  </td><td>1867</td></tr>\n",
       "\t<tr><th scope=row>a</th><td> 1  </td><td>-1  </td><td>-1  </td><td>-1  </td><td>-1  </td><td> 1  </td><td> 1  </td><td>1813</td></tr>\n",
       "\t<tr><th scope=row>b</th><td>-1  </td><td> 1  </td><td>-1  </td><td>-1  </td><td> 1  </td><td>-1  </td><td> 1  </td><td>1756</td></tr>\n",
       "\t<tr><th scope=row>ab</th><td> 1  </td><td> 1  </td><td>-1  </td><td> 1  </td><td>-1  </td><td>-1  </td><td>-1  </td><td>2049</td></tr>\n",
       "\t<tr><th scope=row>c</th><td>-1  </td><td>-1  </td><td> 1  </td><td> 1  </td><td>-1  </td><td>-1  </td><td> 1  </td><td>1772</td></tr>\n",
       "\t<tr><th scope=row>ac</th><td> 1  </td><td>-1  </td><td> 1  </td><td>-1  </td><td> 1  </td><td>-1  </td><td>-1  </td><td>1976</td></tr>\n",
       "\t<tr><th scope=row>bc</th><td>-1  </td><td> 1  </td><td> 1  </td><td>-1  </td><td>-1  </td><td> 1  </td><td>-1  </td><td>1831</td></tr>\n",
       "\t<tr><th scope=row>abc</th><td> 1  </td><td> 1  </td><td> 1  </td><td> 1  </td><td> 1  </td><td> 1  </td><td> 1  </td><td>1881</td></tr>\n",
       "</tbody>\n",
       "</table>\n"
      ],
      "text/latex": [
       "\\begin{tabular}{r|llllllll}\n",
       "  & A & B & C & AB & AC & BC & ABC & Total\\\\\n",
       "\\hline\n",
       "\t(1) & -1   & -1   & -1   &  1   &  1   &  1   & -1   & 1867\\\\\n",
       "\ta &  1   & -1   & -1   & -1   & -1   &  1   &  1   & 1813\\\\\n",
       "\tb & -1   &  1   & -1   & -1   &  1   & -1   &  1   & 1756\\\\\n",
       "\tab &  1   &  1   & -1   &  1   & -1   & -1   & -1   & 2049\\\\\n",
       "\tc & -1   & -1   &  1   &  1   & -1   & -1   &  1   & 1772\\\\\n",
       "\tac &  1   & -1   &  1   & -1   &  1   & -1   & -1   & 1976\\\\\n",
       "\tbc & -1   &  1   &  1   & -1   & -1   &  1   & -1   & 1831\\\\\n",
       "\tabc &  1   &  1   &  1   &  1   &  1   &  1   &  1   & 1881\\\\\n",
       "\\end{tabular}\n"
      ],
      "text/markdown": [
       "\n",
       "| <!--/--> | A | B | C | AB | AC | BC | ABC | Total | \n",
       "|---|---|---|---|---|---|---|---|\n",
       "| (1) | -1   | -1   | -1   |  1   |  1   |  1   | -1   | 1867 | \n",
       "| a |  1   | -1   | -1   | -1   | -1   |  1   |  1   | 1813 | \n",
       "| b | -1   |  1   | -1   | -1   |  1   | -1   |  1   | 1756 | \n",
       "| ab |  1   |  1   | -1   |  1   | -1   | -1   | -1   | 2049 | \n",
       "| c | -1   | -1   |  1   |  1   | -1   | -1   |  1   | 1772 | \n",
       "| ac |  1   | -1   |  1   | -1   |  1   | -1   | -1   | 1976 | \n",
       "| bc | -1   |  1   |  1   | -1   | -1   |  1   | -1   | 1831 | \n",
       "| abc |  1   |  1   |  1   |  1   |  1   |  1   |  1   | 1881 | \n",
       "\n",
       "\n"
      ],
      "text/plain": [
       "    A  B  C  AB AC BC ABC Total\n",
       "(1) -1 -1 -1  1  1  1 -1  1867 \n",
       "a    1 -1 -1 -1 -1  1  1  1813 \n",
       "b   -1  1 -1 -1  1 -1  1  1756 \n",
       "ab   1  1 -1  1 -1 -1 -1  2049 \n",
       "c   -1 -1  1  1 -1 -1  1  1772 \n",
       "ac   1 -1  1 -1  1 -1 -1  1976 \n",
       "bc  -1  1  1 -1 -1  1 -1  1831 \n",
       "abc  1  1  1  1  1  1  1  1881 "
      ]
     },
     "metadata": {},
     "output_type": "display_data"
    },
    {
     "data": {
      "text/html": [
       "<table>\n",
       "<thead><tr><th></th><th scope=col>A</th><th scope=col>B</th><th scope=col>C</th><th scope=col>AB</th><th scope=col>AC</th><th scope=col>BC</th><th scope=col>ABC</th></tr></thead>\n",
       "<tbody>\n",
       "\t<tr><th scope=row>(1)</th><td>-1.0000 </td><td>-1.0000 </td><td>-1.0000 </td><td> 1.0000 </td><td> 1.0000 </td><td>  1.0000</td><td> -1.0000</td></tr>\n",
       "\t<tr><th scope=row>a</th><td> 1.0000 </td><td>-1.0000 </td><td>-1.0000 </td><td>-1.0000 </td><td>-1.0000 </td><td>  1.0000</td><td>  1.0000</td></tr>\n",
       "\t<tr><th scope=row>b</th><td>-1.0000 </td><td> 1.0000 </td><td>-1.0000 </td><td>-1.0000 </td><td> 1.0000 </td><td> -1.0000</td><td>  1.0000</td></tr>\n",
       "\t<tr><th scope=row>ab</th><td> 1.0000 </td><td> 1.0000 </td><td>-1.0000 </td><td> 1.0000 </td><td>-1.0000 </td><td> -1.0000</td><td> -1.0000</td></tr>\n",
       "\t<tr><th scope=row>c</th><td>-1.0000 </td><td>-1.0000 </td><td> 1.0000 </td><td> 1.0000 </td><td>-1.0000 </td><td> -1.0000</td><td>  1.0000</td></tr>\n",
       "\t<tr><th scope=row>ac</th><td> 1.0000 </td><td>-1.0000 </td><td> 1.0000 </td><td>-1.0000 </td><td> 1.0000 </td><td> -1.0000</td><td> -1.0000</td></tr>\n",
       "\t<tr><th scope=row>bc</th><td>-1.0000 </td><td> 1.0000 </td><td> 1.0000 </td><td>-1.0000 </td><td>-1.0000 </td><td>  1.0000</td><td> -1.0000</td></tr>\n",
       "\t<tr><th scope=row>abc</th><td> 1.0000 </td><td> 1.0000 </td><td> 1.0000 </td><td> 1.0000 </td><td> 1.0000 </td><td>  1.0000</td><td>  1.0000</td></tr>\n",
       "\t<tr><th scope=row>Effect</th><td>30.8125 </td><td> 5.5625 </td><td>-1.5625 </td><td>12.0625 </td><td> 0.9375 </td><td>-10.0625</td><td>-31.3125</td></tr>\n",
       "</tbody>\n",
       "</table>\n"
      ],
      "text/latex": [
       "\\begin{tabular}{r|lllllll}\n",
       "  & A & B & C & AB & AC & BC & ABC\\\\\n",
       "\\hline\n",
       "\t(1) & -1.0000  & -1.0000  & -1.0000  &  1.0000  &  1.0000  &   1.0000 &  -1.0000\\\\\n",
       "\ta &  1.0000  & -1.0000  & -1.0000  & -1.0000  & -1.0000  &   1.0000 &   1.0000\\\\\n",
       "\tb & -1.0000  &  1.0000  & -1.0000  & -1.0000  &  1.0000  &  -1.0000 &   1.0000\\\\\n",
       "\tab &  1.0000  &  1.0000  & -1.0000  &  1.0000  & -1.0000  &  -1.0000 &  -1.0000\\\\\n",
       "\tc & -1.0000  & -1.0000  &  1.0000  &  1.0000  & -1.0000  &  -1.0000 &   1.0000\\\\\n",
       "\tac &  1.0000  & -1.0000  &  1.0000  & -1.0000  &  1.0000  &  -1.0000 &  -1.0000\\\\\n",
       "\tbc & -1.0000  &  1.0000  &  1.0000  & -1.0000  & -1.0000  &   1.0000 &  -1.0000\\\\\n",
       "\tabc &  1.0000  &  1.0000  &  1.0000  &  1.0000  &  1.0000  &   1.0000 &   1.0000\\\\\n",
       "\tEffect & 30.8125  &  5.5625  & -1.5625  & 12.0625  &  0.9375  & -10.0625 & -31.3125\\\\\n",
       "\\end{tabular}\n"
      ],
      "text/markdown": [
       "\n",
       "| <!--/--> | A | B | C | AB | AC | BC | ABC | \n",
       "|---|---|---|---|---|---|---|---|---|\n",
       "| (1) | -1.0000  | -1.0000  | -1.0000  |  1.0000  |  1.0000  |   1.0000 |  -1.0000 | \n",
       "| a |  1.0000  | -1.0000  | -1.0000  | -1.0000  | -1.0000  |   1.0000 |   1.0000 | \n",
       "| b | -1.0000  |  1.0000  | -1.0000  | -1.0000  |  1.0000  |  -1.0000 |   1.0000 | \n",
       "| ab |  1.0000  |  1.0000  | -1.0000  |  1.0000  | -1.0000  |  -1.0000 |  -1.0000 | \n",
       "| c | -1.0000  | -1.0000  |  1.0000  |  1.0000  | -1.0000  |  -1.0000 |   1.0000 | \n",
       "| ac |  1.0000  | -1.0000  |  1.0000  | -1.0000  |  1.0000  |  -1.0000 |  -1.0000 | \n",
       "| bc | -1.0000  |  1.0000  |  1.0000  | -1.0000  | -1.0000  |   1.0000 |  -1.0000 | \n",
       "| abc |  1.0000  |  1.0000  |  1.0000  |  1.0000  |  1.0000  |   1.0000 |   1.0000 | \n",
       "| Effect | 30.8125  |  5.5625  | -1.5625  | 12.0625  |  0.9375  | -10.0625 | -31.3125 | \n",
       "\n",
       "\n"
      ],
      "text/plain": [
       "       A       B       C       AB      AC      BC       ABC     \n",
       "(1)    -1.0000 -1.0000 -1.0000  1.0000  1.0000   1.0000  -1.0000\n",
       "a       1.0000 -1.0000 -1.0000 -1.0000 -1.0000   1.0000   1.0000\n",
       "b      -1.0000  1.0000 -1.0000 -1.0000  1.0000  -1.0000   1.0000\n",
       "ab      1.0000  1.0000 -1.0000  1.0000 -1.0000  -1.0000  -1.0000\n",
       "c      -1.0000 -1.0000  1.0000  1.0000 -1.0000  -1.0000   1.0000\n",
       "ac      1.0000 -1.0000  1.0000 -1.0000  1.0000  -1.0000  -1.0000\n",
       "bc     -1.0000  1.0000  1.0000 -1.0000 -1.0000   1.0000  -1.0000\n",
       "abc     1.0000  1.0000  1.0000  1.0000  1.0000   1.0000   1.0000\n",
       "Effect 30.8125  5.5625 -1.5625 12.0625  0.9375 -10.0625 -31.3125"
      ]
     },
     "metadata": {},
     "output_type": "display_data"
    },
    {
     "data": {
      "text/plain": [
       "\n",
       "Call:\n",
       "lm.default(formula = fact_time.vec ~ Af * Bf * Cf)\n",
       "\n",
       "Residuals:\n",
       "    Min      1Q  Median      3Q     Max \n",
       "-82.750 -31.667  -8.583  22.771 131.417 \n",
       "\n",
       "Coefficients:\n",
       "            Estimate Std. Error t value Pr(>|t|)    \n",
       "(Intercept) 155.6771     4.3620  35.690   <2e-16 ***\n",
       "Af1          -5.1354     4.3620  -1.177    0.242    \n",
       "Bf1          -0.9271     4.3620  -0.213    0.832    \n",
       "Cf1           0.2604     4.3620   0.060    0.953    \n",
       "Af1:Bf1       2.0104     4.3620   0.461    0.646    \n",
       "Af1:Cf1       0.1563     4.3620   0.036    0.972    \n",
       "Bf1:Cf1      -1.6771     4.3620  -0.384    0.702    \n",
       "Af1:Bf1:Cf1   5.2188     4.3620   1.196    0.235    \n",
       "---\n",
       "Signif. codes:  0 '***' 0.001 '**' 0.01 '*' 0.05 '.' 0.1 ' ' 1\n",
       "\n",
       "Residual standard error: 42.74 on 88 degrees of freedom\n",
       "Multiple R-squared:  0.03538,\tAdjusted R-squared:  -0.04135 \n",
       "F-statistic: 0.4611 on 7 and 88 DF,  p-value: 0.8601\n"
      ]
     },
     "metadata": {},
     "output_type": "display_data"
    },
    {
     "data": {
      "text/html": [
       "<table>\n",
       "<thead><tr><th></th><th scope=col>Df</th><th scope=col>Sum Sq</th><th scope=col>Mean Sq</th><th scope=col>F value</th><th scope=col>Pr(&gt;F)</th></tr></thead>\n",
       "<tbody>\n",
       "\t<tr><th scope=row>Af</th><td> 1          </td><td>2.531760e+03</td><td>2531.760417 </td><td>1.386081426 </td><td>0.2422424   </td></tr>\n",
       "\t<tr><th scope=row>Bf</th><td> 1          </td><td>8.251042e+01</td><td>  82.510417 </td><td>0.045172582 </td><td>0.8321786   </td></tr>\n",
       "\t<tr><th scope=row>Cf</th><td> 1          </td><td>6.510417e+00</td><td>   6.510417 </td><td>0.003564306 </td><td>0.9525285   </td></tr>\n",
       "\t<tr><th scope=row>Af:Bf</th><td> 1          </td><td>3.880104e+02</td><td> 388.010417 </td><td>0.212426906 </td><td>0.6460089   </td></tr>\n",
       "\t<tr><th scope=row>Af:Cf</th><td> 1          </td><td>2.343750e+00</td><td>   2.343750 </td><td>0.001283150 </td><td>0.9715062   </td></tr>\n",
       "\t<tr><th scope=row>Bf:Cf</th><td> 1          </td><td>2.700104e+02</td><td> 270.010417 </td><td>0.147824581 </td><td>0.7015506   </td></tr>\n",
       "\t<tr><th scope=row>Af:Bf:Cf</th><td> 1          </td><td>2.614594e+03</td><td>2614.593750 </td><td>1.431430798 </td><td>0.2347446   </td></tr>\n",
       "\t<tr><th scope=row>Residuals</th><td>88          </td><td>1.607373e+05</td><td>1826.559659 </td><td>         NA </td><td>       NA   </td></tr>\n",
       "</tbody>\n",
       "</table>\n"
      ],
      "text/latex": [
       "\\begin{tabular}{r|lllll}\n",
       "  & Df & Sum Sq & Mean Sq & F value & Pr(>F)\\\\\n",
       "\\hline\n",
       "\tAf &  1           & 2.531760e+03 & 2531.760417  & 1.386081426  & 0.2422424   \\\\\n",
       "\tBf &  1           & 8.251042e+01 &   82.510417  & 0.045172582  & 0.8321786   \\\\\n",
       "\tCf &  1           & 6.510417e+00 &    6.510417  & 0.003564306  & 0.9525285   \\\\\n",
       "\tAf:Bf &  1           & 3.880104e+02 &  388.010417  & 0.212426906  & 0.6460089   \\\\\n",
       "\tAf:Cf &  1           & 2.343750e+00 &    2.343750  & 0.001283150  & 0.9715062   \\\\\n",
       "\tBf:Cf &  1           & 2.700104e+02 &  270.010417  & 0.147824581  & 0.7015506   \\\\\n",
       "\tAf:Bf:Cf &  1           & 2.614594e+03 & 2614.593750  & 1.431430798  & 0.2347446   \\\\\n",
       "\tResiduals & 88           & 1.607373e+05 & 1826.559659  &          NA  &        NA   \\\\\n",
       "\\end{tabular}\n"
      ],
      "text/markdown": [
       "\n",
       "| <!--/--> | Df | Sum Sq | Mean Sq | F value | Pr(>F) | \n",
       "|---|---|---|---|---|---|---|---|\n",
       "| Af |  1           | 2.531760e+03 | 2531.760417  | 1.386081426  | 0.2422424    | \n",
       "| Bf |  1           | 8.251042e+01 |   82.510417  | 0.045172582  | 0.8321786    | \n",
       "| Cf |  1           | 6.510417e+00 |    6.510417  | 0.003564306  | 0.9525285    | \n",
       "| Af:Bf |  1           | 3.880104e+02 |  388.010417  | 0.212426906  | 0.6460089    | \n",
       "| Af:Cf |  1           | 2.343750e+00 |    2.343750  | 0.001283150  | 0.9715062    | \n",
       "| Bf:Cf |  1           | 2.700104e+02 |  270.010417  | 0.147824581  | 0.7015506    | \n",
       "| Af:Bf:Cf |  1           | 2.614594e+03 | 2614.593750  | 1.431430798  | 0.2347446    | \n",
       "| Residuals | 88           | 1.607373e+05 | 1826.559659  |          NA  |        NA    | \n",
       "\n",
       "\n"
      ],
      "text/plain": [
       "          Df Sum Sq       Mean Sq     F value     Pr(>F)   \n",
       "Af         1 2.531760e+03 2531.760417 1.386081426 0.2422424\n",
       "Bf         1 8.251042e+01   82.510417 0.045172582 0.8321786\n",
       "Cf         1 6.510417e+00    6.510417 0.003564306 0.9525285\n",
       "Af:Bf      1 3.880104e+02  388.010417 0.212426906 0.6460089\n",
       "Af:Cf      1 2.343750e+00    2.343750 0.001283150 0.9715062\n",
       "Bf:Cf      1 2.700104e+02  270.010417 0.147824581 0.7015506\n",
       "Af:Bf:Cf   1 2.614594e+03 2614.593750 1.431430798 0.2347446\n",
       "Residuals 88 1.607373e+05 1826.559659          NA        NA"
      ]
     },
     "metadata": {},
     "output_type": "display_data"
    }
   ],
   "source": [
    "fact_time=read.csv(file='C:/Users/USER/Desktop/Data Science/20-2학기/Factorial_Time.csv',header=T)\n",
    "names(fact_time)[1]=c(\"rep1\")\n",
    "fact_time\n",
    "\n",
    "#reps=c(\"rep1\",\"rep2\",\"rep3\",\"rep4\",\"rep5\",\"rep6\",\"rep7\",\"rep8\",\"rep9\",\"rep10\",\"rep11\",\"rep12\")\n",
    "rownames(fact_time)=c(\"(1)\",\"a\",\"b\",\"ab\",\"c\",\"ac\",\"bc\",\"abc\")\n",
    "A <- rep(c(-1,1),4)\n",
    "B <- rep(c(-1,-1,1,1),2)\n",
    "C <- c(rep(-1,4),rep(1,4))\n",
    "Total=apply(fact_time,1,sum)\n",
    "\n",
    "cbind(A,B,C,fact_time,Total)\n",
    "\n",
    "n=4\n",
    "Aeff <- (Total %*% A)/(4*n)\n",
    "Aeff\n",
    "Beff <- (Total %*% B)/(4*n)\n",
    "Ceff <- (Total %*% C)/(4*n)\n",
    "AB=A*B\n",
    "BC=B*C\n",
    "AC=A*C\n",
    "ABC=A*B*C\n",
    "cbind(A,B,C,AB,AC,BC,ABC,Total)\n",
    "ABeff <- (Total %*% AB)/(4*n)\n",
    "ACeff <- (Total %*% AC)/(4*n)\n",
    "BCeff <- (Total %*% BC)/(4*n)\n",
    "ABCeff <- (Total %*% ABC)/(4*n)\n",
    "\n",
    "Effects <- t(Total) %*% cbind(A,B,C,AB,AC,BC,ABC)/(4*n)\n",
    "Summary <- rbind( cbind(A,B,C,AB,AC,BC,ABC),Effects )\n",
    "dimnames(Summary)[[1]] <- c(dimnames(fact_time)[[1]],\"Effect\")\n",
    "Summary\n",
    "\n",
    "fact_time.vec <- c(t(fact_time))\n",
    "Af <- rep(as.factor(A),rep(12,8))\n",
    "Bf <- rep(as.factor(B),rep(12,8))\n",
    "Cf <- rep(as.factor(C),rep(12,8))\n",
    "options(contrasts=c(\"contr.sum\",\"contr.poly\"))\n",
    "fact_time.lm <- lm(fact_time.vec ~ Af*Bf*Cf)\n",
    "summary(fact_time.lm)\n",
    "anova(fact_time.lm)\n"
   ]
  },
  {
   "cell_type": "code",
   "execution_count": 111,
   "metadata": {},
   "outputs": [
    {
     "data": {
      "image/png": "[encoded data removed]",
      "text/plain": [
       "Plot with title \"Interaction Plot\""
      ]
     },
     "metadata": {},
     "output_type": "display_data"
    }
   ],
   "source": [
    "opar<-par(mfrow=c(1,3),oma=c(0,0,1.1,0))\n",
    "with(fact_time,{interaction.plot(A,B,Total, type = \"b\",xlab=\"Language of Lyrics\",ylab = \"Time\",trace.label=\"Genre\", main='Interaction Plot',pch=c(1,19))\n",
    "                interaction.plot(B,C,Total, type = \"b\",xlab=\"Genre\",ylab = \"Time\",trace.label=\"Experience of listening\", main='Interaction Plot',pch=c(1,19))\n",
    "                interaction.plot(C,A,Total, type = \"b\",xlab=\"Experience of listening\",ylab = \"Time\",trace.label=\"Language of Lyrics\", main='Interaction Plot',pch=c(1,19))\n",
    "                })"
   ]
  },
  {
   "cell_type": "code",
   "execution_count": 74,
   "metadata": {},
   "outputs": [
    {
     "data": {
      "image/png": "[encoded data removed]",
      "text/plain": [
       "Plot with title \"\""
      ]
     },
     "metadata": {},
     "output_type": "display_data"
    },
    {
     "data": {
      "image/png": "[encoded data removed]",
      "text/plain": [
       "Plot with title \"\""
      ]
     },
     "metadata": {},
     "output_type": "display_data"
    },
    {
     "data": {
      "image/png": "[encoded data removed]",
      "text/plain": [
       "Plot with title \"\""
      ]
     },
     "metadata": {},
     "output_type": "display_data"
    },
    {
     "data": {
      "image/png": "[encoded data removed]",
      "text/plain": [
       "Plot with title \"\""
      ]
     },
     "metadata": {},
     "output_type": "display_data"
    }
   ],
   "source": [
    "plot(fact_time.lm)"
   ]
  },
  {
   "cell_type": "code",
   "execution_count": 1,
   "metadata": {},
   "outputs": [
    {
     "data": {
      "text/html": [
       "<table>\n",
       "<thead><tr><th scope=col>rep1</th><th scope=col>rep2</th><th scope=col>rep3</th><th scope=col>rep4</th><th scope=col>rep5</th><th scope=col>rep6</th><th scope=col>rep7</th><th scope=col>rep8</th><th scope=col>rep9</th><th scope=col>rep10</th><th scope=col>rep11</th><th scope=col>rep12</th></tr></thead>\n",
       "<tbody>\n",
       "\t<tr><td>30</td><td>26</td><td>30</td><td>27</td><td>30</td><td>30</td><td>30</td><td>26</td><td>30</td><td>24</td><td>30</td><td>26</td></tr>\n",
       "\t<tr><td>30</td><td>27</td><td>27</td><td>30</td><td>30</td><td>27</td><td>30</td><td>30</td><td>27</td><td>20</td><td>30</td><td>24</td></tr>\n",
       "\t<tr><td>30</td><td>30</td><td>24</td><td>26</td><td>30</td><td>27</td><td>30</td><td>27</td><td>27</td><td>30</td><td>30</td><td>30</td></tr>\n",
       "\t<tr><td>30</td><td>26</td><td>30</td><td>27</td><td>24</td><td>30</td><td>30</td><td>23</td><td>26</td><td>27</td><td>27</td><td>26</td></tr>\n",
       "\t<tr><td>30</td><td>30</td><td>30</td><td>30</td><td>27</td><td>30</td><td>30</td><td>30</td><td>23</td><td>30</td><td>27</td><td>27</td></tr>\n",
       "\t<tr><td>27</td><td>30</td><td>27</td><td>30</td><td>27</td><td>30</td><td>21</td><td>27</td><td>19</td><td>21</td><td>23</td><td>26</td></tr>\n",
       "\t<tr><td>30</td><td>26</td><td>20</td><td>24</td><td>26</td><td>27</td><td>30</td><td>23</td><td>30</td><td>23</td><td>30</td><td>30</td></tr>\n",
       "\t<tr><td>23</td><td>13</td><td>30</td><td>30</td><td>27</td><td>27</td><td>30</td><td>23</td><td>20</td><td>26</td><td>26</td><td>27</td></tr>\n",
       "</tbody>\n",
       "</table>\n"
      ],
      "text/latex": [
       "\\begin{tabular}{r|llllllllllll}\n",
       " rep1 & rep2 & rep3 & rep4 & rep5 & rep6 & rep7 & rep8 & rep9 & rep10 & rep11 & rep12\\\\\n",
       "\\hline\n",
       "\t 30 & 26 & 30 & 27 & 30 & 30 & 30 & 26 & 30 & 24 & 30 & 26\\\\\n",
       "\t 30 & 27 & 27 & 30 & 30 & 27 & 30 & 30 & 27 & 20 & 30 & 24\\\\\n",
       "\t 30 & 30 & 24 & 26 & 30 & 27 & 30 & 27 & 27 & 30 & 30 & 30\\\\\n",
       "\t 30 & 26 & 30 & 27 & 24 & 30 & 30 & 23 & 26 & 27 & 27 & 26\\\\\n",
       "\t 30 & 30 & 30 & 30 & 27 & 30 & 30 & 30 & 23 & 30 & 27 & 27\\\\\n",
       "\t 27 & 30 & 27 & 30 & 27 & 30 & 21 & 27 & 19 & 21 & 23 & 26\\\\\n",
       "\t 30 & 26 & 20 & 24 & 26 & 27 & 30 & 23 & 30 & 23 & 30 & 30\\\\\n",
       "\t 23 & 13 & 30 & 30 & 27 & 27 & 30 & 23 & 20 & 26 & 26 & 27\\\\\n",
       "\\end{tabular}\n"
      ],
      "text/markdown": [
       "\n",
       "rep1 | rep2 | rep3 | rep4 | rep5 | rep6 | rep7 | rep8 | rep9 | rep10 | rep11 | rep12 | \n",
       "|---|---|---|---|---|---|---|---|\n",
       "| 30 | 26 | 30 | 27 | 30 | 30 | 30 | 26 | 30 | 24 | 30 | 26 | \n",
       "| 30 | 27 | 27 | 30 | 30 | 27 | 30 | 30 | 27 | 20 | 30 | 24 | \n",
       "| 30 | 30 | 24 | 26 | 30 | 27 | 30 | 27 | 27 | 30 | 30 | 30 | \n",
       "| 30 | 26 | 30 | 27 | 24 | 30 | 30 | 23 | 26 | 27 | 27 | 26 | \n",
       "| 30 | 30 | 30 | 30 | 27 | 30 | 30 | 30 | 23 | 30 | 27 | 27 | \n",
       "| 27 | 30 | 27 | 30 | 27 | 30 | 21 | 27 | 19 | 21 | 23 | 26 | \n",
       "| 30 | 26 | 20 | 24 | 26 | 27 | 30 | 23 | 30 | 23 | 30 | 30 | \n",
       "| 23 | 13 | 30 | 30 | 27 | 27 | 30 | 23 | 20 | 26 | 26 | 27 | \n",
       "\n",
       "\n"
      ],
      "text/plain": [
       "  rep1 rep2 rep3 rep4 rep5 rep6 rep7 rep8 rep9 rep10 rep11 rep12\n",
       "1 30   26   30   27   30   30   30   26   30   24    30    26   \n",
       "2 30   27   27   30   30   27   30   30   27   20    30    24   \n",
       "3 30   30   24   26   30   27   30   27   27   30    30    30   \n",
       "4 30   26   30   27   24   30   30   23   26   27    27    26   \n",
       "5 30   30   30   30   27   30   30   30   23   30    27    27   \n",
       "6 27   30   27   30   27   30   21   27   19   21    23    26   \n",
       "7 30   26   20   24   26   27   30   23   30   23    30    30   \n",
       "8 23   13   30   30   27   27   30   23   20   26    26    27   "
      ]
     },
     "metadata": {},
     "output_type": "display_data"
    },
    {
     "data": {
      "text/html": [
       "<table>\n",
       "<thead><tr><th></th><th scope=col>A</th><th scope=col>B</th><th scope=col>C</th><th scope=col>rep1</th><th scope=col>rep2</th><th scope=col>rep3</th><th scope=col>rep4</th><th scope=col>rep5</th><th scope=col>rep6</th><th scope=col>rep7</th><th scope=col>rep8</th><th scope=col>rep9</th><th scope=col>rep10</th><th scope=col>rep11</th><th scope=col>rep12</th><th scope=col>Total</th></tr></thead>\n",
       "<tbody>\n",
       "\t<tr><th scope=row>(1)</th><td>-1 </td><td>-1 </td><td>-1 </td><td>30 </td><td>26 </td><td>30 </td><td>27 </td><td>30 </td><td>30 </td><td>30 </td><td>26 </td><td>30 </td><td>24 </td><td>30 </td><td>26 </td><td>339</td></tr>\n",
       "\t<tr><th scope=row>a</th><td> 1 </td><td>-1 </td><td>-1 </td><td>30 </td><td>27 </td><td>27 </td><td>30 </td><td>30 </td><td>27 </td><td>30 </td><td>30 </td><td>27 </td><td>20 </td><td>30 </td><td>24 </td><td>332</td></tr>\n",
       "\t<tr><th scope=row>b</th><td>-1 </td><td> 1 </td><td>-1 </td><td>30 </td><td>30 </td><td>24 </td><td>26 </td><td>30 </td><td>27 </td><td>30 </td><td>27 </td><td>27 </td><td>30 </td><td>30 </td><td>30 </td><td>341</td></tr>\n",
       "\t<tr><th scope=row>ab</th><td> 1 </td><td> 1 </td><td>-1 </td><td>30 </td><td>26 </td><td>30 </td><td>27 </td><td>24 </td><td>30 </td><td>30 </td><td>23 </td><td>26 </td><td>27 </td><td>27 </td><td>26 </td><td>326</td></tr>\n",
       "\t<tr><th scope=row>c</th><td>-1 </td><td>-1 </td><td> 1 </td><td>30 </td><td>30 </td><td>30 </td><td>30 </td><td>27 </td><td>30 </td><td>30 </td><td>30 </td><td>23 </td><td>30 </td><td>27 </td><td>27 </td><td>344</td></tr>\n",
       "\t<tr><th scope=row>ac</th><td> 1 </td><td>-1 </td><td> 1 </td><td>27 </td><td>30 </td><td>27 </td><td>30 </td><td>27 </td><td>30 </td><td>21 </td><td>27 </td><td>19 </td><td>21 </td><td>23 </td><td>26 </td><td>308</td></tr>\n",
       "\t<tr><th scope=row>bc</th><td>-1 </td><td> 1 </td><td> 1 </td><td>30 </td><td>26 </td><td>20 </td><td>24 </td><td>26 </td><td>27 </td><td>30 </td><td>23 </td><td>30 </td><td>23 </td><td>30 </td><td>30 </td><td>319</td></tr>\n",
       "\t<tr><th scope=row>abc</th><td> 1 </td><td> 1 </td><td> 1 </td><td>23 </td><td>13 </td><td>30 </td><td>30 </td><td>27 </td><td>27 </td><td>30 </td><td>23 </td><td>20 </td><td>26 </td><td>26 </td><td>27 </td><td>302</td></tr>\n",
       "</tbody>\n",
       "</table>\n"
      ],
      "text/latex": [
       "\\begin{tabular}{r|llllllllllllllll}\n",
       "  & A & B & C & rep1 & rep2 & rep3 & rep4 & rep5 & rep6 & rep7 & rep8 & rep9 & rep10 & rep11 & rep12 & Total\\\\\n",
       "\\hline\n",
       "\t(1) & -1  & -1  & -1  & 30  & 26  & 30  & 27  & 30  & 30  & 30  & 26  & 30  & 24  & 30  & 26  & 339\\\\\n",
       "\ta &  1  & -1  & -1  & 30  & 27  & 27  & 30  & 30  & 27  & 30  & 30  & 27  & 20  & 30  & 24  & 332\\\\\n",
       "\tb & -1  &  1  & -1  & 30  & 30  & 24  & 26  & 30  & 27  & 30  & 27  & 27  & 30  & 30  & 30  & 341\\\\\n",
       "\tab &  1  &  1  & -1  & 30  & 26  & 30  & 27  & 24  & 30  & 30  & 23  & 26  & 27  & 27  & 26  & 326\\\\\n",
       "\tc & -1  & -1  &  1  & 30  & 30  & 30  & 30  & 27  & 30  & 30  & 30  & 23  & 30  & 27  & 27  & 344\\\\\n",
       "\tac &  1  & -1  &  1  & 27  & 30  & 27  & 30  & 27  & 30  & 21  & 27  & 19  & 21  & 23  & 26  & 308\\\\\n",
       "\tbc & -1  &  1  &  1  & 30  & 26  & 20  & 24  & 26  & 27  & 30  & 23  & 30  & 23  & 30  & 30  & 319\\\\\n",
       "\tabc &  1  &  1  &  1  & 23  & 13  & 30  & 30  & 27  & 27  & 30  & 23  & 20  & 26  & 26  & 27  & 302\\\\\n",
       "\\end{tabular}\n"
      ],
      "text/markdown": [
       "\n",
       "| <!--/--> | A | B | C | rep1 | rep2 | rep3 | rep4 | rep5 | rep6 | rep7 | rep8 | rep9 | rep10 | rep11 | rep12 | Total | \n",
       "|---|---|---|---|---|---|---|---|\n",
       "| (1) | -1  | -1  | -1  | 30  | 26  | 30  | 27  | 30  | 30  | 30  | 26  | 30  | 24  | 30  | 26  | 339 | \n",
       "| a |  1  | -1  | -1  | 30  | 27  | 27  | 30  | 30  | 27  | 30  | 30  | 27  | 20  | 30  | 24  | 332 | \n",
       "| b | -1  |  1  | -1  | 30  | 30  | 24  | 26  | 30  | 27  | 30  | 27  | 27  | 30  | 30  | 30  | 341 | \n",
       "| ab |  1  |  1  | -1  | 30  | 26  | 30  | 27  | 24  | 30  | 30  | 23  | 26  | 27  | 27  | 26  | 326 | \n",
       "| c | -1  | -1  |  1  | 30  | 30  | 30  | 30  | 27  | 30  | 30  | 30  | 23  | 30  | 27  | 27  | 344 | \n",
       "| ac |  1  | -1  |  1  | 27  | 30  | 27  | 30  | 27  | 30  | 21  | 27  | 19  | 21  | 23  | 26  | 308 | \n",
       "| bc | -1  |  1  |  1  | 30  | 26  | 20  | 24  | 26  | 27  | 30  | 23  | 30  | 23  | 30  | 30  | 319 | \n",
       "| abc |  1  |  1  |  1  | 23  | 13  | 30  | 30  | 27  | 27  | 30  | 23  | 20  | 26  | 26  | 27  | 302 | \n",
       "\n",
       "\n"
      ],
      "text/plain": [
       "    A  B  C  rep1 rep2 rep3 rep4 rep5 rep6 rep7 rep8 rep9 rep10 rep11 rep12\n",
       "(1) -1 -1 -1 30   26   30   27   30   30   30   26   30   24    30    26   \n",
       "a    1 -1 -1 30   27   27   30   30   27   30   30   27   20    30    24   \n",
       "b   -1  1 -1 30   30   24   26   30   27   30   27   27   30    30    30   \n",
       "ab   1  1 -1 30   26   30   27   24   30   30   23   26   27    27    26   \n",
       "c   -1 -1  1 30   30   30   30   27   30   30   30   23   30    27    27   \n",
       "ac   1 -1  1 27   30   27   30   27   30   21   27   19   21    23    26   \n",
       "bc  -1  1  1 30   26   20   24   26   27   30   23   30   23    30    30   \n",
       "abc  1  1  1 23   13   30   30   27   27   30   23   20   26    26    27   \n",
       "    Total\n",
       "(1) 339  \n",
       "a   332  \n",
       "b   341  \n",
       "ab  326  \n",
       "c   344  \n",
       "ac  308  \n",
       "bc  319  \n",
       "abc 302  "
      ]
     },
     "metadata": {},
     "output_type": "display_data"
    },
    {
     "data": {
      "text/html": [
       "<table>\n",
       "<thead><tr><th></th><th scope=col>A</th><th scope=col>B</th><th scope=col>C</th><th scope=col>AB</th><th scope=col>AC</th><th scope=col>BC</th><th scope=col>ABC</th><th scope=col>Total</th></tr></thead>\n",
       "<tbody>\n",
       "\t<tr><th scope=row>(1)</th><td>-1 </td><td>-1 </td><td>-1 </td><td> 1 </td><td> 1 </td><td> 1 </td><td>-1 </td><td>339</td></tr>\n",
       "\t<tr><th scope=row>a</th><td> 1 </td><td>-1 </td><td>-1 </td><td>-1 </td><td>-1 </td><td> 1 </td><td> 1 </td><td>332</td></tr>\n",
       "\t<tr><th scope=row>b</th><td>-1 </td><td> 1 </td><td>-1 </td><td>-1 </td><td> 1 </td><td>-1 </td><td> 1 </td><td>341</td></tr>\n",
       "\t<tr><th scope=row>ab</th><td> 1 </td><td> 1 </td><td>-1 </td><td> 1 </td><td>-1 </td><td>-1 </td><td>-1 </td><td>326</td></tr>\n",
       "\t<tr><th scope=row>c</th><td>-1 </td><td>-1 </td><td> 1 </td><td> 1 </td><td>-1 </td><td>-1 </td><td> 1 </td><td>344</td></tr>\n",
       "\t<tr><th scope=row>ac</th><td> 1 </td><td>-1 </td><td> 1 </td><td>-1 </td><td> 1 </td><td>-1 </td><td>-1 </td><td>308</td></tr>\n",
       "\t<tr><th scope=row>bc</th><td>-1 </td><td> 1 </td><td> 1 </td><td>-1 </td><td>-1 </td><td> 1 </td><td>-1 </td><td>319</td></tr>\n",
       "\t<tr><th scope=row>abc</th><td> 1 </td><td> 1 </td><td> 1 </td><td> 1 </td><td> 1 </td><td> 1 </td><td> 1 </td><td>302</td></tr>\n",
       "</tbody>\n",
       "</table>\n"
      ],
      "text/latex": [
       "\\begin{tabular}{r|llllllll}\n",
       "  & A & B & C & AB & AC & BC & ABC & Total\\\\\n",
       "\\hline\n",
       "\t(1) & -1  & -1  & -1  &  1  &  1  &  1  & -1  & 339\\\\\n",
       "\ta &  1  & -1  & -1  & -1  & -1  &  1  &  1  & 332\\\\\n",
       "\tb & -1  &  1  & -1  & -1  &  1  & -1  &  1  & 341\\\\\n",
       "\tab &  1  &  1  & -1  &  1  & -1  & -1  & -1  & 326\\\\\n",
       "\tc & -1  & -1  &  1  &  1  & -1  & -1  &  1  & 344\\\\\n",
       "\tac &  1  & -1  &  1  & -1  &  1  & -1  & -1  & 308\\\\\n",
       "\tbc & -1  &  1  &  1  & -1  & -1  &  1  & -1  & 319\\\\\n",
       "\tabc &  1  &  1  &  1  &  1  &  1  &  1  &  1  & 302\\\\\n",
       "\\end{tabular}\n"
      ],
      "text/markdown": [
       "\n",
       "| <!--/--> | A | B | C | AB | AC | BC | ABC | Total | \n",
       "|---|---|---|---|---|---|---|---|\n",
       "| (1) | -1  | -1  | -1  |  1  |  1  |  1  | -1  | 339 | \n",
       "| a |  1  | -1  | -1  | -1  | -1  |  1  |  1  | 332 | \n",
       "| b | -1  |  1  | -1  | -1  |  1  | -1  |  1  | 341 | \n",
       "| ab |  1  |  1  | -1  |  1  | -1  | -1  | -1  | 326 | \n",
       "| c | -1  | -1  |  1  |  1  | -1  | -1  |  1  | 344 | \n",
       "| ac |  1  | -1  |  1  | -1  |  1  | -1  | -1  | 308 | \n",
       "| bc | -1  |  1  |  1  | -1  | -1  |  1  | -1  | 319 | \n",
       "| abc |  1  |  1  |  1  |  1  |  1  |  1  |  1  | 302 | \n",
       "\n",
       "\n"
      ],
      "text/plain": [
       "    A  B  C  AB AC BC ABC Total\n",
       "(1) -1 -1 -1  1  1  1 -1  339  \n",
       "a    1 -1 -1 -1 -1  1  1  332  \n",
       "b   -1  1 -1 -1  1 -1  1  341  \n",
       "ab   1  1 -1  1 -1 -1 -1  326  \n",
       "c   -1 -1  1  1 -1 -1  1  344  \n",
       "ac   1 -1  1 -1  1 -1 -1  308  \n",
       "bc  -1  1  1 -1 -1  1 -1  319  \n",
       "abc  1  1  1  1  1  1  1  302  "
      ]
     },
     "metadata": {},
     "output_type": "display_data"
    },
    {
     "data": {
      "text/html": [
       "<table>\n",
       "<thead><tr><th></th><th scope=col>A</th><th scope=col>B</th><th scope=col>C</th><th scope=col>AB</th><th scope=col>AC</th><th scope=col>BC</th><th scope=col>ABC</th></tr></thead>\n",
       "<tbody>\n",
       "\t<tr><th scope=row>(1)</th><td>-1.0000</td><td>-1.0000</td><td>-1.0000</td><td> 1.0000</td><td> 1.0000</td><td> 1.0000</td><td>-1.0000</td></tr>\n",
       "\t<tr><th scope=row>a</th><td> 1.0000</td><td>-1.0000</td><td>-1.0000</td><td>-1.0000</td><td>-1.0000</td><td> 1.0000</td><td> 1.0000</td></tr>\n",
       "\t<tr><th scope=row>b</th><td>-1.0000</td><td> 1.0000</td><td>-1.0000</td><td>-1.0000</td><td> 1.0000</td><td>-1.0000</td><td> 1.0000</td></tr>\n",
       "\t<tr><th scope=row>ab</th><td> 1.0000</td><td> 1.0000</td><td>-1.0000</td><td> 1.0000</td><td>-1.0000</td><td>-1.0000</td><td>-1.0000</td></tr>\n",
       "\t<tr><th scope=row>c</th><td>-1.0000</td><td>-1.0000</td><td> 1.0000</td><td> 1.0000</td><td>-1.0000</td><td>-1.0000</td><td> 1.0000</td></tr>\n",
       "\t<tr><th scope=row>ac</th><td> 1.0000</td><td>-1.0000</td><td> 1.0000</td><td>-1.0000</td><td> 1.0000</td><td>-1.0000</td><td>-1.0000</td></tr>\n",
       "\t<tr><th scope=row>bc</th><td>-1.0000</td><td> 1.0000</td><td> 1.0000</td><td>-1.0000</td><td>-1.0000</td><td> 1.0000</td><td>-1.0000</td></tr>\n",
       "\t<tr><th scope=row>abc</th><td> 1.0000</td><td> 1.0000</td><td> 1.0000</td><td> 1.0000</td><td> 1.0000</td><td> 1.0000</td><td> 1.0000</td></tr>\n",
       "\t<tr><th scope=row>Effect</th><td>-4.6875</td><td>-2.1875</td><td>-4.0625</td><td> 0.6875</td><td>-1.9375</td><td>-1.6875</td><td> 1.6875</td></tr>\n",
       "</tbody>\n",
       "</table>\n"
      ],
      "text/latex": [
       "\\begin{tabular}{r|lllllll}\n",
       "  & A & B & C & AB & AC & BC & ABC\\\\\n",
       "\\hline\n",
       "\t(1) & -1.0000 & -1.0000 & -1.0000 &  1.0000 &  1.0000 &  1.0000 & -1.0000\\\\\n",
       "\ta &  1.0000 & -1.0000 & -1.0000 & -1.0000 & -1.0000 &  1.0000 &  1.0000\\\\\n",
       "\tb & -1.0000 &  1.0000 & -1.0000 & -1.0000 &  1.0000 & -1.0000 &  1.0000\\\\\n",
       "\tab &  1.0000 &  1.0000 & -1.0000 &  1.0000 & -1.0000 & -1.0000 & -1.0000\\\\\n",
       "\tc & -1.0000 & -1.0000 &  1.0000 &  1.0000 & -1.0000 & -1.0000 &  1.0000\\\\\n",
       "\tac &  1.0000 & -1.0000 &  1.0000 & -1.0000 &  1.0000 & -1.0000 & -1.0000\\\\\n",
       "\tbc & -1.0000 &  1.0000 &  1.0000 & -1.0000 & -1.0000 &  1.0000 & -1.0000\\\\\n",
       "\tabc &  1.0000 &  1.0000 &  1.0000 &  1.0000 &  1.0000 &  1.0000 &  1.0000\\\\\n",
       "\tEffect & -4.6875 & -2.1875 & -4.0625 &  0.6875 & -1.9375 & -1.6875 &  1.6875\\\\\n",
       "\\end{tabular}\n"
      ],
      "text/markdown": [
       "\n",
       "| <!--/--> | A | B | C | AB | AC | BC | ABC | \n",
       "|---|---|---|---|---|---|---|---|---|\n",
       "| (1) | -1.0000 | -1.0000 | -1.0000 |  1.0000 |  1.0000 |  1.0000 | -1.0000 | \n",
       "| a |  1.0000 | -1.0000 | -1.0000 | -1.0000 | -1.0000 |  1.0000 |  1.0000 | \n",
       "| b | -1.0000 |  1.0000 | -1.0000 | -1.0000 |  1.0000 | -1.0000 |  1.0000 | \n",
       "| ab |  1.0000 |  1.0000 | -1.0000 |  1.0000 | -1.0000 | -1.0000 | -1.0000 | \n",
       "| c | -1.0000 | -1.0000 |  1.0000 |  1.0000 | -1.0000 | -1.0000 |  1.0000 | \n",
       "| ac |  1.0000 | -1.0000 |  1.0000 | -1.0000 |  1.0000 | -1.0000 | -1.0000 | \n",
       "| bc | -1.0000 |  1.0000 |  1.0000 | -1.0000 | -1.0000 |  1.0000 | -1.0000 | \n",
       "| abc |  1.0000 |  1.0000 |  1.0000 |  1.0000 |  1.0000 |  1.0000 |  1.0000 | \n",
       "| Effect | -4.6875 | -2.1875 | -4.0625 |  0.6875 | -1.9375 | -1.6875 |  1.6875 | \n",
       "\n",
       "\n"
      ],
      "text/plain": [
       "       A       B       C       AB      AC      BC      ABC    \n",
       "(1)    -1.0000 -1.0000 -1.0000  1.0000  1.0000  1.0000 -1.0000\n",
       "a       1.0000 -1.0000 -1.0000 -1.0000 -1.0000  1.0000  1.0000\n",
       "b      -1.0000  1.0000 -1.0000 -1.0000  1.0000 -1.0000  1.0000\n",
       "ab      1.0000  1.0000 -1.0000  1.0000 -1.0000 -1.0000 -1.0000\n",
       "c      -1.0000 -1.0000  1.0000  1.0000 -1.0000 -1.0000  1.0000\n",
       "ac      1.0000 -1.0000  1.0000 -1.0000  1.0000 -1.0000 -1.0000\n",
       "bc     -1.0000  1.0000  1.0000 -1.0000 -1.0000  1.0000 -1.0000\n",
       "abc     1.0000  1.0000  1.0000  1.0000  1.0000  1.0000  1.0000\n",
       "Effect -4.6875 -2.1875 -4.0625  0.6875 -1.9375 -1.6875  1.6875"
      ]
     },
     "metadata": {},
     "output_type": "display_data"
    },
    {
     "data": {
      "text/plain": [
       "\n",
       "Call:\n",
       "lm(formula = fact_score.vec ~ Af * Bf * Cf)\n",
       "\n",
       "Residuals:\n",
       "    Min      1Q  Median      3Q     Max \n",
       "-12.167  -1.667   1.333   1.771   4.833 \n",
       "\n",
       "Coefficients:\n",
       "            Estimate Std. Error t value Pr(>|t|)    \n",
       "(Intercept)  27.1979     0.3245  83.822   <2e-16 ***\n",
       "Af1           0.7813     0.3245   2.408   0.0181 *  \n",
       "Bf1           0.3646     0.3245   1.124   0.2642    \n",
       "Cf1           0.6771     0.3245   2.087   0.0398 *  \n",
       "Af1:Bf1       0.1146     0.3245   0.353   0.7248    \n",
       "Af1:Cf1      -0.3229     0.3245  -0.995   0.3224    \n",
       "Bf1:Cf1      -0.2812     0.3245  -0.867   0.3884    \n",
       "Af1:Bf1:Cf1  -0.2812     0.3245  -0.867   0.3884    \n",
       "---\n",
       "Signif. codes:  0 '***' 0.001 '**' 0.01 '*' 0.05 '.' 0.1 ' ' 1\n",
       "\n",
       "Residual standard error: 3.179 on 88 degrees of freedom\n",
       "Multiple R-squared:  0.1375,\tAdjusted R-squared:  0.06892 \n",
       "F-statistic: 2.005 on 7 and 88 DF,  p-value: 0.06333\n"
      ]
     },
     "metadata": {},
     "output_type": "display_data"
    },
    {
     "data": {
      "text/html": [
       "<table>\n",
       "<thead><tr><th></th><th scope=col>Df</th><th scope=col>Sum Sq</th><th scope=col>Mean Sq</th><th scope=col>F value</th><th scope=col>Pr(&gt;F)</th></tr></thead>\n",
       "<tbody>\n",
       "\t<tr><th scope=row>Af</th><td> 1        </td><td> 58.593750</td><td>58.593750 </td><td>5.7973391 </td><td>0.01813840</td></tr>\n",
       "\t<tr><th scope=row>Bf</th><td> 1        </td><td> 12.760417</td><td>12.760417 </td><td>1.2625316 </td><td>0.26422836</td></tr>\n",
       "\t<tr><th scope=row>Cf</th><td> 1        </td><td> 44.010417</td><td>44.010417 </td><td>4.3544458 </td><td>0.03980548</td></tr>\n",
       "\t<tr><th scope=row>Af:Bf</th><td> 1        </td><td>  1.260417</td><td> 1.260417 </td><td>0.1247072 </td><td>0.72482871</td></tr>\n",
       "\t<tr><th scope=row>Af:Cf</th><td> 1        </td><td> 10.010417</td><td>10.010417 </td><td>0.9904432 </td><td>0.32236278</td></tr>\n",
       "\t<tr><th scope=row>Bf:Cf</th><td> 1        </td><td>  7.593750</td><td> 7.593750 </td><td>0.7513351 </td><td>0.38841117</td></tr>\n",
       "\t<tr><th scope=row>Af:Bf:Cf</th><td> 1        </td><td>  7.593750</td><td> 7.593750 </td><td>0.7513351 </td><td>0.38841117</td></tr>\n",
       "\t<tr><th scope=row>Residuals</th><td>88        </td><td>889.416667</td><td>10.107008 </td><td>       NA </td><td>        NA</td></tr>\n",
       "</tbody>\n",
       "</table>\n"
      ],
      "text/latex": [
       "\\begin{tabular}{r|lllll}\n",
       "  & Df & Sum Sq & Mean Sq & F value & Pr(>F)\\\\\n",
       "\\hline\n",
       "\tAf &  1         &  58.593750 & 58.593750  & 5.7973391  & 0.01813840\\\\\n",
       "\tBf &  1         &  12.760417 & 12.760417  & 1.2625316  & 0.26422836\\\\\n",
       "\tCf &  1         &  44.010417 & 44.010417  & 4.3544458  & 0.03980548\\\\\n",
       "\tAf:Bf &  1         &   1.260417 &  1.260417  & 0.1247072  & 0.72482871\\\\\n",
       "\tAf:Cf &  1         &  10.010417 & 10.010417  & 0.9904432  & 0.32236278\\\\\n",
       "\tBf:Cf &  1         &   7.593750 &  7.593750  & 0.7513351  & 0.38841117\\\\\n",
       "\tAf:Bf:Cf &  1         &   7.593750 &  7.593750  & 0.7513351  & 0.38841117\\\\\n",
       "\tResiduals & 88         & 889.416667 & 10.107008  &        NA  &         NA\\\\\n",
       "\\end{tabular}\n"
      ],
      "text/markdown": [
       "\n",
       "| <!--/--> | Df | Sum Sq | Mean Sq | F value | Pr(>F) | \n",
       "|---|---|---|---|---|---|---|---|\n",
       "| Af |  1         |  58.593750 | 58.593750  | 5.7973391  | 0.01813840 | \n",
       "| Bf |  1         |  12.760417 | 12.760417  | 1.2625316  | 0.26422836 | \n",
       "| Cf |  1         |  44.010417 | 44.010417  | 4.3544458  | 0.03980548 | \n",
       "| Af:Bf |  1         |   1.260417 |  1.260417  | 0.1247072  | 0.72482871 | \n",
       "| Af:Cf |  1         |  10.010417 | 10.010417  | 0.9904432  | 0.32236278 | \n",
       "| Bf:Cf |  1         |   7.593750 |  7.593750  | 0.7513351  | 0.38841117 | \n",
       "| Af:Bf:Cf |  1         |   7.593750 |  7.593750  | 0.7513351  | 0.38841117 | \n",
       "| Residuals | 88         | 889.416667 | 10.107008  |        NA  |         NA | \n",
       "\n",
       "\n"
      ],
      "text/plain": [
       "          Df Sum Sq     Mean Sq   F value   Pr(>F)    \n",
       "Af         1  58.593750 58.593750 5.7973391 0.01813840\n",
       "Bf         1  12.760417 12.760417 1.2625316 0.26422836\n",
       "Cf         1  44.010417 44.010417 4.3544458 0.03980548\n",
       "Af:Bf      1   1.260417  1.260417 0.1247072 0.72482871\n",
       "Af:Cf      1  10.010417 10.010417 0.9904432 0.32236278\n",
       "Bf:Cf      1   7.593750  7.593750 0.7513351 0.38841117\n",
       "Af:Bf:Cf   1   7.593750  7.593750 0.7513351 0.38841117\n",
       "Residuals 88 889.416667 10.107008        NA         NA"
      ]
     },
     "metadata": {},
     "output_type": "display_data"
    },
    {
     "data": {
      "image/png": "[encoded data removed]",
      "text/plain": [
       "Plot with title \"\""
      ]
     },
     "metadata": {},
     "output_type": "display_data"
    },
    {
     "data": {
      "image/png": "[encoded data removed]",
      "text/plain": [
       "Plot with title \"\""
      ]
     },
     "metadata": {},
     "output_type": "display_data"
    },
    {
     "data": {
      "image/png": "[encoded data removed]",
      "text/plain": [
       "Plot with title \"\""
      ]
     },
     "metadata": {},
     "output_type": "display_data"
    },
    {
     "data": {
      "image/png": "[encoded data removed]",
      "text/plain": [
       "Plot with title \"\""
      ]
     },
     "metadata": {},
     "output_type": "display_data"
    }
   ],
   "source": [
    "fact_score=read.csv(file='C:/Users/USER/Desktop/Data Science/20-2학기/Factorial_Score.csv',header=T)\n",
    "names(fact_score)[1]=c(\"rep1\")\n",
    "fact_score\n",
    "\n",
    "#reps=c(\"rep1\",\"rep2\",\"rep3\",\"rep4\",\"rep5\",\"rep6\",\"rep7\",\"rep8\",\"rep9\",\"rep10\",\"rep11\",\"rep12\")\n",
    "rownames(fact_score)=c(\"(1)\",\"a\",\"b\",\"ab\",\"c\",\"ac\",\"bc\",\"abc\")\n",
    "A <- rep(c(-1,1),4)\n",
    "B <- rep(c(-1,-1,1,1),2)\n",
    "C <- c(rep(-1,4),rep(1,4))\n",
    "Total=apply(fact_score,1,sum)\n",
    "\n",
    "cbind(A,B,C,fact_score,Total)\n",
    "n=4\n",
    "Aeff <- (Total %*% A)/(4*n)\n",
    "Beff <- (Total %*% B)/(4*n)\n",
    "Ceff <- (Total %*% C)/(4*n)\n",
    "AB=A*B\n",
    "BC=B*C\n",
    "AC=A*C\n",
    "ABC=A*B*C\n",
    "cbind(A,B,C,AB,AC,BC,ABC,Total)\n",
    "ABeff <- (Total %*% AB)/(4*n)\n",
    "ACeff <- (Total %*% AC)/(4*n)\n",
    "BCeff <- (Total %*% BC)/(4*n)\n",
    "ABCeff <- (Total %*% ABC)/(4*n)\n",
    "\n",
    "Effects <- t(Total) %*% cbind(A,B,C,AB,AC,BC,ABC)/(4*n)\n",
    "Summary <- rbind( cbind(A,B,C,AB,AC,BC,ABC),Effects )\n",
    "dimnames(Summary)[[1]] <- c(dimnames(fact_score)[[1]],\"Effect\")\n",
    "Summary\n",
    "\n",
    "fact_score.vec <- c(t(fact_score))\n",
    "Af <- rep(as.factor(A),rep(12,8))\n",
    "Bf <- rep(as.factor(B),rep(12,8))\n",
    "Cf <- rep(as.factor(C),rep(12,8))\n",
    "options(contrasts=c(\"contr.sum\",\"contr.poly\"))\n",
    "fact_score.lm <- lm(fact_score.vec ~ Af*Bf*Cf)\n",
    "summary(fact_score.lm)\n",
    "anova(fact_score.lm)\n",
    "plot(fact_score.lm)"
   ]
  },
  {
   "cell_type": "code",
   "execution_count": 2,
   "metadata": {},
   "outputs": [
    {
     "data": {
      "image/png": "[encoded data removed]",
      "text/plain": [
       "Plot with title \"Interaction Plot\""
      ]
     },
     "metadata": {},
     "output_type": "display_data"
    }
   ],
   "source": [
    "opar<-par(mfrow=c(1,3),oma=c(0,0,1.1,0))\n",
    "with(fact_score,{interaction.plot(A,B,Total, type = \"b\",xlab=\"Language of Lyrics\",ylab = \"Score\",trace.label=\"Genre\", main='Interaction Plot',pch=c(1,19))\n",
    "                interaction.plot(B,C,Total, type = \"b\",xlab=\"Genre\",ylab = \"Score\",trace.label=\"Experience of listening\", main='Interaction Plot',pch=c(1,19))\n",
    "                interaction.plot(C,A,Total, type = \"b\",xlab=\"Experience of listening\",ylab = \"Score\",trace.label=\"Language of Lyrics\", main='Interaction Plot',pch=c(1,19))\n",
    "                }\n",
    "     )"
   ]
  },
  {
   "cell_type": "code",
   "execution_count": 7,
   "metadata": {},
   "outputs": [
    {
     "data": {
      "text/plain": [
       "\n",
       "Call:\n",
       "lm(formula = fact_score.vec ~ Af + Cf)\n",
       "\n",
       "Residuals:\n",
       "    Min      1Q  Median      3Q     Max \n",
       "-12.740  -1.656   1.260   2.698   4.260 \n",
       "\n",
       "Coefficients:\n",
       "            Estimate Std. Error t value Pr(>|t|)    \n",
       "(Intercept)  27.1979     0.3225  84.332   <2e-16 ***\n",
       "Af1           0.7813     0.3225   2.422   0.0174 *  \n",
       "Cf1           0.6771     0.3225   2.099   0.0385 *  \n",
       "---\n",
       "Signif. codes:  0 '***' 0.001 '**' 0.01 '*' 0.05 '.' 0.1 ' ' 1\n",
       "\n",
       "Residual standard error: 3.16 on 93 degrees of freedom\n",
       "Multiple R-squared:  0.0995,\tAdjusted R-squared:  0.08013 \n",
       "F-statistic: 5.138 on 2 and 93 DF,  p-value: 0.007649\n"
      ]
     },
     "metadata": {},
     "output_type": "display_data"
    },
    {
     "data": {
      "text/html": [
       "<table>\n",
       "<thead><tr><th></th><th scope=col>Df</th><th scope=col>Sum Sq</th><th scope=col>Mean Sq</th><th scope=col>F value</th><th scope=col>Pr(&gt;F)</th></tr></thead>\n",
       "<tbody>\n",
       "\t<tr><th scope=row>Af</th><td> 1        </td><td> 58.59375 </td><td>58.593750 </td><td>5.867985  </td><td>0.01735670</td></tr>\n",
       "\t<tr><th scope=row>Cf</th><td> 1        </td><td> 44.01042 </td><td>44.010417 </td><td>4.407509  </td><td>0.03848959</td></tr>\n",
       "\t<tr><th scope=row>Residuals</th><td>93        </td><td>928.63542 </td><td> 9.985327 </td><td>      NA  </td><td>        NA</td></tr>\n",
       "</tbody>\n",
       "</table>\n"
      ],
      "text/latex": [
       "\\begin{tabular}{r|lllll}\n",
       "  & Df & Sum Sq & Mean Sq & F value & Pr(>F)\\\\\n",
       "\\hline\n",
       "\tAf &  1         &  58.59375  & 58.593750  & 5.867985   & 0.01735670\\\\\n",
       "\tCf &  1         &  44.01042  & 44.010417  & 4.407509   & 0.03848959\\\\\n",
       "\tResiduals & 93         & 928.63542  &  9.985327  &       NA   &         NA\\\\\n",
       "\\end{tabular}\n"
      ],
      "text/markdown": [
       "\n",
       "| <!--/--> | Df | Sum Sq | Mean Sq | F value | Pr(>F) | \n",
       "|---|---|---|\n",
       "| Af |  1         |  58.59375  | 58.593750  | 5.867985   | 0.01735670 | \n",
       "| Cf |  1         |  44.01042  | 44.010417  | 4.407509   | 0.03848959 | \n",
       "| Residuals | 93         | 928.63542  |  9.985327  |       NA   |         NA | \n",
       "\n",
       "\n"
      ],
      "text/plain": [
       "          Df Sum Sq    Mean Sq   F value  Pr(>F)    \n",
       "Af         1  58.59375 58.593750 5.867985 0.01735670\n",
       "Cf         1  44.01042 44.010417 4.407509 0.03848959\n",
       "Residuals 93 928.63542  9.985327       NA         NA"
      ]
     },
     "metadata": {},
     "output_type": "display_data"
    }
   ],
   "source": [
    "fact_score_AC.lm <- lm(fact_score.vec ~Af+Cf )\n",
    "summary(fact_score_AC.lm)\n",
    "anova(fact_score_AC.lm)\n"
   ]
  },
  {
   "cell_type": "code",
   "execution_count": 8,
   "metadata": {},
   "outputs": [
    {
     "data": {
      "image/png": "[encoded data removed]",
      "text/plain": [
       "Plot with title \"\""
      ]
     },
     "metadata": {},
     "output_type": "display_data"
    },
    {
     "data": {
      "image/png": "[encoded data removed]",
      "text/plain": [
       "Plot with title \"\""
      ]
     },
     "metadata": {},
     "output_type": "display_data"
    },
    {
     "data": {
      "image/png": "[encoded data removed]",
      "text/plain": [
       "Plot with title \"\""
      ]
     },
     "metadata": {},
     "output_type": "display_data"
    },
    {
     "data": {
      "image/png": "[encoded data removed]",
      "text/plain": [
       "Plot with title \"\""
      ]
     },
     "metadata": {},
     "output_type": "display_data"
    }
   ],
   "source": [
    "plot(fact_score_AC.lm)"
   ]
  },
  {
   "cell_type": "code",
   "execution_count": 118,
   "metadata": {},
   "outputs": [
    {
     "data": {
      "text/html": [
       "<table>\n",
       "<thead><tr><th scope=col>rep1</th><th scope=col>rep2</th><th scope=col>rep3</th><th scope=col>rep4</th><th scope=col>rep5</th><th scope=col>rep6</th><th scope=col>rep7</th><th scope=col>rep8</th><th scope=col>rep9</th><th scope=col>rep10</th><th scope=col>rep11</th><th scope=col>rep12</th></tr></thead>\n",
       "<tbody>\n",
       "\t<tr><td>0.1840491 </td><td>0.1830986 </td><td>0.2777778 </td><td>0.2523364 </td><td>0.2097902 </td><td>0.2083333 </td><td>0.2702703 </td><td>0.2321429 </td><td>0.21739130</td><td>0.08362369</td><td>0.1492537 </td><td>0.1232227 </td></tr>\n",
       "\t<tr><td>0.1785714 </td><td>0.1356784 </td><td>0.2288136 </td><td>0.2272727 </td><td>0.2255639 </td><td>0.2076923 </td><td>0.2727273 </td><td>0.3061224 </td><td>0.22131148</td><td>0.10471204</td><td>0.1530612 </td><td>0.1111111 </td></tr>\n",
       "\t<tr><td>0.2013423 </td><td>0.2205882 </td><td>0.1726619 </td><td>0.2260870 </td><td>0.1923077 </td><td>0.1708861 </td><td>0.2830189 </td><td>0.2842105 </td><td>0.21600000</td><td>0.18181818</td><td>0.1421801 </td><td>0.1492537 </td></tr>\n",
       "\t<tr><td>0.1960784 </td><td>0.1101695 </td><td>0.1562500 </td><td>0.1443850 </td><td>0.1420118 </td><td>0.1621622 </td><td>0.2459016 </td><td>0.2613636 </td><td>0.18181818</td><td>0.13170732</td><td>0.1475410 </td><td>0.1397849 </td></tr>\n",
       "\t<tr><td>0.1714286 </td><td>0.2255639 </td><td>0.2542373 </td><td>0.2479339 </td><td>0.2547170 </td><td>0.1863354 </td><td>0.2912621 </td><td>0.2654867 </td><td>0.15862069</td><td>0.14851485</td><td>0.1428571 </td><td>0.1310680 </td></tr>\n",
       "\t<tr><td>0.1569767 </td><td>0.1886792 </td><td>0.2177419 </td><td>0.2238806 </td><td>0.2030075 </td><td>0.2325581 </td><td>0.1578947 </td><td>0.1776316 </td><td>0.08597285</td><td>0.11931818</td><td>0.1069767 </td><td>0.1140351 </td></tr>\n",
       "\t<tr><td>0.1898734 </td><td>0.1538462 </td><td>0.1449275 </td><td>0.1935484 </td><td>0.1793103 </td><td>0.1626506 </td><td>0.2830189 </td><td>0.2643678 </td><td>0.20833333</td><td>0.15972222</td><td>0.1363636 </td><td>0.1304348 </td></tr>\n",
       "\t<tr><td>0.1729323 </td><td>0.1300000 </td><td>0.2631579 </td><td>0.2459016 </td><td>0.2307692 </td><td>0.1115702 </td><td>0.2542373 </td><td>0.1811024 </td><td>0.10526316</td><td>0.16455696</td><td>0.1145374 </td><td>0.1158798 </td></tr>\n",
       "</tbody>\n",
       "</table>\n"
      ],
      "text/latex": [
       "\\begin{tabular}{r|llllllllllll}\n",
       " rep1 & rep2 & rep3 & rep4 & rep5 & rep6 & rep7 & rep8 & rep9 & rep10 & rep11 & rep12\\\\\n",
       "\\hline\n",
       "\t 0.1840491  & 0.1830986  & 0.2777778  & 0.2523364  & 0.2097902  & 0.2083333  & 0.2702703  & 0.2321429  & 0.21739130 & 0.08362369 & 0.1492537  & 0.1232227 \\\\\n",
       "\t 0.1785714  & 0.1356784  & 0.2288136  & 0.2272727  & 0.2255639  & 0.2076923  & 0.2727273  & 0.3061224  & 0.22131148 & 0.10471204 & 0.1530612  & 0.1111111 \\\\\n",
       "\t 0.2013423  & 0.2205882  & 0.1726619  & 0.2260870  & 0.1923077  & 0.1708861  & 0.2830189  & 0.2842105  & 0.21600000 & 0.18181818 & 0.1421801  & 0.1492537 \\\\\n",
       "\t 0.1960784  & 0.1101695  & 0.1562500  & 0.1443850  & 0.1420118  & 0.1621622  & 0.2459016  & 0.2613636  & 0.18181818 & 0.13170732 & 0.1475410  & 0.1397849 \\\\\n",
       "\t 0.1714286  & 0.2255639  & 0.2542373  & 0.2479339  & 0.2547170  & 0.1863354  & 0.2912621  & 0.2654867  & 0.15862069 & 0.14851485 & 0.1428571  & 0.1310680 \\\\\n",
       "\t 0.1569767  & 0.1886792  & 0.2177419  & 0.2238806  & 0.2030075  & 0.2325581  & 0.1578947  & 0.1776316  & 0.08597285 & 0.11931818 & 0.1069767  & 0.1140351 \\\\\n",
       "\t 0.1898734  & 0.1538462  & 0.1449275  & 0.1935484  & 0.1793103  & 0.1626506  & 0.2830189  & 0.2643678  & 0.20833333 & 0.15972222 & 0.1363636  & 0.1304348 \\\\\n",
       "\t 0.1729323  & 0.1300000  & 0.2631579  & 0.2459016  & 0.2307692  & 0.1115702  & 0.2542373  & 0.1811024  & 0.10526316 & 0.16455696 & 0.1145374  & 0.1158798 \\\\\n",
       "\\end{tabular}\n"
      ],
      "text/markdown": [
       "\n",
       "rep1 | rep2 | rep3 | rep4 | rep5 | rep6 | rep7 | rep8 | rep9 | rep10 | rep11 | rep12 | \n",
       "|---|---|---|---|---|---|---|---|\n",
       "| 0.1840491  | 0.1830986  | 0.2777778  | 0.2523364  | 0.2097902  | 0.2083333  | 0.2702703  | 0.2321429  | 0.21739130 | 0.08362369 | 0.1492537  | 0.1232227  | \n",
       "| 0.1785714  | 0.1356784  | 0.2288136  | 0.2272727  | 0.2255639  | 0.2076923  | 0.2727273  | 0.3061224  | 0.22131148 | 0.10471204 | 0.1530612  | 0.1111111  | \n",
       "| 0.2013423  | 0.2205882  | 0.1726619  | 0.2260870  | 0.1923077  | 0.1708861  | 0.2830189  | 0.2842105  | 0.21600000 | 0.18181818 | 0.1421801  | 0.1492537  | \n",
       "| 0.1960784  | 0.1101695  | 0.1562500  | 0.1443850  | 0.1420118  | 0.1621622  | 0.2459016  | 0.2613636  | 0.18181818 | 0.13170732 | 0.1475410  | 0.1397849  | \n",
       "| 0.1714286  | 0.2255639  | 0.2542373  | 0.2479339  | 0.2547170  | 0.1863354  | 0.2912621  | 0.2654867  | 0.15862069 | 0.14851485 | 0.1428571  | 0.1310680  | \n",
       "| 0.1569767  | 0.1886792  | 0.2177419  | 0.2238806  | 0.2030075  | 0.2325581  | 0.1578947  | 0.1776316  | 0.08597285 | 0.11931818 | 0.1069767  | 0.1140351  | \n",
       "| 0.1898734  | 0.1538462  | 0.1449275  | 0.1935484  | 0.1793103  | 0.1626506  | 0.2830189  | 0.2643678  | 0.20833333 | 0.15972222 | 0.1363636  | 0.1304348  | \n",
       "| 0.1729323  | 0.1300000  | 0.2631579  | 0.2459016  | 0.2307692  | 0.1115702  | 0.2542373  | 0.1811024  | 0.10526316 | 0.16455696 | 0.1145374  | 0.1158798  | \n",
       "\n",
       "\n"
      ],
      "text/plain": [
       "  rep1      rep2      rep3      rep4      rep5      rep6      rep7     \n",
       "1 0.1840491 0.1830986 0.2777778 0.2523364 0.2097902 0.2083333 0.2702703\n",
       "2 0.1785714 0.1356784 0.2288136 0.2272727 0.2255639 0.2076923 0.2727273\n",
       "3 0.2013423 0.2205882 0.1726619 0.2260870 0.1923077 0.1708861 0.2830189\n",
       "4 0.1960784 0.1101695 0.1562500 0.1443850 0.1420118 0.1621622 0.2459016\n",
       "5 0.1714286 0.2255639 0.2542373 0.2479339 0.2547170 0.1863354 0.2912621\n",
       "6 0.1569767 0.1886792 0.2177419 0.2238806 0.2030075 0.2325581 0.1578947\n",
       "7 0.1898734 0.1538462 0.1449275 0.1935484 0.1793103 0.1626506 0.2830189\n",
       "8 0.1729323 0.1300000 0.2631579 0.2459016 0.2307692 0.1115702 0.2542373\n",
       "  rep8      rep9       rep10      rep11     rep12    \n",
       "1 0.2321429 0.21739130 0.08362369 0.1492537 0.1232227\n",
       "2 0.3061224 0.22131148 0.10471204 0.1530612 0.1111111\n",
       "3 0.2842105 0.21600000 0.18181818 0.1421801 0.1492537\n",
       "4 0.2613636 0.18181818 0.13170732 0.1475410 0.1397849\n",
       "5 0.2654867 0.15862069 0.14851485 0.1428571 0.1310680\n",
       "6 0.1776316 0.08597285 0.11931818 0.1069767 0.1140351\n",
       "7 0.2643678 0.20833333 0.15972222 0.1363636 0.1304348\n",
       "8 0.1811024 0.10526316 0.16455696 0.1145374 0.1158798"
      ]
     },
     "metadata": {},
     "output_type": "display_data"
    },
    {
     "data": {
      "text/html": [
       "<table>\n",
       "<thead><tr><th></th><th scope=col>A</th><th scope=col>B</th><th scope=col>C</th><th scope=col>rep1</th><th scope=col>rep2</th><th scope=col>rep3</th><th scope=col>rep4</th><th scope=col>rep5</th><th scope=col>rep6</th><th scope=col>rep7</th><th scope=col>rep8</th><th scope=col>rep9</th><th scope=col>rep10</th><th scope=col>rep11</th><th scope=col>rep12</th><th scope=col>Total</th></tr></thead>\n",
       "<tbody>\n",
       "\t<tr><th scope=row>(1)</th><td>-1        </td><td>-1        </td><td>-1        </td><td>0.1840491 </td><td>0.1830986 </td><td>0.2777778 </td><td>0.2523364 </td><td>0.2097902 </td><td>0.2083333 </td><td>0.2702703 </td><td>0.2321429 </td><td>0.21739130</td><td>0.08362369</td><td>0.1492537 </td><td>0.1232227 </td><td>2.391290  </td></tr>\n",
       "\t<tr><th scope=row>a</th><td> 1        </td><td>-1        </td><td>-1        </td><td>0.1785714 </td><td>0.1356784 </td><td>0.2288136 </td><td>0.2272727 </td><td>0.2255639 </td><td>0.2076923 </td><td>0.2727273 </td><td>0.3061224 </td><td>0.22131148</td><td>0.10471204</td><td>0.1530612 </td><td>0.1111111 </td><td>2.372638  </td></tr>\n",
       "\t<tr><th scope=row>b</th><td>-1        </td><td> 1        </td><td>-1        </td><td>0.2013423 </td><td>0.2205882 </td><td>0.1726619 </td><td>0.2260870 </td><td>0.1923077 </td><td>0.1708861 </td><td>0.2830189 </td><td>0.2842105 </td><td>0.21600000</td><td>0.18181818</td><td>0.1421801 </td><td>0.1492537 </td><td>2.440355  </td></tr>\n",
       "\t<tr><th scope=row>ab</th><td> 1        </td><td> 1        </td><td>-1        </td><td>0.1960784 </td><td>0.1101695 </td><td>0.1562500 </td><td>0.1443850 </td><td>0.1420118 </td><td>0.1621622 </td><td>0.2459016 </td><td>0.2613636 </td><td>0.18181818</td><td>0.13170732</td><td>0.1475410 </td><td>0.1397849 </td><td>2.019174  </td></tr>\n",
       "\t<tr><th scope=row>c</th><td>-1        </td><td>-1        </td><td> 1        </td><td>0.1714286 </td><td>0.2255639 </td><td>0.2542373 </td><td>0.2479339 </td><td>0.2547170 </td><td>0.1863354 </td><td>0.2912621 </td><td>0.2654867 </td><td>0.15862069</td><td>0.14851485</td><td>0.1428571 </td><td>0.1310680 </td><td>2.478026  </td></tr>\n",
       "\t<tr><th scope=row>ac</th><td> 1        </td><td>-1        </td><td> 1        </td><td>0.1569767 </td><td>0.1886792 </td><td>0.2177419 </td><td>0.2238806 </td><td>0.2030075 </td><td>0.2325581 </td><td>0.1578947 </td><td>0.1776316 </td><td>0.08597285</td><td>0.11931818</td><td>0.1069767 </td><td>0.1140351 </td><td>1.984673  </td></tr>\n",
       "\t<tr><th scope=row>bc</th><td>-1        </td><td> 1        </td><td> 1        </td><td>0.1898734 </td><td>0.1538462 </td><td>0.1449275 </td><td>0.1935484 </td><td>0.1793103 </td><td>0.1626506 </td><td>0.2830189 </td><td>0.2643678 </td><td>0.20833333</td><td>0.15972222</td><td>0.1363636 </td><td>0.1304348 </td><td>2.206397  </td></tr>\n",
       "\t<tr><th scope=row>abc</th><td> 1        </td><td> 1        </td><td> 1        </td><td>0.1729323 </td><td>0.1300000 </td><td>0.2631579 </td><td>0.2459016 </td><td>0.2307692 </td><td>0.1115702 </td><td>0.2542373 </td><td>0.1811024 </td><td>0.10526316</td><td>0.16455696</td><td>0.1145374 </td><td>0.1158798 </td><td>2.089908  </td></tr>\n",
       "</tbody>\n",
       "</table>\n"
      ],
      "text/latex": [
       "\\begin{tabular}{r|llllllllllllllll}\n",
       "  & A & B & C & rep1 & rep2 & rep3 & rep4 & rep5 & rep6 & rep7 & rep8 & rep9 & rep10 & rep11 & rep12 & Total\\\\\n",
       "\\hline\n",
       "\t(1) & -1         & -1         & -1         & 0.1840491  & 0.1830986  & 0.2777778  & 0.2523364  & 0.2097902  & 0.2083333  & 0.2702703  & 0.2321429  & 0.21739130 & 0.08362369 & 0.1492537  & 0.1232227  & 2.391290  \\\\\n",
       "\ta &  1         & -1         & -1         & 0.1785714  & 0.1356784  & 0.2288136  & 0.2272727  & 0.2255639  & 0.2076923  & 0.2727273  & 0.3061224  & 0.22131148 & 0.10471204 & 0.1530612  & 0.1111111  & 2.372638  \\\\\n",
       "\tb & -1         &  1         & -1         & 0.2013423  & 0.2205882  & 0.1726619  & 0.2260870  & 0.1923077  & 0.1708861  & 0.2830189  & 0.2842105  & 0.21600000 & 0.18181818 & 0.1421801  & 0.1492537  & 2.440355  \\\\\n",
       "\tab &  1         &  1         & -1         & 0.1960784  & 0.1101695  & 0.1562500  & 0.1443850  & 0.1420118  & 0.1621622  & 0.2459016  & 0.2613636  & 0.18181818 & 0.13170732 & 0.1475410  & 0.1397849  & 2.019174  \\\\\n",
       "\tc & -1         & -1         &  1         & 0.1714286  & 0.2255639  & 0.2542373  & 0.2479339  & 0.2547170  & 0.1863354  & 0.2912621  & 0.2654867  & 0.15862069 & 0.14851485 & 0.1428571  & 0.1310680  & 2.478026  \\\\\n",
       "\tac &  1         & -1         &  1         & 0.1569767  & 0.1886792  & 0.2177419  & 0.2238806  & 0.2030075  & 0.2325581  & 0.1578947  & 0.1776316  & 0.08597285 & 0.11931818 & 0.1069767  & 0.1140351  & 1.984673  \\\\\n",
       "\tbc & -1         &  1         &  1         & 0.1898734  & 0.1538462  & 0.1449275  & 0.1935484  & 0.1793103  & 0.1626506  & 0.2830189  & 0.2643678  & 0.20833333 & 0.15972222 & 0.1363636  & 0.1304348  & 2.206397  \\\\\n",
       "\tabc &  1         &  1         &  1         & 0.1729323  & 0.1300000  & 0.2631579  & 0.2459016  & 0.2307692  & 0.1115702  & 0.2542373  & 0.1811024  & 0.10526316 & 0.16455696 & 0.1145374  & 0.1158798  & 2.089908  \\\\\n",
       "\\end{tabular}\n"
      ],
      "text/markdown": [
       "\n",
       "| <!--/--> | A | B | C | rep1 | rep2 | rep3 | rep4 | rep5 | rep6 | rep7 | rep8 | rep9 | rep10 | rep11 | rep12 | Total | \n",
       "|---|---|---|---|---|---|---|---|\n",
       "| (1) | -1         | -1         | -1         | 0.1840491  | 0.1830986  | 0.2777778  | 0.2523364  | 0.2097902  | 0.2083333  | 0.2702703  | 0.2321429  | 0.21739130 | 0.08362369 | 0.1492537  | 0.1232227  | 2.391290   | \n",
       "| a |  1         | -1         | -1         | 0.1785714  | 0.1356784  | 0.2288136  | 0.2272727  | 0.2255639  | 0.2076923  | 0.2727273  | 0.3061224  | 0.22131148 | 0.10471204 | 0.1530612  | 0.1111111  | 2.372638   | \n",
       "| b | -1         |  1         | -1         | 0.2013423  | 0.2205882  | 0.1726619  | 0.2260870  | 0.1923077  | 0.1708861  | 0.2830189  | 0.2842105  | 0.21600000 | 0.18181818 | 0.1421801  | 0.1492537  | 2.440355   | \n",
       "| ab |  1         |  1         | -1         | 0.1960784  | 0.1101695  | 0.1562500  | 0.1443850  | 0.1420118  | 0.1621622  | 0.2459016  | 0.2613636  | 0.18181818 | 0.13170732 | 0.1475410  | 0.1397849  | 2.019174   | \n",
       "| c | -1         | -1         |  1         | 0.1714286  | 0.2255639  | 0.2542373  | 0.2479339  | 0.2547170  | 0.1863354  | 0.2912621  | 0.2654867  | 0.15862069 | 0.14851485 | 0.1428571  | 0.1310680  | 2.478026   | \n",
       "| ac |  1         | -1         |  1         | 0.1569767  | 0.1886792  | 0.2177419  | 0.2238806  | 0.2030075  | 0.2325581  | 0.1578947  | 0.1776316  | 0.08597285 | 0.11931818 | 0.1069767  | 0.1140351  | 1.984673   | \n",
       "| bc | -1         |  1         |  1         | 0.1898734  | 0.1538462  | 0.1449275  | 0.1935484  | 0.1793103  | 0.1626506  | 0.2830189  | 0.2643678  | 0.20833333 | 0.15972222 | 0.1363636  | 0.1304348  | 2.206397   | \n",
       "| abc |  1         |  1         |  1         | 0.1729323  | 0.1300000  | 0.2631579  | 0.2459016  | 0.2307692  | 0.1115702  | 0.2542373  | 0.1811024  | 0.10526316 | 0.16455696 | 0.1145374  | 0.1158798  | 2.089908   | \n",
       "\n",
       "\n"
      ],
      "text/plain": [
       "    A  B  C  rep1      rep2      rep3      rep4      rep5      rep6     \n",
       "(1) -1 -1 -1 0.1840491 0.1830986 0.2777778 0.2523364 0.2097902 0.2083333\n",
       "a    1 -1 -1 0.1785714 0.1356784 0.2288136 0.2272727 0.2255639 0.2076923\n",
       "b   -1  1 -1 0.2013423 0.2205882 0.1726619 0.2260870 0.1923077 0.1708861\n",
       "ab   1  1 -1 0.1960784 0.1101695 0.1562500 0.1443850 0.1420118 0.1621622\n",
       "c   -1 -1  1 0.1714286 0.2255639 0.2542373 0.2479339 0.2547170 0.1863354\n",
       "ac   1 -1  1 0.1569767 0.1886792 0.2177419 0.2238806 0.2030075 0.2325581\n",
       "bc  -1  1  1 0.1898734 0.1538462 0.1449275 0.1935484 0.1793103 0.1626506\n",
       "abc  1  1  1 0.1729323 0.1300000 0.2631579 0.2459016 0.2307692 0.1115702\n",
       "    rep7      rep8      rep9       rep10      rep11     rep12     Total   \n",
       "(1) 0.2702703 0.2321429 0.21739130 0.08362369 0.1492537 0.1232227 2.391290\n",
       "a   0.2727273 0.3061224 0.22131148 0.10471204 0.1530612 0.1111111 2.372638\n",
       "b   0.2830189 0.2842105 0.21600000 0.18181818 0.1421801 0.1492537 2.440355\n",
       "ab  0.2459016 0.2613636 0.18181818 0.13170732 0.1475410 0.1397849 2.019174\n",
       "c   0.2912621 0.2654867 0.15862069 0.14851485 0.1428571 0.1310680 2.478026\n",
       "ac  0.1578947 0.1776316 0.08597285 0.11931818 0.1069767 0.1140351 1.984673\n",
       "bc  0.2830189 0.2643678 0.20833333 0.15972222 0.1363636 0.1304348 2.206397\n",
       "abc 0.2542373 0.1811024 0.10526316 0.16455696 0.1145374 0.1158798 2.089908"
      ]
     },
     "metadata": {},
     "output_type": "display_data"
    },
    {
     "data": {
      "text/html": [
       "<table>\n",
       "<thead><tr><th></th><th scope=col>A</th><th scope=col>B</th><th scope=col>C</th><th scope=col>AB</th><th scope=col>AC</th><th scope=col>BC</th><th scope=col>ABC</th><th scope=col>Total</th></tr></thead>\n",
       "<tbody>\n",
       "\t<tr><th scope=row>(1)</th><td>-1      </td><td>-1      </td><td>-1      </td><td> 1      </td><td> 1      </td><td> 1      </td><td>-1      </td><td>2.391290</td></tr>\n",
       "\t<tr><th scope=row>a</th><td> 1      </td><td>-1      </td><td>-1      </td><td>-1      </td><td>-1      </td><td> 1      </td><td> 1      </td><td>2.372638</td></tr>\n",
       "\t<tr><th scope=row>b</th><td>-1      </td><td> 1      </td><td>-1      </td><td>-1      </td><td> 1      </td><td>-1      </td><td> 1      </td><td>2.440355</td></tr>\n",
       "\t<tr><th scope=row>ab</th><td> 1      </td><td> 1      </td><td>-1      </td><td> 1      </td><td>-1      </td><td>-1      </td><td>-1      </td><td>2.019174</td></tr>\n",
       "\t<tr><th scope=row>c</th><td>-1      </td><td>-1      </td><td> 1      </td><td> 1      </td><td>-1      </td><td>-1      </td><td> 1      </td><td>2.478026</td></tr>\n",
       "\t<tr><th scope=row>ac</th><td> 1      </td><td>-1      </td><td> 1      </td><td>-1      </td><td> 1      </td><td>-1      </td><td>-1      </td><td>1.984673</td></tr>\n",
       "\t<tr><th scope=row>bc</th><td>-1      </td><td> 1      </td><td> 1      </td><td>-1      </td><td>-1      </td><td> 1      </td><td>-1      </td><td>2.206397</td></tr>\n",
       "\t<tr><th scope=row>abc</th><td> 1      </td><td> 1      </td><td> 1      </td><td> 1      </td><td> 1      </td><td> 1      </td><td> 1      </td><td>2.089908</td></tr>\n",
       "</tbody>\n",
       "</table>\n"
      ],
      "text/latex": [
       "\\begin{tabular}{r|llllllll}\n",
       "  & A & B & C & AB & AC & BC & ABC & Total\\\\\n",
       "\\hline\n",
       "\t(1) & -1       & -1       & -1       &  1       &  1       &  1       & -1       & 2.391290\\\\\n",
       "\ta &  1       & -1       & -1       & -1       & -1       &  1       &  1       & 2.372638\\\\\n",
       "\tb & -1       &  1       & -1       & -1       &  1       & -1       &  1       & 2.440355\\\\\n",
       "\tab &  1       &  1       & -1       &  1       & -1       & -1       & -1       & 2.019174\\\\\n",
       "\tc & -1       & -1       &  1       &  1       & -1       & -1       &  1       & 2.478026\\\\\n",
       "\tac &  1       & -1       &  1       & -1       &  1       & -1       & -1       & 1.984673\\\\\n",
       "\tbc & -1       &  1       &  1       & -1       & -1       &  1       & -1       & 2.206397\\\\\n",
       "\tabc &  1       &  1       &  1       &  1       &  1       &  1       &  1       & 2.089908\\\\\n",
       "\\end{tabular}\n"
      ],
      "text/markdown": [
       "\n",
       "| <!--/--> | A | B | C | AB | AC | BC | ABC | Total | \n",
       "|---|---|---|---|---|---|---|---|\n",
       "| (1) | -1       | -1       | -1       |  1       |  1       |  1       | -1       | 2.391290 | \n",
       "| a |  1       | -1       | -1       | -1       | -1       |  1       |  1       | 2.372638 | \n",
       "| b | -1       |  1       | -1       | -1       |  1       | -1       |  1       | 2.440355 | \n",
       "| ab |  1       |  1       | -1       |  1       | -1       | -1       | -1       | 2.019174 | \n",
       "| c | -1       | -1       |  1       |  1       | -1       | -1       |  1       | 2.478026 | \n",
       "| ac |  1       | -1       |  1       | -1       |  1       | -1       | -1       | 1.984673 | \n",
       "| bc | -1       |  1       |  1       | -1       | -1       |  1       | -1       | 2.206397 | \n",
       "| abc |  1       |  1       |  1       |  1       |  1       |  1       |  1       | 2.089908 | \n",
       "\n",
       "\n"
      ],
      "text/plain": [
       "    A  B  C  AB AC BC ABC Total   \n",
       "(1) -1 -1 -1  1  1  1 -1  2.391290\n",
       "a    1 -1 -1 -1 -1  1  1  2.372638\n",
       "b   -1  1 -1 -1  1 -1  1  2.440355\n",
       "ab   1  1 -1  1 -1 -1 -1  2.019174\n",
       "c   -1 -1  1  1 -1 -1  1  2.478026\n",
       "ac   1 -1  1 -1  1 -1 -1  1.984673\n",
       "bc  -1  1  1 -1 -1  1 -1  2.206397\n",
       "abc  1  1  1  1  1  1  1  2.089908"
      ]
     },
     "metadata": {},
     "output_type": "display_data"
    },
    {
     "data": {
      "text/html": [
       "<table>\n",
       "<thead><tr><th></th><th scope=col>A</th><th scope=col>B</th><th scope=col>C</th><th scope=col>AB</th><th scope=col>AC</th><th scope=col>BC</th><th scope=col>ABC</th></tr></thead>\n",
       "<tbody>\n",
       "\t<tr><th scope=row>(1)</th><td>-1.00000000 </td><td>-1.00000000 </td><td>-1.00000000 </td><td> 1.000000000</td><td> 1.00000000 </td><td> 1.000000000</td><td>-1.00000000 </td></tr>\n",
       "\t<tr><th scope=row>a</th><td> 1.00000000 </td><td>-1.00000000 </td><td>-1.00000000 </td><td>-1.000000000</td><td>-1.00000000 </td><td> 1.000000000</td><td> 1.00000000 </td></tr>\n",
       "\t<tr><th scope=row>b</th><td>-1.00000000 </td><td> 1.00000000 </td><td>-1.00000000 </td><td>-1.000000000</td><td> 1.00000000 </td><td>-1.000000000</td><td> 1.00000000 </td></tr>\n",
       "\t<tr><th scope=row>ab</th><td> 1.00000000 </td><td> 1.00000000 </td><td>-1.00000000 </td><td> 1.000000000</td><td>-1.00000000 </td><td>-1.000000000</td><td>-1.00000000 </td></tr>\n",
       "\t<tr><th scope=row>c</th><td>-1.00000000 </td><td>-1.00000000 </td><td> 1.00000000 </td><td> 1.000000000</td><td>-1.00000000 </td><td>-1.000000000</td><td> 1.00000000 </td></tr>\n",
       "\t<tr><th scope=row>ac</th><td> 1.00000000 </td><td>-1.00000000 </td><td> 1.00000000 </td><td>-1.000000000</td><td> 1.00000000 </td><td>-1.000000000</td><td>-1.00000000 </td></tr>\n",
       "\t<tr><th scope=row>bc</th><td>-1.00000000 </td><td> 1.00000000 </td><td> 1.00000000 </td><td>-1.000000000</td><td>-1.00000000 </td><td> 1.000000000</td><td>-1.00000000 </td></tr>\n",
       "\t<tr><th scope=row>abc</th><td> 1.00000000 </td><td> 1.00000000 </td><td> 1.00000000 </td><td> 1.000000000</td><td> 1.00000000 </td><td> 1.000000000</td><td> 1.00000000 </td></tr>\n",
       "\t<tr><th scope=row>Effect</th><td>-0.06560462 </td><td>-0.02942458 </td><td>-0.02902823 </td><td>-0.001604078</td><td>-0.01062549 </td><td> 0.008625397</td><td> 0.04871201 </td></tr>\n",
       "</tbody>\n",
       "</table>\n"
      ],
      "text/latex": [
       "\\begin{tabular}{r|lllllll}\n",
       "  & A & B & C & AB & AC & BC & ABC\\\\\n",
       "\\hline\n",
       "\t(1) & -1.00000000  & -1.00000000  & -1.00000000  &  1.000000000 &  1.00000000  &  1.000000000 & -1.00000000 \\\\\n",
       "\ta &  1.00000000  & -1.00000000  & -1.00000000  & -1.000000000 & -1.00000000  &  1.000000000 &  1.00000000 \\\\\n",
       "\tb & -1.00000000  &  1.00000000  & -1.00000000  & -1.000000000 &  1.00000000  & -1.000000000 &  1.00000000 \\\\\n",
       "\tab &  1.00000000  &  1.00000000  & -1.00000000  &  1.000000000 & -1.00000000  & -1.000000000 & -1.00000000 \\\\\n",
       "\tc & -1.00000000  & -1.00000000  &  1.00000000  &  1.000000000 & -1.00000000  & -1.000000000 &  1.00000000 \\\\\n",
       "\tac &  1.00000000  & -1.00000000  &  1.00000000  & -1.000000000 &  1.00000000  & -1.000000000 & -1.00000000 \\\\\n",
       "\tbc & -1.00000000  &  1.00000000  &  1.00000000  & -1.000000000 & -1.00000000  &  1.000000000 & -1.00000000 \\\\\n",
       "\tabc &  1.00000000  &  1.00000000  &  1.00000000  &  1.000000000 &  1.00000000  &  1.000000000 &  1.00000000 \\\\\n",
       "\tEffect & -0.06560462  & -0.02942458  & -0.02902823  & -0.001604078 & -0.01062549  &  0.008625397 &  0.04871201 \\\\\n",
       "\\end{tabular}\n"
      ],
      "text/markdown": [
       "\n",
       "| <!--/--> | A | B | C | AB | AC | BC | ABC | \n",
       "|---|---|---|---|---|---|---|---|---|\n",
       "| (1) | -1.00000000  | -1.00000000  | -1.00000000  |  1.000000000 |  1.00000000  |  1.000000000 | -1.00000000  | \n",
       "| a |  1.00000000  | -1.00000000  | -1.00000000  | -1.000000000 | -1.00000000  |  1.000000000 |  1.00000000  | \n",
       "| b | -1.00000000  |  1.00000000  | -1.00000000  | -1.000000000 |  1.00000000  | -1.000000000 |  1.00000000  | \n",
       "| ab |  1.00000000  |  1.00000000  | -1.00000000  |  1.000000000 | -1.00000000  | -1.000000000 | -1.00000000  | \n",
       "| c | -1.00000000  | -1.00000000  |  1.00000000  |  1.000000000 | -1.00000000  | -1.000000000 |  1.00000000  | \n",
       "| ac |  1.00000000  | -1.00000000  |  1.00000000  | -1.000000000 |  1.00000000  | -1.000000000 | -1.00000000  | \n",
       "| bc | -1.00000000  |  1.00000000  |  1.00000000  | -1.000000000 | -1.00000000  |  1.000000000 | -1.00000000  | \n",
       "| abc |  1.00000000  |  1.00000000  |  1.00000000  |  1.000000000 |  1.00000000  |  1.000000000 |  1.00000000  | \n",
       "| Effect | -0.06560462  | -0.02942458  | -0.02902823  | -0.001604078 | -0.01062549  |  0.008625397 |  0.04871201  | \n",
       "\n",
       "\n"
      ],
      "text/plain": [
       "       A           B           C           AB           AC         \n",
       "(1)    -1.00000000 -1.00000000 -1.00000000  1.000000000  1.00000000\n",
       "a       1.00000000 -1.00000000 -1.00000000 -1.000000000 -1.00000000\n",
       "b      -1.00000000  1.00000000 -1.00000000 -1.000000000  1.00000000\n",
       "ab      1.00000000  1.00000000 -1.00000000  1.000000000 -1.00000000\n",
       "c      -1.00000000 -1.00000000  1.00000000  1.000000000 -1.00000000\n",
       "ac      1.00000000 -1.00000000  1.00000000 -1.000000000  1.00000000\n",
       "bc     -1.00000000  1.00000000  1.00000000 -1.000000000 -1.00000000\n",
       "abc     1.00000000  1.00000000  1.00000000  1.000000000  1.00000000\n",
       "Effect -0.06560462 -0.02942458 -0.02902823 -0.001604078 -0.01062549\n",
       "       BC           ABC        \n",
       "(1)     1.000000000 -1.00000000\n",
       "a       1.000000000  1.00000000\n",
       "b      -1.000000000  1.00000000\n",
       "ab     -1.000000000 -1.00000000\n",
       "c      -1.000000000  1.00000000\n",
       "ac     -1.000000000 -1.00000000\n",
       "bc      1.000000000 -1.00000000\n",
       "abc     1.000000000  1.00000000\n",
       "Effect  0.008625397  0.04871201"
      ]
     },
     "metadata": {},
     "output_type": "display_data"
    },
    {
     "data": {
      "text/plain": [
       "\n",
       "Call:\n",
       "lm.default(formula = fact_metric.vec ~ Af * Bf * Cf)\n",
       "\n",
       "Residuals:\n",
       "      Min        1Q    Median        3Q       Max \n",
       "-0.115650 -0.044284 -0.005329  0.034056  0.108403 \n",
       "\n",
       "Coefficients:\n",
       "              Estimate Std. Error t value Pr(>|t|)    \n",
       "(Intercept)  0.1873173  0.0054911  34.113   <2e-16 ***\n",
       "Af1          0.0109341  0.0054911   1.991   0.0496 *  \n",
       "Bf1          0.0049041  0.0054911   0.893   0.3742    \n",
       "Cf1          0.0048380  0.0054911   0.881   0.3807    \n",
       "Af1:Bf1     -0.0002673  0.0054911  -0.049   0.9613    \n",
       "Af1:Cf1     -0.0017709  0.0054911  -0.323   0.7478    \n",
       "Bf1:Cf1      0.0014376  0.0054911   0.262   0.7941    \n",
       "Af1:Bf1:Cf1 -0.0081187  0.0054911  -1.479   0.1428    \n",
       "---\n",
       "Signif. codes:  0 '***' 0.001 '**' 0.01 '*' 0.05 '.' 0.1 ' ' 1\n",
       "\n",
       "Residual standard error: 0.0538 on 88 degrees of freedom\n",
       "Multiple R-squared:  0.08238,\tAdjusted R-squared:  0.009384 \n",
       "F-statistic: 1.129 on 7 and 88 DF,  p-value: 0.3527\n"
      ]
     },
     "metadata": {},
     "output_type": "display_data"
    },
    {
     "data": {
      "text/html": [
       "<table>\n",
       "<thead><tr><th></th><th scope=col>Df</th><th scope=col>Sum Sq</th><th scope=col>Mean Sq</th><th scope=col>F value</th><th scope=col>Pr(&gt;F)</th></tr></thead>\n",
       "<tbody>\n",
       "\t<tr><th scope=row>Af</th><td> 1          </td><td>1.147724e-02</td><td>1.147724e-02</td><td>3.965051192 </td><td>0.04955574  </td></tr>\n",
       "\t<tr><th scope=row>Bf</th><td> 1          </td><td>2.308815e-03</td><td>2.308815e-03</td><td>0.797627945 </td><td>0.37423940  </td></tr>\n",
       "\t<tr><th scope=row>Cf</th><td> 1          </td><td>2.247035e-03</td><td>2.247035e-03</td><td>0.776284900 </td><td>0.38067984  </td></tr>\n",
       "\t<tr><th scope=row>Af:Bf</th><td> 1          </td><td>6.861510e-06</td><td>6.861510e-06</td><td>0.002370451 </td><td>0.96127885  </td></tr>\n",
       "\t<tr><th scope=row>Af:Cf</th><td> 1          </td><td>3.010696e-04</td><td>3.010696e-04</td><td>0.104010726 </td><td>0.74783365  </td></tr>\n",
       "\t<tr><th scope=row>Bf:Cf</th><td> 1          </td><td>1.983933e-04</td><td>1.983933e-04</td><td>0.068539068 </td><td>0.79408770  </td></tr>\n",
       "\t<tr><th scope=row>Af:Bf:Cf</th><td> 1          </td><td>6.327627e-03</td><td>6.327627e-03</td><td>2.186009747 </td><td>0.14284029  </td></tr>\n",
       "\t<tr><th scope=row>Residuals</th><td>88          </td><td>2.547249e-01</td><td>2.894601e-03</td><td>         NA </td><td>        NA  </td></tr>\n",
       "</tbody>\n",
       "</table>\n"
      ],
      "text/latex": [
       "\\begin{tabular}{r|lllll}\n",
       "  & Df & Sum Sq & Mean Sq & F value & Pr(>F)\\\\\n",
       "\\hline\n",
       "\tAf &  1           & 1.147724e-02 & 1.147724e-02 & 3.965051192  & 0.04955574  \\\\\n",
       "\tBf &  1           & 2.308815e-03 & 2.308815e-03 & 0.797627945  & 0.37423940  \\\\\n",
       "\tCf &  1           & 2.247035e-03 & 2.247035e-03 & 0.776284900  & 0.38067984  \\\\\n",
       "\tAf:Bf &  1           & 6.861510e-06 & 6.861510e-06 & 0.002370451  & 0.96127885  \\\\\n",
       "\tAf:Cf &  1           & 3.010696e-04 & 3.010696e-04 & 0.104010726  & 0.74783365  \\\\\n",
       "\tBf:Cf &  1           & 1.983933e-04 & 1.983933e-04 & 0.068539068  & 0.79408770  \\\\\n",
       "\tAf:Bf:Cf &  1           & 6.327627e-03 & 6.327627e-03 & 2.186009747  & 0.14284029  \\\\\n",
       "\tResiduals & 88           & 2.547249e-01 & 2.894601e-03 &          NA  &         NA  \\\\\n",
       "\\end{tabular}\n"
      ],
      "text/markdown": [
       "\n",
       "| <!--/--> | Df | Sum Sq | Mean Sq | F value | Pr(>F) | \n",
       "|---|---|---|---|---|---|---|---|\n",
       "| Af |  1           | 1.147724e-02 | 1.147724e-02 | 3.965051192  | 0.04955574   | \n",
       "| Bf |  1           | 2.308815e-03 | 2.308815e-03 | 0.797627945  | 0.37423940   | \n",
       "| Cf |  1           | 2.247035e-03 | 2.247035e-03 | 0.776284900  | 0.38067984   | \n",
       "| Af:Bf |  1           | 6.861510e-06 | 6.861510e-06 | 0.002370451  | 0.96127885   | \n",
       "| Af:Cf |  1           | 3.010696e-04 | 3.010696e-04 | 0.104010726  | 0.74783365   | \n",
       "| Bf:Cf |  1           | 1.983933e-04 | 1.983933e-04 | 0.068539068  | 0.79408770   | \n",
       "| Af:Bf:Cf |  1           | 6.327627e-03 | 6.327627e-03 | 2.186009747  | 0.14284029   | \n",
       "| Residuals | 88           | 2.547249e-01 | 2.894601e-03 |          NA  |         NA   | \n",
       "\n",
       "\n"
      ],
      "text/plain": [
       "          Df Sum Sq       Mean Sq      F value     Pr(>F)    \n",
       "Af         1 1.147724e-02 1.147724e-02 3.965051192 0.04955574\n",
       "Bf         1 2.308815e-03 2.308815e-03 0.797627945 0.37423940\n",
       "Cf         1 2.247035e-03 2.247035e-03 0.776284900 0.38067984\n",
       "Af:Bf      1 6.861510e-06 6.861510e-06 0.002370451 0.96127885\n",
       "Af:Cf      1 3.010696e-04 3.010696e-04 0.104010726 0.74783365\n",
       "Bf:Cf      1 1.983933e-04 1.983933e-04 0.068539068 0.79408770\n",
       "Af:Bf:Cf   1 6.327627e-03 6.327627e-03 2.186009747 0.14284029\n",
       "Residuals 88 2.547249e-01 2.894601e-03          NA         NA"
      ]
     },
     "metadata": {},
     "output_type": "display_data"
    },
    {
     "data": {
      "image/png": "[encoded data removed]",
      "text/plain": [
       "Plot with title \"\""
      ]
     },
     "metadata": {},
     "output_type": "display_data"
    },
    {
     "data": {
      "image/png": "[encoded data removed]",
      "text/plain": [
       "Plot with title \"\""
      ]
     },
     "metadata": {},
     "output_type": "display_data"
    },
    {
     "data": {
      "image/png": "[encoded data removed]",
      "text/plain": [
       "Plot with title \"\""
      ]
     },
     "metadata": {},
     "output_type": "display_data"
    },
    {
     "data": {
      "image/png": "[encoded data removed]",
      "text/plain": [
       "Plot with title \"\""
      ]
     },
     "metadata": {},
     "output_type": "display_data"
    }
   ],
   "source": [
    "fact_metric=read.csv(file='C:/Users/USER/Desktop/Data Science/20-2학기/Factorial_Metric.csv',header=T)\n",
    "names(fact_metric)[1]=c(\"rep1\")\n",
    "fact_metric\n",
    "\n",
    "#reps=c(\"rep1\",\"rep2\",\"rep3\",\"rep4\",\"rep5\",\"rep6\",\"rep7\",\"rep8\",\"rep9\",\"rep10\",\"rep11\",\"rep12\")\n",
    "rownames(fact_metric)=c(\"(1)\",\"a\",\"b\",\"ab\",\"c\",\"ac\",\"bc\",\"abc\")\n",
    "A <- rep(c(-1,1),4)\n",
    "B <- rep(c(-1,-1,1,1),2)\n",
    "C <- c(rep(-1,4),rep(1,4))\n",
    "Total=apply(fact_metric,1,sum)\n",
    "\n",
    "cbind(A,B,C,fact_metric,Total)\n",
    "n=4\n",
    "Aeff <- (Total %*% A)/(4*n)\n",
    "Beff <- (Total %*% B)/(4*n)\n",
    "Ceff <- (Total %*% C)/(4*n)\n",
    "AB=A*B\n",
    "BC=B*C\n",
    "AC=A*C\n",
    "ABC=A*B*C\n",
    "cbind(A,B,C,AB,AC,BC,ABC,Total)\n",
    "ABeff <- (Total %*% AB)/(4*n)\n",
    "ACeff <- (Total %*% AC)/(4*n)\n",
    "BCeff <- (Total %*% BC)/(4*n)\n",
    "ABCeff <- (Total %*% ABC)/(4*n)\n",
    "\n",
    "Effects <- t(Total) %*% cbind(A,B,C,AB,AC,BC,ABC)/(4*n)\n",
    "Summary <- rbind( cbind(A,B,C,AB,AC,BC,ABC),Effects )\n",
    "dimnames(Summary)[[1]] <- c(dimnames(fact_metric)[[1]],\"Effect\")\n",
    "Summary\n",
    "\n",
    "fact_metric.vec <- c(t(fact_metric))\n",
    "Af <- rep(as.factor(A),rep(12,8))\n",
    "Bf <- rep(as.factor(B),rep(12,8))\n",
    "Cf <- rep(as.factor(C),rep(12,8))\n",
    "options(contrasts=c(\"contr.sum\",\"contr.poly\"))\n",
    "fact_metric.lm <- lm(fact_metric.vec ~ Af*Bf*Cf)\n",
    "summary(fact_metric.lm)\n",
    "anova(fact_metric.lm)\n",
    "plot(fact_metric.lm)"
   ]
  },
  {
   "cell_type": "code",
   "execution_count": 119,
   "metadata": {},
   "outputs": [
    {
     "data": {
      "image/png": "[encoded data removed]",
      "text/plain": [
       "Plot with title \"Interaction Plot\""
      ]
     },
     "metadata": {},
     "output_type": "display_data"
    }
   ],
   "source": [
    "opar<-par(mfrow=c(1,3),oma=c(0,0,1.1,0))\n",
    "with(fact_metric,{interaction.plot(A,B,Total, type = \"b\",xlab=\"Language of Lyrics\",ylab = \"Metric\",trace.label=\"Genre\", main='Interaction Plot',pch=c(1,19))\n",
    "                interaction.plot(B,C,Total, type = \"b\",xlab=\"Genre\",ylab = \"Metric\",trace.label=\"Experience of listening\", main='Interaction Plot',pch=c(1,19))\n",
    "                interaction.plot(C,A,Total, type = \"b\",xlab=\"Experience of listening\",ylab = \"Metric\",trace.label=\"Language of Lyrics\", main='Interaction Plot',pch=c(1,19))\n",
    "                }\n",
    "     )"
   ]
  },
  {
   "cell_type": "code",
   "execution_count": null,
   "metadata": {},
   "outputs": [],
   "source": []
  }
 ],
 "metadata": {
  "kernelspec": {
   "display_name": "R",
   "language": "R",
   "name": "ir"
  },
  "language_info": {
   "codemirror_mode": "r",
   "file_extension": ".r",
   "mimetype": "text/x-r-source",
   "name": "R",
   "pygments_lexer": "r",
   "version": "3.4.3"
  }
 },
 "nbformat": 4,
 "nbformat_minor": 2
}
