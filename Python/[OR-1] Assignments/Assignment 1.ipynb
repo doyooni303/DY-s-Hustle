{
 "cells": [
  {
   "cell_type": "code",
   "execution_count": 1,
   "metadata": {},
   "outputs": [],
   "source": [
    "import numpy as np"
   ]
  },
  {
   "cell_type": "code",
   "execution_count": 16,
   "metadata": {},
   "outputs": [],
   "source": [
    "list1= (3,2,5,0,0,0)\n",
    "list2=([1,2,1,1,0,0],[3,0,2,0,1,0],[1,4,0,0,0,1])\n",
    "list3=([430],[460],[420])"
   ]
  },
  {
   "cell_type": "code",
   "execution_count": 19,
   "metadata": {},
   "outputs": [
    {
     "name": "stdout",
     "output_type": "stream",
     "text": [
      "[[3 2 5 0 0 0]]\n",
      "[[1 2 1 1 0 0]\n",
      " [3 0 2 0 1 0]\n",
      " [1 4 0 0 0 1]]\n",
      "[[1 3 1]\n",
      " [2 0 4]\n",
      " [1 2 0]\n",
      " [1 0 0]\n",
      " [0 1 0]\n",
      " [0 0 1]]\n",
      "[[1 2 1 1 0 0]] [[3 0 2 0 1 0]] [[1 4 0 0 0 1]]\n",
      "[[430]\n",
      " [460]\n",
      " [420]]\n"
     ]
    }
   ],
   "source": [
    "a=np.matrix(list1)\n",
    "b=np.matrix(list2)\n",
    "c=np.matrix(list3)\n",
    "\n",
    "print(a)\n",
    "print(b)\n",
    "print(b.T)\n",
    "print(b[0],b[1],b[2])\n",
    "print(c)"
   ]
  },
  {
   "cell_type": "code",
   "execution_count": null,
   "metadata": {},
   "outputs": [],
   "source": []
  }
 ],
 "metadata": {
  "kernelspec": {
   "display_name": "Python 3",
   "language": "python",
   "name": "python3"
  },
  "language_info": {
   "codemirror_mode": {
    "name": "ipython",
    "version": 3
   },
   "file_extension": ".py",
   "mimetype": "text/x-python",
   "name": "python",
   "nbconvert_exporter": "python",
   "pygments_lexer": "ipython3",
   "version": "3.6.4"
  }
 },
 "nbformat": 4,
 "nbformat_minor": 2
}
