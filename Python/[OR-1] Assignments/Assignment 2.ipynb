{
 "cells": [
  {
   "cell_type": "code",
   "execution_count": 1,
   "metadata": {},
   "outputs": [],
   "source": [
    "import numpy as np\n",
    "import pandas as pd"
   ]
  },
  {
   "cell_type": "code",
   "execution_count": 26,
   "metadata": {},
   "outputs": [
    {
     "data": {
      "text/plain": [
       "['Minimize\\t3\\t2\\t5',\n",
       " '1\\t2\\t1\\t<=\\t430\\n-3\\t0\\t-2\\t>=\\t-460\\n1\\t4\\t0\\t<=\\t450',\n",
       " 'Generals\\nx1,x2\\nFree\\nx3']"
      ]
     },
     "execution_count": 26,
     "metadata": {},
     "output_type": "execute_result"
    }
   ],
   "source": [
    "#파일 읽기_마지막 닫아주기\n",
    "file = open(\"../AS#2/input2.txt\", \"r\")\n",
    "input_data = file.read()\n",
    "matrix = input_data.split(\"\\n\\n\")\n",
    "file.close()\n",
    "matrix"
   ]
  },
  {
   "cell_type": "code",
   "execution_count": 27,
   "metadata": {},
   "outputs": [
    {
     "data": {
      "text/plain": [
       "[['1', '2', '1', '<=', '430'],\n",
       " ['-3', '0', '-2', '>=', '-460'],\n",
       " ['1', '4', '0', '<=', '450']]"
      ]
     },
     "execution_count": 27,
     "metadata": {},
     "output_type": "execute_result"
    }
   ],
   "source": [
    "matrix2 = matrix[1].split(\"\\n\")\n",
    "list_a=[]\n",
    "for i in range(len(matrix2)):\n",
    "    list_a.append(matrix2[i].split(\"\\t\"))\n",
    "list_a"
   ]
  },
  {
   "cell_type": "code",
   "execution_count": 28,
   "metadata": {},
   "outputs": [
    {
     "name": "stdout",
     "output_type": "stream",
     "text": [
      "cT= [-3, -2, -5, 5, 0, 0, 0]\n"
     ]
    }
   ],
   "source": [
    "#input file을 매트릭스 화_obj에 따라 cT 바꿔주기\n",
    "\n",
    "matrix1 = matrix[0].split(\"\\t\")\n",
    "cT = matrix1[1:4]\n",
    "for i in range(len(cT)):\n",
    "    cT[i] = int(cT[i])\n",
    "\n",
    "if matrix1[0]=='Minimize':\n",
    "    for i in range(len(cT)):\n",
    "        cT[i] = -cT[i]\n",
    "        matrix[0]='Max'\n",
    "\n",
    "    cT.append(-cT[2])\n",
    "\n",
    "for i in range(len(list_a)):\n",
    "    cT.append(0)\n",
    "\n",
    "print('cT=',cT)"
   ]
  },
  {
   "cell_type": "code",
   "execution_count": 29,
   "metadata": {},
   "outputs": [
    {
     "data": {
      "text/plain": [
       "[[1, 2, 1, '<=', 430], [-3, 0, -2, '>=', -460], [1, 4, 0, '<=', 450]]"
      ]
     },
     "execution_count": 29,
     "metadata": {},
     "output_type": "execute_result"
    }
   ],
   "source": [
    "\n",
    "A = []\n",
    "for i in range(len(list_a)):\n",
    "    list_a[i][len(list_a[i])-1] = int(list_a[i][len(list_a[i])-1])\n",
    "    for j in range(len(list_a[i])-2):\n",
    "        list_a[i][j] = int(list_a[i][j])    \n",
    "\n",
    "list_a"
   ]
  },
  {
   "cell_type": "code",
   "execution_count": 188,
   "metadata": {},
   "outputs": [
    {
     "data": {
      "text/plain": [
       "[[1, 2, 1, '<=', 430], [3, 0, 2, '<=', 460], [1, 4, 0, '<=', 450]]"
      ]
     },
     "execution_count": 188,
     "metadata": {},
     "output_type": "execute_result"
    }
   ],
   "source": [
    "#b>=0 , 부등호 \n",
    "for i in range(len(list_a)):\n",
    "    if list_a[i][len(list_a)-1] < 0:\n",
    "        if list_a[i][-2] == \"<=\":\n",
    "            list_a[i][-2] = \">=\"\n",
    "        elif list_a[i][-2] == \">=\":\n",
    "            list_a[i][-2] = \"<=\"      \n",
    "        for j in range(len(list_a[i])-2) :\n",
    "            list_a[i][j]=- list_a[i][j]\n",
    "        list_a[i][len(list_a[i])-1] = -list_a[i][len(list_a[i])-1]\n",
    "list_a"
   ]
  },
  {
   "cell_type": "code",
   "execution_count": 189,
   "metadata": {},
   "outputs": [
    {
     "data": {
      "text/plain": [
       "[[1, 2, 1, -1, '<=', 430], [3, 0, 2, -2, '<=', 460], [1, 4, 0, 0, '<=', 450]]"
      ]
     },
     "execution_count": 189,
     "metadata": {},
     "output_type": "execute_result"
    }
   ],
   "source": [
    "for i in range(len(list_a)):\n",
    "    list_a[i].insert(3,-list_a[i][2])\n",
    "list_a"
   ]
  },
  {
   "cell_type": "code",
   "execution_count": 190,
   "metadata": {},
   "outputs": [
    {
     "data": {
      "text/plain": [
       "[[1, 2, 1, -1, 1, 0, 0, '<=', 430],\n",
       " [3, 0, 2, -2, 0, 1, 0, '<=', 460],\n",
       " [1, 4, 0, 0, 0, 0, 1, '<=', 450]]"
      ]
     },
     "execution_count": 190,
     "metadata": {},
     "output_type": "execute_result"
    }
   ],
   "source": [
    "for i in range(len(list_a)) :\n",
    "    if list_a[i][-2]=='<=':\n",
    "        for j in range(4,7):\n",
    "            if j==i+4 :\n",
    "                list_a[i].insert(j,1)\n",
    "            else :\n",
    "                list_a[i].insert(j,0)\n",
    "                \n",
    "list_a"
   ]
  },
  {
   "cell_type": "code",
   "execution_count": 191,
   "metadata": {},
   "outputs": [
    {
     "name": "stdout",
     "output_type": "stream",
     "text": [
      "A= [[1, 2, 1, -1, 1, 0, 0], [3, 0, 2, -2, 0, 1, 0], [1, 4, 0, 0, 0, 0, 1]]\n"
     ]
    }
   ],
   "source": [
    "A=[]\n",
    "\n",
    "for i in range(len(list_a)):\n",
    "    A.append(list_a[i][:len(list_a[i])-2])\n",
    "print('A=',A)"
   ]
  },
  {
   "cell_type": "code",
   "execution_count": 192,
   "metadata": {},
   "outputs": [
    {
     "name": "stdout",
     "output_type": "stream",
     "text": [
      "b= [430, 460, 450]\n"
     ]
    }
   ],
   "source": [
    "b=[]\n",
    "for i in range(len(list_a)):\n",
    "    b.append(list_a[i][-1])\n",
    "print('b=',b)"
   ]
  },
  {
   "cell_type": "code",
   "execution_count": 193,
   "metadata": {},
   "outputs": [
    {
     "name": "stdout",
     "output_type": "stream",
     "text": [
      "x= [['x1'], ['x2'], ['x3'], ['x40'], ['x41'], ['s1'], ['s2'], ['s3']]\n"
     ]
    }
   ],
   "source": [
    "x=[['x1'],['x2'],['x3'],['x40'],['x41'],['s1'],['s2'],['s3']]\n",
    "print('x=',x)"
   ]
  },
  {
   "cell_type": "code",
   "execution_count": 195,
   "metadata": {},
   "outputs": [
    {
     "name": "stdout",
     "output_type": "stream",
     "text": [
      "Max\n",
      "cT= [-3, -2, -5, 5, 0, 0, 0]\n",
      "A= [[1, 2, 1, -1, 1, 0, 0], [3, 0, 2, -2, 0, 1, 0], [1, 4, 0, 0, 0, 0, 1]]\n",
      "b= [430, 460, 450]\n",
      "x= [['x1'], ['x2'], ['x3'], ['x40'], ['x41'], ['s1'], ['s2'], ['s3']]\n"
     ]
    }
   ],
   "source": [
    "print(matrix[0])\n",
    "print('cT=',cT)\n",
    "print('A=',A)\n",
    "print('b=',b)\n",
    "print('x=',x)"
   ]
  }
 ],
 "metadata": {
  "kernelspec": {
   "display_name": "Python 3",
   "language": "python",
   "name": "python3"
  },
  "language_info": {
   "codemirror_mode": {
    "name": "ipython",
    "version": 3
   },
   "file_extension": ".py",
   "mimetype": "text/x-python",
   "name": "python",
   "nbconvert_exporter": "python",
   "pygments_lexer": "ipython3",
   "version": "3.6.4"
  }
 },
 "nbformat": 4,
 "nbformat_minor": 2
}
