{
 "cells": [
  {
   "cell_type": "code",
   "execution_count": 52,
   "metadata": {},
   "outputs": [],
   "source": [
    "import numpy as np\n",
    "import pandas as pd\n",
    "import numpy.linalg as lin"
   ]
  },
  {
   "cell_type": "code",
   "execution_count": 53,
   "metadata": {},
   "outputs": [
    {
     "data": {
      "text/plain": [
       "['Maximize\\t7\\t8\\t2\\t10\\t2\\t7\\t2',\n",
       " '1\\t6\\t8\\t1\\t7\\t6\\t3\\t=\\t1\\n1\\t4\\t8\\t4\\t3\\t1\\t1\\t>=\\t7\\n8\\t6\\t9\\t7\\t10\\t9\\t5\\t=\\t1\\n1\\t1\\t5\\t2\\t10\\t6\\t2\\t<=\\t10',\n",
       " 'Generals\\nx0,x1,x2,x3,x4,x5,x6']"
      ]
     },
     "execution_count": 53,
     "metadata": {},
     "output_type": "execute_result"
    }
   ],
   "source": [
    "# 문제해결에 필요한 Matrix 형성\n",
    "file = open(\"../프로그래밍 최종과제/2014170806.txt\", \"r\")\n",
    "input_data = file.read()\n",
    "matrix = input_data.split(\"\\n\\n\")\n",
    "file.close()\n",
    "matrix"
   ]
  },
  {
   "cell_type": "code",
   "execution_count": 54,
   "metadata": {
    "scrolled": true
   },
   "outputs": [
    {
     "data": {
      "text/plain": [
       "[['1', '6', '8', '1', '7', '6', '3', '=', '1'],\n",
       " ['1', '4', '8', '4', '3', '1', '1', '>=', '7'],\n",
       " ['8', '6', '9', '7', '10', '9', '5', '=', '1'],\n",
       " ['1', '1', '5', '2', '10', '6', '2', '<=', '10']]"
      ]
     },
     "execution_count": 54,
     "metadata": {},
     "output_type": "execute_result"
    }
   ],
   "source": [
    "matrix2 = matrix[1].split(\"\\n\")\n",
    "list_a=[]\n",
    "for i in range(len(matrix2)):\n",
    "    list_a.append(matrix2[i].split(\"\\t\"))\n",
    "list_a"
   ]
  },
  {
   "cell_type": "code",
   "execution_count": 55,
   "metadata": {},
   "outputs": [
    {
     "data": {
      "text/plain": [
       "[[1, 6, 8, 1, 7, 6, 3, '=', 1],\n",
       " [1, 4, 8, 4, 3, 1, 1, '>=', 7],\n",
       " [8, 6, 9, 7, 10, 9, 5, '=', 1],\n",
       " [1, 1, 5, 2, 10, 6, 2, '<=', 10]]"
      ]
     },
     "execution_count": 55,
     "metadata": {},
     "output_type": "execute_result"
    }
   ],
   "source": [
    "A = []\n",
    "for i in range(len(list_a)):\n",
    "    list_a[i][len(list_a[i])-1] = int(list_a[i][len(list_a[i])-1])\n",
    "    for j in range(len(list_a[i])-2):\n",
    "        list_a[i][j] = int(list_a[i][j])    \n",
    "\n",
    "list_a"
   ]
  },
  {
   "cell_type": "code",
   "execution_count": 56,
   "metadata": {},
   "outputs": [
    {
     "name": "stdout",
     "output_type": "stream",
     "text": [
      "cT= [7, 8, 2, 10, 2, 7, 2, -100, -100, -100, 0, 0]\n"
     ]
    }
   ],
   "source": [
    "matrix1 = matrix[0].split(\"\\t\")\n",
    "cT = matrix1[1:]\n",
    "for i in range(len(cT)):\n",
    "    cT[i] = int(cT[i])\n",
    "\n",
    "if matrix1[0]=='Minimize':\n",
    "    for i in range(len(cT)):\n",
    "        cT[i] = -cT[i]\n",
    "        matrix[0]='Max'\n",
    "\n",
    "\n",
    "for i in range(3):\n",
    "    cT.append(-100)\n",
    "\n",
    "for i in range(2):\n",
    "    cT.append(0)\n",
    "\n",
    "print('cT=',cT)"
   ]
  },
  {
   "cell_type": "code",
   "execution_count": 57,
   "metadata": {},
   "outputs": [
    {
     "data": {
      "text/plain": [
       "[[1, 6, 8, 1, 7, 6, 3, 1, 0, 0, '=', 1],\n",
       " [1, 4, 8, 4, 3, 1, 1, 0, 1, 0, '>=', 7],\n",
       " [8, 6, 9, 7, 10, 9, 5, 0, 0, 1, '=', 1],\n",
       " [1, 1, 5, 2, 10, 6, 2, 0, 0, 0, '<=', 10]]"
      ]
     },
     "execution_count": 57,
     "metadata": {},
     "output_type": "execute_result"
    }
   ],
   "source": [
    "for i in range(len(list_a)) :\n",
    "    if list_a[i][-2]=='>='or'=':\n",
    "        for j in range(7,10):\n",
    "            if j==i+7 :\n",
    "                list_a[i].insert(j,1)\n",
    "            else :\n",
    "                list_a[i].insert(j,0)\n",
    "    else :\n",
    "        list_a[i].extend([0,0,0])\n",
    "list_a"
   ]
  },
  {
   "cell_type": "code",
   "execution_count": 58,
   "metadata": {},
   "outputs": [
    {
     "data": {
      "text/plain": [
       "[[1, 6, 8, 1, 7, 6, 3, 1, 0, 0, 0, 0, '=', 1],\n",
       " [1, 4, 8, 4, 3, 1, 1, 0, 1, 0, -1, 0, '>=', 7],\n",
       " [8, 6, 9, 7, 10, 9, 5, 0, 0, 1, 0, 0, '=', 1],\n",
       " [1, 1, 5, 2, 10, 6, 2, 0, 0, 0, 0, 1, '<=', 10]]"
      ]
     },
     "execution_count": 58,
     "metadata": {},
     "output_type": "execute_result"
    }
   ],
   "source": [
    "for i in range(len(list_a)) :\n",
    "    if list_a[i][-2]=='=':\n",
    "        list_a[i].insert(10,0)\n",
    "        list_a[i].insert(11,0)\n",
    "        \n",
    "    if list_a[i][-2]=='>=':\n",
    "        list_a[i].insert(10,-1)\n",
    "        list_a[i].insert(11,0)\n",
    "    \n",
    "    if list_a[i][-2]=='<=':\n",
    "        list_a[i].insert(10,0)\n",
    "        list_a[i].insert(11,1)\n",
    "list_a"
   ]
  },
  {
   "cell_type": "code",
   "execution_count": 59,
   "metadata": {},
   "outputs": [
    {
     "name": "stdout",
     "output_type": "stream",
     "text": [
      "A= [[1, 6, 8, 1, 7, 6, 3, 1, 0, 0, 0, 0], [1, 4, 8, 4, 3, 1, 1, 0, 1, 0, -1, 0], [8, 6, 9, 7, 10, 9, 5, 0, 0, 1, 0, 0], [1, 1, 5, 2, 10, 6, 2, 0, 0, 0, 0, 1]]\n"
     ]
    }
   ],
   "source": [
    "A=[]\n",
    "\n",
    "for i in range(len(list_a)):\n",
    "    A.append(list_a[i][:len(list_a[i])-2])\n",
    "print('A=',A)"
   ]
  },
  {
   "cell_type": "code",
   "execution_count": 60,
   "metadata": {},
   "outputs": [
    {
     "name": "stdout",
     "output_type": "stream",
     "text": [
      "b= [1, 7, 1, 10]\n"
     ]
    }
   ],
   "source": [
    "b=[]\n",
    "for i in range(len(list_a)):\n",
    "    b.append(list_a[i][-1])\n",
    "print('b=',b)"
   ]
  },
  {
   "cell_type": "code",
   "execution_count": 61,
   "metadata": {},
   "outputs": [
    {
     "name": "stdout",
     "output_type": "stream",
     "text": [
      "x= [['x0'], ['x1'], ['x2'], ['x3'], ['x4'], ['x5'], ['x6'], ['a1'], ['a2'], ['a3'], ['s1'], ['s2']]\n"
     ]
    }
   ],
   "source": [
    "x=[['x0'],['x1'],['x2'],['x3'],['x4'],['x5'],['x6'],['a1'],['a2'],['a3'],['s1'],['s2']]\n",
    "print('x=',x)"
   ]
  },
  {
   "cell_type": "code",
   "execution_count": 62,
   "metadata": {},
   "outputs": [
    {
     "name": "stdout",
     "output_type": "stream",
     "text": [
      "Maximize\n",
      "cT= [7, 8, 2, 10, 2, 7, 2, -100, -100, -100, 0, 0]\n",
      "A= [[1, 6, 8, 1, 7, 6, 3, 1, 0, 0, 0, 0], [1, 4, 8, 4, 3, 1, 1, 0, 1, 0, -1, 0], [8, 6, 9, 7, 10, 9, 5, 0, 0, 1, 0, 0], [1, 1, 5, 2, 10, 6, 2, 0, 0, 0, 0, 1]]\n",
      "b= [1, 7, 1, 10]\n",
      "x= [['x0'], ['x1'], ['x2'], ['x3'], ['x4'], ['x5'], ['x6'], ['a1'], ['a2'], ['a3'], ['s1'], ['s2']]\n"
     ]
    }
   ],
   "source": [
    "print(matrix1[0])\n",
    "print('cT=',cT)\n",
    "print('A=',A)\n",
    "print('b=',b)\n",
    "print('x=',x)"
   ]
  },
  {
   "cell_type": "code",
   "execution_count": 63,
   "metadata": {},
   "outputs": [],
   "source": [
    "#1 simplex시작\n",
    "BasicV=[['a1'],['a2'],['a3'],['s2']]\n",
    "\n",
    "\n",
    "NullV=[['x0'], ['x1'], ['x2'], ['x3'], ['x4'], ['x5'], ['x6'], ['s1']]\n",
    "\n",
    "x0=0\n",
    "x1=0\n",
    "x2=0\n",
    "x3=0\n",
    "x4=0\n",
    "x5=0\n",
    "x6=0\n",
    "s1=0\n",
    "NV=[x0, x1, x2, x3, x4, x5, x6, s1]"
   ]
  },
  {
   "cell_type": "code",
   "execution_count": 64,
   "metadata": {},
   "outputs": [
    {
     "name": "stdout",
     "output_type": "stream",
     "text": [
      "B= [[1, 0, 0, 0], [0, 1, 0, 0], [0, 0, 1, 0], [0, 0, 0, 1]]\n",
      "\n",
      "Binverse= [[1. 0. 0. 0.]\n",
      " [0. 1. 0. 0.]\n",
      " [0. 0. 1. 0.]\n",
      " [0. 0. 0. 1.]]\n",
      "\n",
      "N= [[1, 1, 8, 1], [6, 4, 6, 1], [8, 8, 9, 5], [1, 4, 7, 2], [7, 3, 10, 10], [6, 1, 9, 6], [3, 1, 5, 2], [0, -1, 0, 0]]\n",
      "\n",
      "cbT= [-100, -100, -100, 0]\n",
      "\n",
      "cnT= [7, 8, 2, 10, 2, 7, 2, 0]\n"
     ]
    }
   ],
   "source": [
    "\n",
    "#1\n",
    "B=[]\n",
    "N=[]\n",
    "cbT=[]\n",
    "cnT=[]\n",
    "Binverse=[]\n",
    "for j in range(len(BasicV)):\n",
    "    for i in range(len(x)):\n",
    "        if x[i]==BasicV[j]:\n",
    "            B.append([A[0][i],A[1][i],A[2][i],A[3][i]])\n",
    "            cbT.append(cT[i])\n",
    "\n",
    "for j in range(len(NullV)):\n",
    "    for i in range(len(x)):\n",
    "        if x[i]==NullV[j]:\n",
    "            N.append([A[0][i],A[1][i],A[2][i],A[3][i]])\n",
    "            cnT.append(cT[i])\n",
    "\n",
    "Binverse=lin.inv(B)\n",
    "\n",
    "print(\"B=\",B)\n",
    "print(\"\\nBinverse=\",Binverse)\n",
    "print(\"\\nN=\",N)\n",
    "print(\"\\ncbT=\",cbT)\n",
    "print(\"\\ncnT=\",cnT)"
   ]
  },
  {
   "cell_type": "code",
   "execution_count": 65,
   "metadata": {},
   "outputs": [
    {
     "name": "stdout",
     "output_type": "stream",
     "text": [
      "xoptimal= [0, 0, 0, 0, 0, 0, 0, 0, 1, 7, 1, 10]\n",
      "\n",
      "z= -900\n"
     ]
    }
   ],
   "source": [
    "#1\n",
    "z=0\n",
    "xB=[]\n",
    "xN=[]\n",
    "xoptimal=[]\n",
    "for i in range(len(B)):\n",
    "      xB.append(Binverse[i][0]*b[0]+B[i][1]*b[1]+B[i][2]*b[2]+B[i][3]*b[3])\n",
    "for i in range(len(xB)):\n",
    "    xB[i]=int(xB[i])\n",
    "\n",
    "    \n",
    "for i in range(len(N)):\n",
    "    xN.append(0)\n",
    "    \n",
    "for i in range(len(cbT)):\n",
    "    z+=cbT[i]*xB[i]\n",
    "\n",
    "for i in range(len(N)):\n",
    "    xoptimal.append(xN[i])\n",
    "    \n",
    "    \n",
    "for i in range(len(xB)):\n",
    "    xoptimal.append(xB[i])\n",
    "\n",
    "\n",
    "\n",
    "    \n",
    "\n",
    "\n",
    "print(\"xoptimal=\",xoptimal)\n",
    "print(\"\\nz=\",z)"
   ]
  },
  {
   "cell_type": "code",
   "execution_count": 66,
   "metadata": {},
   "outputs": [
    {
     "name": "stdout",
     "output_type": "stream",
     "text": [
      "delta z= [1007, 1608, 2502, 1210, 2002, 1607, 902, -100]\n"
     ]
    }
   ],
   "source": [
    "#1\n",
    "BinV=[[0]*len(Binverse) for i in range(len(N))]\n",
    "\n",
    "for i in range(len(Binverse)):\n",
    "    for j in range(len(N)):\n",
    "        for k in range(len(Binverse[i])):\n",
    "            BinV[j][i]+=Binverse[k][i]*N[j][k]\n",
    "\n",
    "for j in range(len(BinV[i])):\n",
    "    for i in range(len(BinV)): \n",
    "        BinV[i][j]=int(BinV[i][j])\n",
    "BinV\n",
    "\n",
    "cbtbinvn=[0]*len(cnT)\n",
    "\n",
    "for i in range(len(BinV)):\n",
    "    for j in range(len(cbT)):\n",
    "            cbtbinvn[i]+=cbT[j]*BinV[i][j]\n",
    "            \n",
    "cbtbinvn\n",
    "\n",
    "deltaz=[0]*len(cnT)\n",
    "\n",
    "for i in range(len(cnT)):\n",
    "    deltaz[i]=cnT[i]-cbtbinvn[i]\n",
    "\n",
    "print(\"delta z=\",deltaz)"
   ]
  },
  {
   "cell_type": "code",
   "execution_count": 67,
   "metadata": {},
   "outputs": [
    {
     "name": "stdout",
     "output_type": "stream",
     "text": [
      "Basic Variables= [['a1'], ['a2'], ['a3'], ['s2']]\n",
      "Non Basic Variables= [['x0'], ['x1'], ['x2'], ['x3'], ['x4'], ['x5'], ['x6'], ['s1']]\n",
      "Objective Value z= -900\n",
      "Basic Feasible Solution x= [0, 0, 0, 0, 0, 0, 0, 0, 1, 7, 1, 10]\n",
      "Delta z= [1007, 1608, 2502, 1210, 2002, 1607, 902, -100]\n"
     ]
    }
   ],
   "source": [
    "#1\n",
    "print(\"Basic Variables=\",BasicV)\n",
    "print(\"Non Basic Variables=\",NullV)\n",
    "print(\"Objective Value z=\",z)\n",
    "print(\"Basic Feasible Solution x=\",xoptimal)\n",
    "print(\"Delta z=\",deltaz)"
   ]
  },
  {
   "cell_type": "code",
   "execution_count": 68,
   "metadata": {},
   "outputs": [
    {
     "data": {
      "text/plain": [
       "['x2']"
      ]
     },
     "execution_count": 68,
     "metadata": {},
     "output_type": "execute_result"
    }
   ],
   "source": [
    "#1 # Dual infeasible 일때 entering\n",
    "enterorder= deltaz.index(max(deltaz))\n",
    "enteringvariable = NullV[enterorder]\n",
    "enteringvariable"
   ]
  },
  {
   "cell_type": "code",
   "execution_count": 69,
   "metadata": {},
   "outputs": [
    {
     "data": {
      "text/plain": [
       "['a3']"
      ]
     },
     "execution_count": 69,
     "metadata": {},
     "output_type": "execute_result"
    }
   ],
   "source": [
    "#1 #primal infeasible 일때 leaving\n",
    "primal=[]\n",
    "variable=[]\n",
    "for i in range(len(BinV[enterorder])):\n",
    "    if xB[enterorder]/BinV[enterorder][i] >0:\n",
    "        primal.append(xB[enterorder]/BinV[enterorder][i])\n",
    "        variable.append(BasicV[i])\n",
    "\n",
    "primalsimplex=primal.index(min(primal))\n",
    "leavingvariable=variable[primalsimplex]\n",
    "leavingvariable"
   ]
  },
  {
   "cell_type": "code",
   "execution_count": 70,
   "metadata": {},
   "outputs": [
    {
     "name": "stdout",
     "output_type": "stream",
     "text": [
      "entering variable = ['x2']\n",
      "leaving variable = ['a3']\n"
     ]
    }
   ],
   "source": [
    "print(\"entering variable =\",enteringvariable)\n",
    "print(\"leaving variable =\",leavingvariable)"
   ]
  },
  {
   "cell_type": "code",
   "execution_count": 71,
   "metadata": {},
   "outputs": [],
   "source": [
    "#2\n",
    "BasicV=[['a1'],['a2'],['x2'],['s2']]\n",
    "\n",
    "\n",
    "NullV=[['x0'], ['x1'], ['a3'], ['x3'], ['x4'], ['x5'], ['x6'], ['s1']]\n",
    "\n",
    "x0=0\n",
    "x1=0\n",
    "a3=0\n",
    "x3=0\n",
    "x4=0\n",
    "x5=0\n",
    "x6=0\n",
    "s1=0\n",
    "NV=[x0, x1, a3, x3, x4, x5, x6, s1]\n"
   ]
  },
  {
   "cell_type": "code",
   "execution_count": 72,
   "metadata": {},
   "outputs": [
    {
     "name": "stdout",
     "output_type": "stream",
     "text": [
      "B= [[1, 0, 0, 0], [0, 1, 0, 0], [8, 8, 9, 5], [0, 0, 0, 1]]\n",
      "\n",
      "Binverse= [[ 1.00000000e+00  0.00000000e+00  6.93889390e-18  2.77555756e-17]\n",
      " [ 0.00000000e+00  1.00000000e+00  0.00000000e+00  0.00000000e+00]\n",
      " [-8.88888889e-01 -8.88888889e-01  1.11111111e-01 -5.55555556e-01]\n",
      " [ 0.00000000e+00  0.00000000e+00  0.00000000e+00  1.00000000e+00]]\n",
      "\n",
      "N= [[1, 1, 8, 1], [6, 4, 6, 1], [0, 0, 1, 0], [1, 4, 7, 2], [7, 3, 10, 10], [6, 1, 9, 6], [3, 1, 5, 2], [0, -1, 0, 0]]\n",
      "\n",
      "cbT= [-100, -100, 2, 0]\n",
      "\n",
      "cnT= [7, 8, -100, 10, 2, 7, 2, 0]\n"
     ]
    }
   ],
   "source": [
    "#2\n",
    "B=[]\n",
    "N=[]\n",
    "cbT=[]\n",
    "cnT=[]\n",
    "Binverse=[]\n",
    "for j in range(len(BasicV)):\n",
    "    for i in range(len(x)):\n",
    "        if x[i]==BasicV[j]:\n",
    "            B.append([A[0][i],A[1][i],A[2][i],A[3][i]])\n",
    "            cbT.append(cT[i])\n",
    "\n",
    "for j in range(len(NullV)):\n",
    "    for i in range(len(x)):\n",
    "        if x[i]==NullV[j]:\n",
    "            N.append([A[0][i],A[1][i],A[2][i],A[3][i]])\n",
    "            cnT.append(cT[i])\n",
    "\n",
    "Binverse=lin.inv(B)\n",
    "\n",
    "print(\"B=\",B)\n",
    "print(\"\\nBinverse=\",Binverse)\n",
    "print(\"\\nN=\",N)\n",
    "print(\"\\ncbT=\",cbT)\n",
    "print(\"\\ncnT=\",cnT)"
   ]
  },
  {
   "cell_type": "code",
   "execution_count": 73,
   "metadata": {},
   "outputs": [
    {
     "name": "stdout",
     "output_type": "stream",
     "text": [
      "xoptimal= [0, 0, 0, 0, 0, 0, 0, 0, 1, 7, 114, 10]\n",
      "\n",
      "z= -572\n"
     ]
    }
   ],
   "source": [
    "#2\n",
    "z=0\n",
    "xB=[]\n",
    "xN=[]\n",
    "xoptimal=[]\n",
    "for i in range(len(B)):\n",
    "      xB.append(Binverse[i][0]*b[0]+B[i][1]*b[1]+B[i][2]*b[2]+B[i][3]*b[3])\n",
    "for i in range(len(xB)):\n",
    "    xB[i]=int(xB[i])\n",
    "\n",
    "    \n",
    "for i in range(len(N)):\n",
    "    xN.append(0)\n",
    "    \n",
    "for i in range(len(cbT)):\n",
    "    z+=cbT[i]*xB[i]\n",
    "\n",
    "for i in range(len(N)):\n",
    "    xoptimal.append(xN[i])\n",
    "    \n",
    "    \n",
    "for i in range(len(xB)):\n",
    "    xoptimal.append(xB[i])\n",
    "\n",
    "\n",
    "\n",
    "    \n",
    "\n",
    "\n",
    "print(\"xoptimal=\",xoptimal)\n",
    "print(\"\\nz=\",z)"
   ]
  },
  {
   "cell_type": "code",
   "execution_count": 74,
   "metadata": {},
   "outputs": [
    {
     "data": {
      "text/plain": [
       "[-1193, -92, -100, -690, -600, -895, -398, -100]"
      ]
     },
     "execution_count": 74,
     "metadata": {},
     "output_type": "execute_result"
    }
   ],
   "source": [
    "#2\n",
    "BinV=[[0]*len(Binverse) for i in range(len(N))]\n",
    "\n",
    "for i in range(len(Binverse)):\n",
    "    for j in range(len(N)):\n",
    "        for k in range(len(Binverse[i])):\n",
    "            BinV[j][i]+=Binverse[k][i]*N[j][k]\n",
    "\n",
    "for j in range(len(BinV[i])):\n",
    "    for i in range(len(BinV)): \n",
    "        BinV[i][j]=int(BinV[i][j])\n",
    "BinV\n",
    "\n",
    "cbtbinvn=[0]*len(cnT)\n",
    "\n",
    "for i in range(len(BinV)):\n",
    "    for j in range(len(cbT)):\n",
    "            cbtbinvn[i]+=cbT[j]*BinV[i][j]\n",
    "            \n",
    "cbtbinvn\n",
    "\n",
    "deltaz=[0]*len(cnT)\n",
    "\n",
    "for i in range(len(cnT)):\n",
    "    deltaz[i]=cnT[i]-cbtbinvn[i]\n",
    "\n",
    "deltaz\n",
    "#dual feasible"
   ]
  },
  {
   "cell_type": "code",
   "execution_count": 75,
   "metadata": {},
   "outputs": [
    {
     "name": "stdout",
     "output_type": "stream",
     "text": [
      "Basic Variables= [['a1'], ['a2'], ['x2'], ['s2']] = [1, 7, 114, 10]\n",
      "Non Basic Variables= [['x0'], ['x1'], ['a3'], ['x3'], ['x4'], ['x5'], ['x6'], ['s1']]\n",
      "Objective Value z= -572\n",
      "Delta z= [-1193, -92, -100, -690, -600, -895, -398, -100]\n"
     ]
    }
   ],
   "source": [
    "#2\n",
    "print(\"Basic Variables=\",BasicV,\"=\",xB)\n",
    "print(\"Non Basic Variables=\",NullV)\n",
    "print(\"Objective Value z=\",z)\n",
    "print(\"Delta z=\",deltaz)"
   ]
  }
 ],
 "metadata": {
  "kernelspec": {
   "display_name": "Python 3",
   "language": "python",
   "name": "python3"
  },
  "language_info": {
   "codemirror_mode": {
    "name": "ipython",
    "version": 3
   },
   "file_extension": ".py",
   "mimetype": "text/x-python",
   "name": "python",
   "nbconvert_exporter": "python",
   "pygments_lexer": "ipython3",
   "version": "3.6.4"
  }
 },
 "nbformat": 4,
 "nbformat_minor": 2
}
