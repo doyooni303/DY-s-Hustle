{
 "cells": [
  {
   "cell_type": "code",
   "execution_count": 2,
   "metadata": {},
   "outputs": [],
   "source": [
    "import numpy as np\n",
    "import pandas as pd\n",
    "import numpy.linalg as lin"
   ]
  },
  {
   "cell_type": "code",
   "execution_count": 3,
   "metadata": {},
   "outputs": [
    {
     "data": {
      "text/plain": [
       "['Maximize\\t2\\t3', '2\\t1\\t<=\\t4\\n1\\t2\\t<=\\t5', 'Generals\\nx1,x2']"
      ]
     },
     "execution_count": 3,
     "metadata": {},
     "output_type": "execute_result"
    }
   ],
   "source": [
    "file = open(\"../AS#4/input3.txt\", \"r\")\n",
    "input_data = file.read()\n",
    "matrix = input_data.split(\"\\n\\n\")\n",
    "file.close()\n",
    "matrix"
   ]
  },
  {
   "cell_type": "code",
   "execution_count": 4,
   "metadata": {},
   "outputs": [
    {
     "data": {
      "text/plain": [
       "[['2', '1', '<=', '4'], ['1', '2', '<=', '5']]"
      ]
     },
     "execution_count": 4,
     "metadata": {},
     "output_type": "execute_result"
    }
   ],
   "source": [
    "matrix2 = matrix[1].split(\"\\n\")\n",
    "list_a=[]\n",
    "for i in range(len(matrix2)):\n",
    "    list_a.append(matrix2[i].split(\"\\t\"))\n",
    "list_a"
   ]
  },
  {
   "cell_type": "code",
   "execution_count": 5,
   "metadata": {},
   "outputs": [
    {
     "name": "stdout",
     "output_type": "stream",
     "text": [
      "cT= [2, 3, 0, 0]\n"
     ]
    }
   ],
   "source": [
    "#input file을 매트릭스 화_obj에 따라 cT 바꿔주기\n",
    "\n",
    "matrix1 = matrix[0].split(\"\\t\")\n",
    "cT = matrix1[1:3]\n",
    "for i in range(len(cT)):\n",
    "    cT[i] = int(cT[i])\n",
    "\n",
    "if matrix1[0]=='Minimize':\n",
    "    for i in range(len(cT)):\n",
    "        cT[i] = -cT[i]\n",
    "        matrix[0]='Max'\n",
    "\n",
    "\n",
    "for i in range(len(list_a)):\n",
    "    cT.append(0)\n",
    "\n",
    "print('cT=',cT)"
   ]
  },
  {
   "cell_type": "code",
   "execution_count": 6,
   "metadata": {},
   "outputs": [
    {
     "data": {
      "text/plain": [
       "[[2, 1, '<=', 4], [1, 2, '<=', 5]]"
      ]
     },
     "execution_count": 6,
     "metadata": {},
     "output_type": "execute_result"
    }
   ],
   "source": [
    "\n",
    "A = []\n",
    "for i in range(len(list_a)):\n",
    "    list_a[i][len(list_a[i])-1] = int(list_a[i][len(list_a[i])-1])\n",
    "    for j in range(len(list_a[i])-2):\n",
    "        list_a[i][j] = int(list_a[i][j])    \n",
    "\n",
    "list_a"
   ]
  },
  {
   "cell_type": "code",
   "execution_count": 7,
   "metadata": {},
   "outputs": [
    {
     "data": {
      "text/plain": [
       "[[2, 1, 1, 0, '<=', 4], [1, 2, 0, 1, '<=', 5]]"
      ]
     },
     "execution_count": 7,
     "metadata": {},
     "output_type": "execute_result"
    }
   ],
   "source": [
    "for i in range(len(list_a)) :\n",
    "    if list_a[i][-2]=='<=':\n",
    "        for j in range(2,4):\n",
    "            if j==i+2 :\n",
    "                list_a[i].insert(j,1)\n",
    "            else :\n",
    "                list_a[i].insert(j,0)\n",
    "                \n",
    "list_a"
   ]
  },
  {
   "cell_type": "code",
   "execution_count": 8,
   "metadata": {},
   "outputs": [
    {
     "name": "stdout",
     "output_type": "stream",
     "text": [
      "A= [[2, 1, 1, 0], [1, 2, 0, 1]]\n"
     ]
    }
   ],
   "source": [
    "A=[]\n",
    "\n",
    "for i in range(len(list_a)):\n",
    "    A.append(list_a[i][:len(list_a[i])-2])\n",
    "print('A=',A)"
   ]
  },
  {
   "cell_type": "code",
   "execution_count": 9,
   "metadata": {},
   "outputs": [
    {
     "name": "stdout",
     "output_type": "stream",
     "text": [
      "b= [4, 5]\n"
     ]
    }
   ],
   "source": [
    "b=[]\n",
    "for i in range(len(list_a)):\n",
    "    b.append(list_a[i][-1])\n",
    "print('b=',b)"
   ]
  },
  {
   "cell_type": "code",
   "execution_count": 10,
   "metadata": {},
   "outputs": [
    {
     "name": "stdout",
     "output_type": "stream",
     "text": [
      "x= [['x1'], ['x2'], ['s1'], ['s2']]\n"
     ]
    }
   ],
   "source": [
    "x=[['x1'],['x2'],['s1'],['s2']]\n",
    "print('x=',x)"
   ]
  },
  {
   "cell_type": "code",
   "execution_count": 11,
   "metadata": {},
   "outputs": [
    {
     "name": "stdout",
     "output_type": "stream",
     "text": [
      "Maximize\n",
      "cT= [2, 3, 0, 0]\n",
      "A= [[2, 1, 1, 0], [1, 2, 0, 1]]\n",
      "b= [4, 5]\n",
      "x= [['x1'], ['x2'], ['s1'], ['s2']]\n"
     ]
    }
   ],
   "source": [
    "print(matrix1[0])\n",
    "print('cT=',cT)\n",
    "print('A=',A)\n",
    "print('b=',b)\n",
    "print('x=',x)"
   ]
  },
  {
   "cell_type": "code",
   "execution_count": 12,
   "metadata": {},
   "outputs": [
    {
     "data": {
      "text/plain": [
       "[0, 0]"
      ]
     },
     "execution_count": 12,
     "metadata": {},
     "output_type": "execute_result"
    }
   ],
   "source": [
    "BasicV=[['s1'],['s2']]\n",
    "s1=b[0]\n",
    "s2=b[1]\n",
    "BV=[s1,s2]\n",
    "BV\n",
    "\n",
    "NullV=[['x1'],['x2']]\n",
    "x1=0\n",
    "x2=0\n",
    "NV=[x1,x2]\n",
    "NV"
   ]
  },
  {
   "cell_type": "code",
   "execution_count": 13,
   "metadata": {},
   "outputs": [
    {
     "name": "stdout",
     "output_type": "stream",
     "text": [
      "B= [[1, 0], [0, 1]]\n",
      "\n",
      "Binverse= [[1. 0.]\n",
      " [0. 1.]]\n",
      "\n",
      "N= [[2, 1], [1, 2]]\n",
      "\n",
      "cbT= [0, 0]\n",
      "\n",
      "cnT= [2, 3]\n"
     ]
    }
   ],
   "source": [
    "B=[]\n",
    "N=[]\n",
    "cbT=[]\n",
    "cnT=[]\n",
    "Binverse=[]\n",
    "for i in range(len(x)):\n",
    "    for j in range(len(BasicV)):\n",
    "        if x[i]==BasicV[j]:\n",
    "            B.append([A[0][i],A[1][i]])\n",
    "            cbT.append(cT[i])\n",
    "\n",
    "for i in range(len(x)):\n",
    "    for j in range(len(NullV)):\n",
    "        if x[i]==NullV[j]:\n",
    "            N.append([A[0][i],A[1][i]])\n",
    "            cnT.append(cT[i])\n",
    "\n",
    "Binverse=lin.inv(B)\n",
    "\n",
    "print(\"B=\",B)\n",
    "print(\"\\nBinverse=\",Binverse)\n",
    "print(\"\\nN=\",N)\n",
    "print(\"\\ncbT=\",cbT)\n",
    "print(\"\\ncnT=\",cnT)\n"
   ]
  },
  {
   "cell_type": "code",
   "execution_count": 14,
   "metadata": {},
   "outputs": [
    {
     "name": "stdout",
     "output_type": "stream",
     "text": [
      "xoptimal= [0, 0, 4, 5]\n",
      "\n",
      "z= 0\n"
     ]
    }
   ],
   "source": [
    "z=0\n",
    "xB=[]\n",
    "xN=[]\n",
    "xoptimal=[]\n",
    "for i in range(len(B)):\n",
    "    for j in range(0,1):\n",
    "        xB.append(Binverse[i][j]*BV[j]+B[i][j+1]*BV[j+1])\n",
    "for i in range(len(xB)):\n",
    "    xB[i]=int(xB[i])\n",
    "\n",
    "    \n",
    "for i in range(len(N)):\n",
    "    xN.append(0)\n",
    "    \n",
    "for i in range(len(cbT)):\n",
    "    z+=cbT[i]*xB[i]\n",
    "\n",
    "for i in range(len(N)):\n",
    "    xoptimal.append(xN[i])\n",
    "    \n",
    "    \n",
    "for i in range(len(xB)):\n",
    "    xoptimal.append(xB[i])\n",
    "\n",
    "\n",
    "\n",
    "    \n",
    "    \n",
    "    \n",
    "\n",
    "\n",
    "print(\"xoptimal=\",xoptimal)\n",
    "print(\"\\nz=\",z)"
   ]
  },
  {
   "cell_type": "code",
   "execution_count": 15,
   "metadata": {},
   "outputs": [
    {
     "data": {
      "text/plain": [
       "[2, 3]"
      ]
     },
     "execution_count": 15,
     "metadata": {},
     "output_type": "execute_result"
    }
   ],
   "source": [
    "BinV=[[0]*len(Binverse) for i in range(len(N[0]))]\n",
    "\n",
    "for i in range(len(Binverse)):\n",
    "    for j in range(len(N[0])):\n",
    "        for k in range(len(Binverse[i])):\n",
    "            BinV[i][j]+=Binverse[i][k]*N[k][j]\n",
    "\n",
    "for i in range(len(BinV)):\n",
    "    for j in range(len(BinV[i])):\n",
    "        BinV[i][j]=int(BinV[i][j])\n",
    "BinV\n",
    "\n",
    "cbtbinvn=[0]*len(cbT)\n",
    "\n",
    "for i in range(len(B)):\n",
    "    for j in range(len(BinV)):\n",
    "            cbtbinvn[i]+=cbT[j]*BinV[j][i]\n",
    "            \n",
    "cbtbinvn\n",
    "\n",
    "deltaz=[0]*len(cnT)\n",
    "\n",
    "for i in range(len(deltaz)):\n",
    "    deltaz[i]=cnT[i]-cbtbinvn[i]\n",
    "\n",
    "deltaz"
   ]
  },
  {
   "cell_type": "code",
   "execution_count": 16,
   "metadata": {},
   "outputs": [
    {
     "name": "stdout",
     "output_type": "stream",
     "text": [
      "Basic Variables= [['s1'], ['s2']]\n",
      "Non Basic Variables= [['x1'], ['x2']]\n",
      "Objective Value z= 0\n",
      "Basic Feasible Solution x= [0, 0, 4, 5]\n",
      "Delta z= [2, 3]\n"
     ]
    }
   ],
   "source": [
    "print(\"Basic Variables=\",BasicV)\n",
    "print(\"Non Basic Variables=\",NullV)\n",
    "print(\"Objective Value z=\",z)\n",
    "print(\"Basic Feasible Solution x=\",xoptimal)\n",
    "print(\"Delta z=\",deltaz)"
   ]
  },
  {
   "cell_type": "code",
   "execution_count": 17,
   "metadata": {},
   "outputs": [
    {
     "data": {
      "text/plain": [
       "['x2']"
      ]
     },
     "execution_count": 17,
     "metadata": {},
     "output_type": "execute_result"
    }
   ],
   "source": [
    "enterorder= deltaz.index(max(deltaz))\n",
    "enteringvariable = NullV[enterorder]\n",
    "enteringvariable"
   ]
  },
  {
   "cell_type": "code",
   "execution_count": 29,
   "metadata": {},
   "outputs": [
    {
     "data": {
      "text/plain": [
       "['s2']"
      ]
     },
     "execution_count": 29,
     "metadata": {},
     "output_type": "execute_result"
    }
   ],
   "source": [
    "primal=[]\n",
    "variable=[]\n",
    "for i in range(len(BinV[enterorder])):\n",
    "    if xB[enterorder]/BinV[enterorder][i] >0:\n",
    "        primal.append(xB[enterorder]/BinV[enterorder][i])\n",
    "        variable.append(BasicV[i])\n",
    "\n",
    "primalsimplex=primal.index(min(primal))\n",
    "leavingvariable=variable[primalsimplex]\n",
    "\n",
    "leavingvariable"
   ]
  },
  {
   "cell_type": "code",
   "execution_count": 30,
   "metadata": {},
   "outputs": [
    {
     "name": "stdout",
     "output_type": "stream",
     "text": [
      "entering variable = ['x2']\n",
      "leaving variable = ['s2']\n"
     ]
    }
   ],
   "source": [
    "print(\"entering variable =\",enteringvariable)\n",
    "print(\"leaving variable =\",leavingvariable)"
   ]
  }
 ],
 "metadata": {
  "kernelspec": {
   "display_name": "Python 3",
   "language": "python",
   "name": "python3"
  },
  "language_info": {
   "codemirror_mode": {
    "name": "ipython",
    "version": 3
   },
   "file_extension": ".py",
   "mimetype": "text/x-python",
   "name": "python",
   "nbconvert_exporter": "python",
   "pygments_lexer": "ipython3",
   "version": "3.6.4"
  }
 },
 "nbformat": 4,
 "nbformat_minor": 2
}
