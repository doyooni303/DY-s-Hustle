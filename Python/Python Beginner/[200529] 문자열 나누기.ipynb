{
 "cells": [
  {
   "cell_type": "code",
   "execution_count": 5,
   "metadata": {},
   "outputs": [
    {
     "name": "stdout",
     "output_type": "stream",
     "text": [
      "['+82', '10-8908-7479', 'South Korea']\n"
     ]
    }
   ],
   "source": [
    "dyphonenum=\"+82-10-8908-7479\"\n",
    "split_num=dyphonenum.split(\"-\",1)\n",
    "\n",
    "if split_num[0]=='+82':\n",
    "    split_num.append('South Korea')\n",
    "\n",
    "print(split_num)"
   ]
  },
  {
   "cell_type": "code",
   "execution_count": 10,
   "metadata": {},
   "outputs": [
    {
     "name": "stdout",
     "output_type": "stream",
     "text": [
      "['espresso', 'americano', 'cappucino', 'flat white', 'latte']\n"
     ]
    }
   ],
   "source": [
    "coffee_menu=\" espresso,   americano,  cappucino,  flat white,  latte\"\n",
    "coffee_menu_list=coffee_menu.split(\",\")\n",
    "\n",
    "coffee_list=[]\n",
    "for coffee in coffee_menu_list:\n",
    "    temp=coffee.strip()\n",
    "    coffee_list.append(temp)\n",
    "    \n",
    "print(coffee_list)"
   ]
  },
  {
   "cell_type": "code",
   "execution_count": 20,
   "metadata": {},
   "outputs": [
    {
     "name": "stdout",
     "output_type": "stream",
     "text": [
      "['Seoul', 'Gangseo-gu', 'Deungchon-ro']\n"
     ]
    },
    {
     "data": {
      "text/plain": [
       "'Seoul Gangseo-gu Deungchon-ro'"
      ]
     },
     "execution_count": 20,
     "metadata": {},
     "output_type": "execute_result"
    }
   ],
   "source": [
    "address=[\"Seoul\",\"Gangseo-gu\",\"Deungchon-ro\"] #리스트가 모두 문자열이어야 함\n",
    "print(address)\n",
    "\n",
    "\" \".join(address)"
   ]
  },
  {
   "cell_type": "code",
   "execution_count": 28,
   "metadata": {},
   "outputs": [
    {
     "name": "stdout",
     "output_type": "stream",
     "text": [
      "PYTHON IS POWERFUL AND PYTHON IS EASY TO LEARN. I LOVE PYTHON\n",
      "python is powerful and python is easy to learn. i love python\n",
      "Python의 개수는?: 0\n",
      "python의 개수는?: 3\n",
      "is의 개수는?: 2\n"
     ]
    }
   ],
   "source": [
    "sentence=\"Python is powerful and python is easy to learn. I love Python\"\n",
    "u_sentence=sentence.upper()\n",
    "l_sentence=sentence.lower()\n",
    "\n",
    "print(u_sentence)\n",
    "print(l_sentence)\n",
    "print(\"Python의 개수는?:\",u_sentence.count(\"Python\"))\n",
    "print(\"python의 개수는?:\",l_sentence.count(\"python\")) #대문자 소문자 구분 없이\n",
    "print(\"is의 개수는?:\",sentence.count(\"is\"))\n"
   ]
  }
 ],
 "metadata": {
  "kernelspec": {
   "display_name": "Python 3",
   "language": "python",
   "name": "python3"
  },
  "language_info": {
   "codemirror_mode": {
    "name": "ipython",
    "version": 3
   },
   "file_extension": ".py",
   "mimetype": "text/x-python",
   "name": "python",
   "nbconvert_exporter": "python",
   "pygments_lexer": "ipython3",
   "version": "3.6.4"
  }
 },
 "nbformat": 4,
 "nbformat_minor": 2
}
