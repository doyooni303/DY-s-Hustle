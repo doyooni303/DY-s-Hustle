{
 "cells": [
  {
   "cell_type": "code",
   "execution_count": 99,
   "metadata": {},
   "outputs": [
    {
     "name": "stdout",
     "output_type": "stream",
     "text": [
      "['Bicycle1', 'Bicycle2', 'Bicycle3', 'Bicycle4', 'Bicycle5', 'Bicycle6', 'Bicycle7', 'Bicycle8', 'Bicycle9', 'Bicycle10', 'Bicycle11', 'Bicycle12']\n"
     ]
    }
   ],
   "source": [
    "number=list(range(1,13))\n",
    "\n",
    "bike='Bicycle'\n",
    "\n",
    "bicycle_name=[]\n",
    "for i in range(len(number)):\n",
    "    bicycle_name.append(bike+str(number[i])) #숫자를 문자화해서 문자의 붙임으로 반복되는 이름 만들 수 있음\n",
    "\n",
    "print(bicycle_name)"
   ]
  },
  {
   "cell_type": "code",
   "execution_count": 105,
   "metadata": {},
   "outputs": [
    {
     "name": "stdout",
     "output_type": "stream",
     "text": [
      "['Bicycle1', 'Bicycle2', 'Bicycle3', 'Bicycle4', 'Bicycle5', 'Bicycle6', 'Bicycle7', 'Bicycle8', 'Bicycle9', 'Bicycle10', 'Bicycle11', 'Bicycle12']\n",
      "자전거 이동 방향: 우회전\n",
      "자전거 현재 상태: 정지\n",
      "\n",
      "[자전거 상세 설명]\n",
      "자전거 이름:Bicycle7\n",
      "자전거 색상:red\n",
      "자전거 바퀴 종류:FG\n",
      "자전거 바퀴 크기:20\n"
     ]
    }
   ],
   "source": [
    "#클래스를 통해서 변수랑 함수를 맘껏 만들 수 있고 거기서 필요할 때 마다 가져오면 되는 장점이 있는게 포인트\n",
    "number=list(range(1,13))\n",
    "\n",
    "bike='Bicycle'\n",
    "\n",
    "bicycle_name=[]\n",
    "for i in range(len(number)):\n",
    "    bicycle_name.append(bike+str(number[i]))\n",
    "\n",
    "print(bicycle_name)\n",
    "\n",
    "class Bicycle():\n",
    "    bicycle_dictionary={\"ws\":[20,22,24,26],\"color\":[\"red\",\"blue\",\"black\",\"navy\"],\"wt\":[\"FG\",\"AG\",\"TF\",\"HG\"],\"bn\":bicycle_name}\n",
    "    \n",
    "    def speed(self,speed):\n",
    "        if speed==0:\n",
    "            print(\"자전거 현재 상태: 정지\")\n",
    "        else:\n",
    "            print(\"자전거 현재 상태: {0}km/h로 운행중\".format(speed))\n",
    "        \n",
    "    def move(self,direction):\n",
    "        print(\"자전거 이동 방향: {0}회전\".format(direction))\n",
    "    \n",
    "    def description(self):\n",
    "        print(\"\\n[자전거 상세 설명]\")\n",
    "        print(\"자전거 이름:{0}\".format(self.bikename))\n",
    "        print(\"자전거 색상:{0}\".format(self.color))\n",
    "        print(\"자전거 바퀴 종류:{0}\".format(self.wheeltype))\n",
    "        print(\"자전거 바퀴 크기:{0}\".format(self.wheelsize))\n",
    "\n",
    "\n",
    "myBicycle=Bicycle() #Bicycle의 객체임\n",
    "myBicycle.wheelsize=myBicycle.bicycle_dictionary[\"ws\"][0]\n",
    "myBicycle.color=myBicycle.bicycle_dictionary[\"color\"][0]\n",
    "myBicycle.wheeltype=myBicycle.bicycle_dictionary[\"wt\"][0]\n",
    "myBicycle.bikename=myBicycle.bicycle_dictionary[\"bn\"][6]        \n",
    "\n",
    "myBicycle.move('우')\n",
    "myBicycle.speed(0)\n",
    "\n",
    "myBicycle.description()\n"
   ]
  },
  {
   "cell_type": "code",
   "execution_count": 120,
   "metadata": {},
   "outputs": [
    {
     "name": "stdout",
     "output_type": "stream",
     "text": [
      "\n",
      "[자전거 상세 설명]\n",
      "자전거 이름:Bicycle1\n",
      "자전거 색상:blue\n",
      "자전거 바퀴 종류:HG\n",
      "자전거 바퀴 크기:24\n",
      "\n",
      "[자전거 상세 설명]\n",
      "자전거 이름:Bicycle2\n",
      "자전거 색상:red\n",
      "자전거 바퀴 종류:FG\n",
      "자전거 바퀴 크기:20\n",
      "\n",
      "[자전거 상세 설명]\n",
      "자전거 이름:Bicycle3\n",
      "자전거 색상:red\n",
      "자전거 바퀴 종류:AG\n",
      "자전거 바퀴 크기:24\n",
      "\n",
      "[자전거 상세 설명]\n",
      "자전거 이름:Bicycle4\n",
      "자전거 색상:red\n",
      "자전거 바퀴 종류:HG\n",
      "자전거 바퀴 크기:20\n",
      "\n",
      "[자전거 상세 설명]\n",
      "자전거 이름:Bicycle5\n",
      "자전거 색상:red\n",
      "자전거 바퀴 종류:AG\n",
      "자전거 바퀴 크기:26\n",
      "\n",
      "[자전거 상세 설명]\n",
      "자전거 이름:Bicycle6\n",
      "자전거 색상:navy\n",
      "자전거 바퀴 종류:FG\n",
      "자전거 바퀴 크기:20\n",
      "\n",
      "[자전거 상세 설명]\n",
      "자전거 이름:Bicycle7\n",
      "자전거 색상:blue\n",
      "자전거 바퀴 종류:FG\n",
      "자전거 바퀴 크기:20\n",
      "\n",
      "[자전거 상세 설명]\n",
      "자전거 이름:Bicycle8\n",
      "자전거 색상:red\n",
      "자전거 바퀴 종류:AG\n",
      "자전거 바퀴 크기:26\n",
      "\n",
      "[자전거 상세 설명]\n",
      "자전거 이름:Bicycle9\n",
      "자전거 색상:blue\n",
      "자전거 바퀴 종류:TF\n",
      "자전거 바퀴 크기:20\n",
      "\n",
      "[자전거 상세 설명]\n",
      "자전거 이름:Bicycle10\n",
      "자전거 색상:blue\n",
      "자전거 바퀴 종류:FG\n",
      "자전거 바퀴 크기:26\n",
      "\n",
      "[자전거 상세 설명]\n",
      "자전거 이름:Bicycle11\n",
      "자전거 색상:blue\n",
      "자전거 바퀴 종류:FG\n",
      "자전거 바퀴 크기:24\n",
      "\n",
      "[자전거 상세 설명]\n",
      "자전거 이름:Bicycle12\n",
      "자전거 색상:black\n",
      "자전거 바퀴 종류:FG\n",
      "자전거 바퀴 크기:22\n"
     ]
    }
   ],
   "source": [
    "cycleclass=[0 for i in range(100)]\n",
    "rnd.seed(7)\n",
    "for i in range(len(bicycle_name)):\n",
    "    cycleclass[i]=Bicycle()\n",
    "    cycleclass[i].bikename=cycleclass[i].bicycle_dictionary[\"bn\"][i] \n",
    "    cycleclass[i].wheelsize=cycleclass[i].bicycle_dictionary[\"ws\"][rnd.sample(range(0,4),1)[0]]\n",
    "    cycleclass[i].color=cycleclass[i].bicycle_dictionary[\"color\"][rnd.sample(range(0,4),1)[0]]\n",
    "    cycleclass[i].wheeltype=cycleclass[i].bicycle_dictionary[\"wt\"][rnd.sample(range(0,4),1)[0]]\n",
    "\n",
    "    cycleclass[i].description()"
   ]
  },
  {
   "cell_type": "code",
   "execution_count": 92,
   "metadata": {},
   "outputs": [
    {
     "name": "stdout",
     "output_type": "stream",
     "text": [
      "\n",
      "[자전거 상세 설명]\n",
      "자전거 이름:Bicycle1\n",
      "자전거 색상:red\n",
      "자전거 바퀴 종류:FG\n",
      "자전거 바퀴 크기:20\n"
     ]
    }
   ],
   "source": [
    "bicycle0=Bicycle()\n",
    "bicycle0.bikename=bicycle0.bicycle_dictionary[\"bn\"][0]\n",
    "bicycle0.wheelsize=bicycle0.bicycle_dictionary[\"ws\"][0]\n",
    "bicycle0.color=bicycle0.bicycle_dictionary[\"color\"][0]\n",
    "bicycle0.wheeltype=bicycle0.bicycle_dictionary[\"wt\"][0]\n",
    "\n",
    "bicycle0.description()"
   ]
  },
  {
   "cell_type": "code",
   "execution_count": 125,
   "metadata": {},
   "outputs": [
    {
     "name": "stdout",
     "output_type": "stream",
     "text": [
      "[3, 5]\n",
      "[<__main__.Bicycle object at 0x000002695F491048>, <__main__.Bicycle object at 0x000002695F512320>, <__main__.Bicycle object at 0x000002695F512F98>, <__main__.Bicycle object at 0x000002695F51EAC8>, <__main__.Bicycle object at 0x000002695F516C88>, <__main__.Bicycle object at 0x000002695F516E80>, <__main__.Bicycle object at 0x000002695F516128>, <__main__.Bicycle object at 0x000002695F516F60>, <__main__.Bicycle object at 0x000002695F516550>, <__main__.Bicycle object at 0x000002695F516F28>, <__main__.Bicycle object at 0x000002695F516EB8>, <__main__.Bicycle object at 0x000002695F5166D8>, 0, 0, 0, 0, 0, 0, 0, 0, 0, 0, 0, 0, 0, 0, 0, 0, 0, 0, 0, 0, 0, 0, 0, 0, 0, 0, 0, 0, 0, 0, 0, 0, 0, 0, 0, 0, 0, 0, 0, 0, 0, 0, 0, 0, 0, 0, 0, 0, 0, 0, 0, 0, 0, 0, 0, 0, 0, 0, 0, 0, 0, 0, 0, 0, 0, 0, 0, 0, 0, 0, 0, 0, 0, 0, 0, 0, 0, 0, 0, 0, 0, 0, 0, 0, 0, 0, 0, 0]\n"
     ]
    }
   ],
   "source": [
    "kim = [3,5]\n",
    "print(kim)\n",
    "print(cycleclass)"
   ]
  }
 ],
 "metadata": {
  "kernelspec": {
   "display_name": "Python 3",
   "language": "python",
   "name": "python3"
  },
  "language_info": {
   "codemirror_mode": {
    "name": "ipython",
    "version": 3
   },
   "file_extension": ".py",
   "mimetype": "text/x-python",
   "name": "python",
   "nbconvert_exporter": "python",
   "pygments_lexer": "ipython3",
   "version": "3.6.4"
  }
 },
 "nbformat": 4,
 "nbformat_minor": 2
}
