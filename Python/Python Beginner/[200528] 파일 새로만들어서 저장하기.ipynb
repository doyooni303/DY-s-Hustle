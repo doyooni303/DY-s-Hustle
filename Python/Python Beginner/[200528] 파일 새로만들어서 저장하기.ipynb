{
 "cells": [
  {
   "cell_type": "code",
   "execution_count": 1,
   "metadata": {},
   "outputs": [
    {
     "name": "stdout",
     "output_type": "stream",
     "text": [
      "C:\\Users\\USER\\Desktop\\Data Science\\Python 연습\n"
     ]
    }
   ],
   "source": [
    "cd C:\\Users\\USER\\Desktop\\Data Science\\Python 연습"
   ]
  },
  {
   "cell_type": "code",
   "execution_count": 9,
   "metadata": {},
   "outputs": [
    {
     "name": "stdout",
     "output_type": "stream",
     "text": [
      "This is my first file.\n",
      "과연 이게 가능할까?\n",
      "나는 파이썬의 황제가 될테야\n"
     ]
    }
   ],
   "source": [
    "f=open('practicing.hwp','w')\n",
    "f.write('This is my first file.\\n')\n",
    "f.write('과연 이게 가능할까?\\n')\n",
    "f.write('나는 파이썬의 황제가 될테야\\n')\n",
    "f.close()\n",
    "\n",
    "!type practicing.hwp \n",
    "\n",
    "#얘는 텍스트 파일이면 그대로 불리는거고 아마 csv파일이면 테이블이 형성이 되겠찌?\n",
    "#오대박 이게 그대로 파일에 저장이 되는거야"
   ]
  },
  {
   "cell_type": "code",
   "execution_count": 11,
   "metadata": {},
   "outputs": [
    {
     "name": "stdout",
     "output_type": "stream",
     "text": [
      "This is my first file.\n"
     ]
    }
   ],
   "source": [
    "o=open('practicing.txt','r')\n",
    "data=o.read()\n",
    "o.close\n",
    "\n",
    "print(data)"
   ]
  },
  {
   "cell_type": "code",
   "execution_count": 16,
   "metadata": {},
   "outputs": [
    {
     "name": "stdout",
     "output_type": "stream",
     "text": [
      "성명: Doyoon David Kim\n",
      "입력된 이름이 없습니다.\n"
     ]
    }
   ],
   "source": [
    "def print_name(name):\n",
    "    if bool(type(name)==str):\n",
    "        print(\"성명:\",name)\n",
    "        \n",
    "    else:\n",
    "        print(\"입력된 이름이 없습니다.\")\n",
    "        \n",
    "#damn 이거 함수였네 ㄷㄷ\n",
    "\n",
    "print_name(\"Doyoon David Kim\")\n",
    "print_name(789)"
   ]
  },
  {
   "cell_type": "code",
   "execution_count": 18,
   "metadata": {},
   "outputs": [
    {
     "name": "stdout",
     "output_type": "stream",
     "text": [
      "abC Abb\n"
     ]
    }
   ],
   "source": [
    "myLetter={\"Abc\",\"Abb\",\"aBc\",\"abC\",\"Bac\",\"BCA\"}\n",
    "print(max(myLetter),min(myLetter))"
   ]
  }
 ],
 "metadata": {
  "kernelspec": {
   "display_name": "Python 3",
   "language": "python",
   "name": "python3"
  },
  "language_info": {
   "codemirror_mode": {
    "name": "ipython",
    "version": 3
   },
   "file_extension": ".py",
   "mimetype": "text/x-python",
   "name": "python",
   "nbconvert_exporter": "python",
   "pygments_lexer": "ipython3",
   "version": "3.6.4"
  }
 },
 "nbformat": 4,
 "nbformat_minor": 2
}
