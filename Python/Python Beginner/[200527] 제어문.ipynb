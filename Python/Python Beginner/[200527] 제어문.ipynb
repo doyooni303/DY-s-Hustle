{
 "cells": [
  {
   "cell_type": "code",
   "execution_count": 10,
   "metadata": {},
   "outputs": [
    {
     "name": "stdout",
     "output_type": "stream",
     "text": [
      "[85, 'B', 75, 'C', 95, 'A', 62, 'D', 95, 'A', 94, 'A', 62, 'D', 78, 'C', 95, 'A', 100, 'A']\n"
     ]
    }
   ],
   "source": [
    "scores=[85,75,95,62,95,94,62,78,95,100]\n",
    "grade=[]\n",
    "\n",
    "for i in range(len(scores)):\n",
    "    if scores[i]>=90:\n",
    "        grade.extend([scores[i],'A'])\n",
    "    elif 90>scores[i]>=80:\n",
    "        grade.extend([scores[i],'B'])\n",
    "    elif 80>scores[i]>=70:\n",
    "        grade.extend([scores[i],'C'])\n",
    "    elif 70>scores[i]>=60:\n",
    "        grade.extend([scores[i],'D'])\n",
    "    else:\n",
    "        grade.extend([scores[i],'F'])\n",
    "\n",
    "print(grade)"
   ]
  },
  {
   "cell_type": "code",
   "execution_count": 28,
   "metadata": {},
   "outputs": [
    {
     "name": "stdout",
     "output_type": "stream",
     "text": [
      "[scores,grade]= [[85, 'B'], [75, 'C'], [95, 'A'], [62, 'D'], [95, 'A'], [94, 'A'], [62, 'D'], [78, 'C'], [95, 'A'], [100, 'A']]\n"
     ]
    }
   ],
   "source": [
    "scores=[85,75,95,62,95,94,62,78,95,100] #append를 해도 리스트가 원소로 들어가서 내가 원하는 타입이 되는거지\n",
    "grade=[]\n",
    "gs=[]\n",
    "for i in range(len(scores)):\n",
    "    if scores[i]>=90:\n",
    "        grade.append(\"A\") \n",
    "        gs.append([scores[i],grade[i]])\n",
    "    elif 90>scores[i]>=80:\n",
    "        grade.append(\"B\") \n",
    "        gs.append([scores[i],grade[i]])\n",
    "    elif 80>scores[i]>=70:\n",
    "        grade.append(\"C\") \n",
    "        gs.append([scores[i],grade[i]])\n",
    "    elif 70>scores[i]>=60:\n",
    "        grade.append(\"D\") \n",
    "        gs.append([scores[i],grade[i]])\n",
    "    else:\n",
    "        grade.append('F')\n",
    "        gs.append([scores[i],grade[i]])    \n",
    "\n",
    "print('[scores,grade]=',gs)"
   ]
  },
  {
   "cell_type": "code",
   "execution_count": 45,
   "metadata": {},
   "outputs": [
    {
     "name": "stdout",
     "output_type": "stream",
     "text": [
      "[studentnumber/ scores / grade]\n",
      "1722 / 85 / B\n",
      "1283 / 75 / C\n",
      "1350 / 95 / A\n",
      "1953 / 62 / D\n",
      "1703 / 95 / A\n",
      "1825 / 94 / A\n",
      "1242 / 62 / D\n",
      "1058 / 78 / C\n",
      "1438 / 95 / A\n",
      "1811 / 100 / A\n"
     ]
    }
   ],
   "source": [
    "import random as rnd\n",
    "studentnumber= rnd.sample(list(range(1000,1999)),len(scores))#range는 타입으로 변환해야함\n",
    "print('[studentnumber/ scores / grade]')\n",
    "for i in range(len(scores)):\n",
    "    print(studentnumber[i],'/',scores[i],'/',grade[i])       "
   ]
  },
  {
   "cell_type": "code",
   "execution_count": 44,
   "metadata": {},
   "outputs": [
    {
     "data": {
      "text/plain": [
       "list"
      ]
     },
     "execution_count": 44,
     "metadata": {},
     "output_type": "execute_result"
    }
   ],
   "source": [
    "type(rnd.sample(list(range(1000,1999)),len(scores)))"
   ]
  },
  {
   "cell_type": "code",
   "execution_count": 3,
   "metadata": {},
   "outputs": [
    {
     "name": "stdout",
     "output_type": "stream",
     "text": [
      "[0, 2, 4, 6, 8]\n",
      "[10, 8, 6, 4, 2]\n",
      "[0, 2, 4, 6, 8, 10, 12, 14, 16, 18, 20, 22, 24, 26, 28, 30, 32, 34, 36, 38, 40, 42, 44, 46, 48, 50, 52, 54, 56, 58, 60, 62, 64, 66, 68, 70, 72, 74, 76, 78, 80, 82, 84, 86, 88, 90, 92, 94, 96, 98]\n"
     ]
    }
   ],
   "source": [
    "print(list(range(0,10,2))) \n",
    "print(list(range(10,0,-2)))\n",
    "even_number=list(range(0,100,2)) #꼭 리스트로 만들어줘야 한다.\n",
    "print(even_number)"
   ]
  },
  {
   "cell_type": "code",
   "execution_count": 69,
   "metadata": {},
   "outputs": [
    {
     "name": "stdout",
     "output_type": "stream",
     "text": [
      "[59, 79, 47, 35, 17, 23, 87, 1, 43, 65, 99, 77, 11, 83, 71, 5, 49, 21, 57, 61, 95, 27, 75, 55, 15]\n"
     ]
    },
    {
     "data": {
      "text/plain": [
       "[7,\n",
       " 15,\n",
       " 17,\n",
       " 65,\n",
       " 75,\n",
       " 9,\n",
       " 49,\n",
       " 13,\n",
       " 37,\n",
       " 27,\n",
       " 29,\n",
       " 53,\n",
       " 11,\n",
       " 35,\n",
       " 81,\n",
       " 51,\n",
       " 73,\n",
       " 43,\n",
       " 5,\n",
       " 85,\n",
       " 45,\n",
       " 57,\n",
       " 1,\n",
       " 71,\n",
       " 3]"
      ]
     },
     "execution_count": 69,
     "metadata": {},
     "output_type": "execute_result"
    }
   ],
   "source": [
    "rnd.seed(9)\n",
    "rnd10=rnd.sample(list(range(1,100,2)),25)\n",
    "print(rnd10) #난수 샘플 / 깔끔하게 결과를 보여주려면 print 를 쓰는게 좋을 듯\n",
    "rnd.sample(list(range(1,100,2)),25)"
   ]
  },
  {
   "cell_type": "code",
   "execution_count": 70,
   "metadata": {},
   "outputs": [],
   "source": [
    "coffee_menu=\" 에스프레소, 아메리카노,   카페라테,  카푸치노  \""
   ]
  },
  {
   "cell_type": "code",
   "execution_count": 77,
   "metadata": {},
   "outputs": [
    {
     "name": "stdout",
     "output_type": "stream",
     "text": [
      "[' 에스프레소', ' 아메리카노', '   카페라테', '  카푸치노  ']\n"
     ]
    }
   ],
   "source": [
    "coffee_menu_list=coffee_menu.split(',')\n",
    "print(coffee_menu_list)"
   ]
  },
  {
   "cell_type": "code",
   "execution_count": 78,
   "metadata": {},
   "outputs": [
    {
     "name": "stdout",
     "output_type": "stream",
     "text": [
      "Coffee_list:\n",
      " ['에스프레소', '아메리카노', '카페라테', '카푸치노']\n"
     ]
    }
   ],
   "source": [
    "coffee_list=[]\n",
    "for i in coffee_menu_list:#이때 i는 coffee_menu의 원소를 의미하기도 한다.\n",
    "    temp=i.strip()\n",
    "    coffee_list.append(temp)\n",
    "    \n",
    "print(\"Coffee_list:\\n\",coffee_list)"
   ]
  },
  {
   "cell_type": "code",
   "execution_count": 99,
   "metadata": {},
   "outputs": [
    {
     "name": "stdout",
     "output_type": "stream",
     "text": [
      "[n!=factorial]\n"
     ]
    },
    {
     "data": {
      "text/plain": [
       "[[1, 1], [2, 2], [3, 6], [4, 24], [5, 120], [6, 720], [7, 5040]]"
      ]
     },
     "execution_count": 99,
     "metadata": {},
     "output_type": "execute_result"
    }
   ],
   "source": [
    "i=0\n",
    "fac=1\n",
    "factorial=[]\n",
    "print(\"[n!=factorial]\")\n",
    "\n",
    "while True:\n",
    "    i=i+1\n",
    "    fac=fac*i\n",
    "    factorial.append([i,fac])\n",
    "    \n",
    "    if fac>10000 :\n",
    "        break\n",
    "\n",
    "#while구문이나 for구문에서 예를 들어 저렇게 10000을 넘기면 멈춰서 5040까지 나와야 하는데 만 보다 큰 다음 숫자가 오는 바람에        \n",
    "del factorial[-1]        #그냥 이렇게 마지막 수동으로 지워줘야 되는구먼\n",
    "\n",
    "factorial\n",
    "    "
   ]
  },
  {
   "cell_type": "code",
   "execution_count": 10,
   "metadata": {},
   "outputs": [
    {
     "name": "stdout",
     "output_type": "stream",
     "text": [
      "[numbers]\n",
      " [1, 3, 5, 7, 9, 11, 13, 15, 17, 19, 21, 23, 25, 27, 29, 31, 33, 35, 37, 39, 41, 43, 45, 47, 49, 51, 53, 55, 57, 59, 61, 63, 65, 67, 69, 71, 73, 75, 77, 79, 81, 83, 85, 87, 89, 91, 93, 95, 97, 99]\n",
      "[squares]\n",
      " [2601, 2809, 3025, 3249, 3481, 3721, 3969, 4225, 4489, 4761, 5041, 5329, 5625, 5929, 6241, 6561, 6889, 7225, 7569, 7921, 8281, 8649, 9025, 9409, 9801]\n"
     ]
    }
   ],
   "source": [
    "numbers=list(range(1,101,2))\n",
    "print(\"[numbers]\\n\",numbers)\n",
    "squares=[i**2 for i in numbers if i>50] #수열 내 숫자에 대한 거를 얘기하는거지\n",
    "print(\"[squares]\\n\",squares)"
   ]
  },
  {
   "cell_type": "code",
   "execution_count": 15,
   "metadata": {},
   "outputs": [
    {
     "name": "stdout",
     "output_type": "stream",
     "text": [
      "[numbers]:\n",
      " [1, 3, 5, 7, 9, 11, 13, 15, 17, 19, 21, 23, 25, 27, 29, 31, 33, 35, 37, 39, 41, 43, 45, 47, 49, 51, 53, 55, 57, 59, 61, 63, 65, 67, 69, 71, 73, 75, 77, 79, 81, 83, 85, 87, 89, 91, 93, 95, 97, 99]\n"
     ]
    }
   ],
   "source": [
    "print(\"[numbers]:\\n\",numbers)"
   ]
  },
  {
   "cell_type": "code",
   "execution_count": 35,
   "metadata": {},
   "outputs": [
    {
     "name": "stdout",
     "output_type": "stream",
     "text": [
      "[[1, 3.14], [2, 12.57], [3, 28.27], [4, 50.27], [5, 78.54], [6, 113.1], [7, 153.94], [8, 201.06], [9, 254.47], [10, 314.16]]\n"
     ]
    }
   ],
   "source": [
    "import math\n",
    "pi=math.pi\n",
    "\n",
    "circle=[]\n",
    "r=list(range(1,11))\n",
    "\n",
    "for i in range(len(r)):\n",
    "    circle.append([r[i],round(pi*(r[i]**2),2)])\n",
    "\n",
    "print(circle)\n"
   ]
  },
  {
   "cell_type": "code",
   "execution_count": 37,
   "metadata": {},
   "outputs": [
    {
     "name": "stdout",
     "output_type": "stream",
     "text": [
      "[반지름 :r, 원의 넓이: pi*r^2]\n",
      "\n",
      "반지름 :1, 원의 넓이: 3.140000\n",
      "반지름 :2, 원의 넓이: 12.570000\n",
      "반지름 :3, 원의 넓이: 28.270000\n",
      "반지름 :4, 원의 넓이: 50.270000\n",
      "반지름 :5, 원의 넓이: 78.540000\n",
      "반지름 :6, 원의 넓이: 113.100000\n",
      "반지름 :7, 원의 넓이: 153.940000\n",
      "반지름 :8, 원의 넓이: 201.060000\n",
      "반지름 :9, 원의 넓이: 254.470000\n",
      "반지름 :10, 원의 넓이: 314.160000\n",
      "\n",
      "[반지름 :r, 원의 넓이: pi*r^2]\n",
      "\n",
      "반지름 :1, 원의 넓이: 3.14\n",
      "반지름 :2, 원의 넓이: 12.57\n",
      "반지름 :3, 원의 넓이: 28.27\n",
      "반지름 :4, 원의 넓이: 50.27\n",
      "반지름 :5, 원의 넓이: 78.54\n",
      "반지름 :6, 원의 넓이: 113.10\n",
      "반지름 :7, 원의 넓이: 153.94\n",
      "반지름 :8, 원의 넓이: 201.06\n",
      "반지름 :9, 원의 넓이: 254.47\n",
      "반지름 :10, 원의 넓이: 314.16\n"
     ]
    }
   ],
   "source": [
    "print(\"[반지름 :r, 원의 넓이: pi*r^2]\\n\")\n",
    "for i in range(len(r)):\n",
    "    print(\"반지름 :%d, 원의 넓이: %f\"%(circle[i][0],circle[i][1])) #얘는 소숫점이 기본 6자리까지 나옴\n",
    "\n",
    "print(\"\\n[반지름 :r, 원의 넓이: pi*r^2]\\n\")\n",
    "for i in range(len(r)):\n",
    "    print(\"반지름 :%d, 원의 넓이: %.2f\"%(circle[i][0],circle[i][1])) #얘는 소숫점이 2자리까지 나옴 반올림 아님   "
   ]
  },
  {
   "cell_type": "code",
   "execution_count": 3,
   "metadata": {},
   "outputs": [
    {
     "name": "stdout",
     "output_type": "stream",
     "text": [
      "당신의 이름은? 조재원\n",
      "1\n"
     ]
    }
   ],
   "source": [
    "name=[\"김도윤\",\"조재원\",\"류주형\",\"김재현\",\"이현제\",\"김민수1\",\"김민수2\"]\n",
    "department=[\"계획과\",\"보좌관실\",\"지통실\",\"인사과\",\"법무부\",\"행정과\",\"정훈실\"]\n",
    "number=[\"3502\",\"3459\",\"2293\",\"3301\",\"4495\",\"9910\",\"2140\"]\n",
    "yearNum=\"16-7000\"\n",
    "yourname=input(\"당신의 이름은? \")\n",
    "yourname=str(yourname)\n",
    "search_index=name.index(yourname)\n",
    "print(search_index)"
   ]
  },
  {
   "cell_type": "code",
   "execution_count": 42,
   "metadata": {},
   "outputs": [
    {
     "name": "stdout",
     "output_type": "stream",
     "text": [
      "Name: 김도윤 / Department: 계획과 / Number: 3502\n",
      "Name: 조재원 / Department: 보좌관실 / Number: 3459\n",
      "Name: 류주형 / Department: 지통실 / Number: 2293\n",
      "Name: 김재현 / Department: 인사과 / Number: 3301\n",
      "Name: 이현제 / Department: 법무부 / Number: 4495\n",
      "Name: 김민수1 / Department: 행정과 / Number: 9910\n",
      "Name: 김민수2 / Department: 정훈실 / Number: 2140\n"
     ]
    }
   ],
   "source": [
    "fmt_string=\"Name: {0} / Department: {1} / Number: {2}\"\n",
    "\n",
    "for i in range(len(name)):\n",
    "    print(fmt_string.format(name[i],department[i],number[i]))"
   ]
  },
  {
   "cell_type": "code",
   "execution_count": 45,
   "metadata": {},
   "outputs": [
    {
     "data": {
      "text/plain": [
       "str"
      ]
     },
     "execution_count": 45,
     "metadata": {},
     "output_type": "execute_result"
    }
   ],
   "source": [
    "type(fmt_string)"
   ]
  },
  {
   "cell_type": "code",
   "execution_count": 10,
   "metadata": {},
   "outputs": [
    {
     "name": "stdout",
     "output_type": "stream",
     "text": [
      "당신의 이름은? 진영\n",
      "해당되는 이름이 없습니다.\n",
      "\n"
     ]
    }
   ],
   "source": [
    "yourname=input(\"당신의 이름은? \")\n",
    "yourname=str(yourname)\n",
    "\n",
    "if yourname in name:\n",
    "    search_index=name.index(yourname)\n",
    "\n",
    "    print(\"\\n[검색결과]\")\n",
    "    print(\"성명:{}\".format(yourname))\n",
    "    print(\"부서:\"+department[search_index])\n",
    "    print(\"군번:\"+yearNum+number[search_index])\n",
    "    \n",
    "else :\n",
    "    print(\"해당되는 이름이 없습니다.\\n\")"
   ]
  },
  {
   "cell_type": "code",
   "execution_count": null,
   "metadata": {},
   "outputs": [],
   "source": []
  }
 ],
 "metadata": {
  "kernelspec": {
   "display_name": "Python 3",
   "language": "python",
   "name": "python3"
  },
  "language_info": {
   "codemirror_mode": {
    "name": "ipython",
    "version": 3
   },
   "file_extension": ".py",
   "mimetype": "text/x-python",
   "name": "python",
   "nbconvert_exporter": "python",
   "pygments_lexer": "ipython3",
   "version": "3.6.4"
  }
 },
 "nbformat": 4,
 "nbformat_minor": 2
}
